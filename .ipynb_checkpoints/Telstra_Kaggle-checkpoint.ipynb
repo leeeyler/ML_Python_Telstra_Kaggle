{
 "cells": [
  {
   "cell_type": "markdown",
   "metadata": {},
   "source": [
    "# Telstra Network Disruptions\n",
    "\n",
    "Predicting service faults on Australia's largest telecommunications network\n",
    "\n",
    "Prepared by Lee Eyler"
   ]
  },
  {
   "cell_type": "markdown",
   "metadata": {},
   "source": [
    "### Importing Data / Exploring the Datasets"
   ]
  },
  {
   "cell_type": "code",
   "execution_count": 167,
   "metadata": {
    "collapsed": true
   },
   "outputs": [],
   "source": [
    "import pandas as pd\n",
    "import numpy as np\n",
    "import matplotlib.pyplot as plt\n",
    "from sklearn.preprocessing import OneHotEncoder\n",
    "% matplotlib inline"
   ]
  },
  {
   "cell_type": "code",
   "execution_count": 3,
   "metadata": {
    "collapsed": false
   },
   "outputs": [],
   "source": [
    "pd.set_option('display.max_columns', 400)\n",
    "pd.set_option('display.max_rows',200)"
   ]
  },
  {
   "cell_type": "code",
   "execution_count": 5,
   "metadata": {
    "collapsed": false
   },
   "outputs": [],
   "source": [
    "# read in data\n",
    "train = pd.read_csv('train.csv')\n",
    "test = pd.read_csv('test2.csv')\n",
    "severity_type = pd.read_csv('severity_type.csv')\n",
    "resource_type = pd.read_csv('resource_type.csv')\n",
    "log_feature = pd.read_csv('log_feature.csv')\n",
    "event_type = pd.read_csv('event_type.csv')"
   ]
  },
  {
   "cell_type": "code",
   "execution_count": 6,
   "metadata": {
    "collapsed": false
   },
   "outputs": [
    {
     "data": {
      "text/plain": [
       "(7381, 11171)"
      ]
     },
     "execution_count": 6,
     "metadata": {},
     "output_type": "execute_result"
    }
   ],
   "source": [
    "# lengths of datasets\n",
    "len(train), len(test)"
   ]
  },
  {
   "cell_type": "code",
   "execution_count": 7,
   "metadata": {
    "collapsed": false
   },
   "outputs": [],
   "source": [
    "# we will need the lists of ids for filtering purposes thoughout the notebook\n",
    "train_ids = train.id.tolist()\n",
    "test_ids = test.id.tolist()"
   ]
  },
  {
   "cell_type": "code",
   "execution_count": 8,
   "metadata": {
    "collapsed": false
   },
   "outputs": [
    {
     "data": {
      "text/plain": [
       "0    4784\n",
       "1    1871\n",
       "2     726\n",
       "Name: fault_severity, dtype: int64"
      ]
     },
     "execution_count": 8,
     "metadata": {},
     "output_type": "execute_result"
    }
   ],
   "source": [
    "# based on the training data, a fault_severity of 0 is the most likely to occur\n",
    "train.fault_severity.value_counts()"
   ]
  },
  {
   "cell_type": "code",
   "execution_count": 9,
   "metadata": {
    "collapsed": false
   },
   "outputs": [
    {
     "data": {
      "text/plain": [
       "(929, 5, 10, 386, 53)"
      ]
     },
     "execution_count": 9,
     "metadata": {},
     "output_type": "execute_result"
    }
   ],
   "source": [
    "# unique values for the various data sets\n",
    "len(train.location.unique()),len(severity_type.severity_type.unique()),len(resource_type.resource_type.unique()),len(log_feature.log_feature.unique()),len(event_type.event_type.unique())"
   ]
  },
  {
   "cell_type": "code",
   "execution_count": 10,
   "metadata": {
    "collapsed": false
   },
   "outputs": [
    {
     "data": {
      "text/plain": [
       "(18552, 18552, 18552, 18552)"
      ]
     },
     "execution_count": 10,
     "metadata": {},
     "output_type": "execute_result"
    }
   ],
   "source": [
    "# ensuring that all ids are accounted for in each data set\n",
    "len(severity_type.id.unique()),len(resource_type.id.unique()),len(log_feature.id.unique()),len(event_type.id.unique())"
   ]
  },
  {
   "cell_type": "code",
   "execution_count": 11,
   "metadata": {
    "collapsed": false
   },
   "outputs": [
    {
     "data": {
      "text/plain": [
       "severity_type 2    8737\n",
       "severity_type 1    8728\n",
       "severity_type 4    1014\n",
       "severity_type 5      65\n",
       "severity_type 3       8\n",
       "Name: severity_type, dtype: int64"
      ]
     },
     "execution_count": 11,
     "metadata": {},
     "output_type": "execute_result"
    }
   ],
   "source": [
    "# exploring the distribution of severity types\n",
    "severity_type.severity_type.value_counts()"
   ]
  },
  {
   "cell_type": "code",
   "execution_count": 12,
   "metadata": {
    "collapsed": false
   },
   "outputs": [
    {
     "data": {
      "text/plain": [
       "resource_type 8     10268\n",
       "resource_type 2      8918\n",
       "resource_type 6       582\n",
       "resource_type 7       498\n",
       "resource_type 4       330\n",
       "resource_type 9       190\n",
       "resource_type 3       145\n",
       "resource_type 10       73\n",
       "resource_type 1        58\n",
       "resource_type 5        14\n",
       "Name: resource_type, dtype: int64"
      ]
     },
     "execution_count": 12,
     "metadata": {},
     "output_type": "execute_result"
    }
   ],
   "source": [
    "# exploring the distribution of resource types\n",
    "resource_type.resource_type.value_counts()"
   ]
  },
  {
   "cell_type": "code",
   "execution_count": 13,
   "metadata": {
    "collapsed": false
   },
   "outputs": [
    {
     "data": {
      "text/plain": [
       "feature 312    5267\n",
       "feature 232    4754\n",
       "feature 82     3472\n",
       "feature 203    2823\n",
       "feature 313    2145\n",
       "feature 233    1901\n",
       "feature 307    1597\n",
       "feature 54     1573\n",
       "feature 170    1526\n",
       "feature 71     1514\n",
       "feature 315    1495\n",
       "feature 134    1419\n",
       "feature 80     1336\n",
       "feature 235    1294\n",
       "feature 193    1160\n",
       "feature 219    1152\n",
       "feature 68     1093\n",
       "feature 227    1080\n",
       "feature 314     950\n",
       "feature 201     902\n",
       "feature 234     882\n",
       "feature 73      868\n",
       "feature 195     783\n",
       "feature 301     707\n",
       "feature 309     627\n",
       "feature 55      564\n",
       "feature 229     560\n",
       "feature 273     491\n",
       "feature 308     484\n",
       "feature 368     462\n",
       "feature 376     460\n",
       "feature 171     459\n",
       "feature 228     438\n",
       "feature 283     420\n",
       "feature 306     412\n",
       "feature 291     401\n",
       "feature 310     399\n",
       "feature 230     367\n",
       "feature 70      364\n",
       "feature 345     321\n",
       "feature 81      305\n",
       "feature 191     301\n",
       "feature 375     295\n",
       "feature 202     277\n",
       "feature 56      244\n",
       "feature 221     235\n",
       "feature 172     214\n",
       "feature 209     209\n",
       "feature 179     207\n",
       "feature 87      207\n",
       "feature 75      192\n",
       "feature 290     191\n",
       "feature 44      187\n",
       "feature 160     179\n",
       "feature 74      169\n",
       "feature 182     157\n",
       "feature 316     152\n",
       "feature 196     148\n",
       "feature 94      140\n",
       "feature 207     137\n",
       "feature 222     134\n",
       "feature 374     129\n",
       "feature 135     126\n",
       "feature 223     121\n",
       "feature 51      113\n",
       "feature 181     110\n",
       "feature 163     107\n",
       "feature 211     104\n",
       "feature 47      101\n",
       "feature 305     101\n",
       "feature 236      94\n",
       "feature 360      92\n",
       "feature 220      92\n",
       "feature 167      87\n",
       "feature 197      87\n",
       "feature 362      86\n",
       "feature 289      77\n",
       "feature 204      77\n",
       "feature 39       77\n",
       "feature 76       74\n",
       "feature 311      73\n",
       "feature 198      70\n",
       "feature 109      70\n",
       "feature 154      65\n",
       "feature 103      64\n",
       "feature 62       64\n",
       "feature 280      63\n",
       "feature 153      62\n",
       "feature 206      61\n",
       "feature 276      61\n",
       "feature 285      60\n",
       "feature 133      56\n",
       "feature 85       55\n",
       "feature 155      53\n",
       "feature 95       51\n",
       "feature 86       50\n",
       "feature 349      49\n",
       "feature 38       48\n",
       "feature 378      46\n",
       "feature 318      44\n",
       "               ... \n",
       "feature 267       2\n",
       "feature 366       2\n",
       "feature 23        2\n",
       "feature 116       2\n",
       "feature 89        2\n",
       "feature 249       2\n",
       "feature 330       2\n",
       "feature 346       2\n",
       "feature 148       2\n",
       "feature 174       2\n",
       "feature 102       2\n",
       "feature 282       2\n",
       "feature 246       2\n",
       "feature 77        2\n",
       "feature 93        2\n",
       "feature 337       2\n",
       "feature 244       2\n",
       "feature 88        2\n",
       "feature 129       2\n",
       "feature 381       2\n",
       "feature 256       2\n",
       "feature 185       2\n",
       "feature 328       2\n",
       "feature 97        2\n",
       "feature 90        2\n",
       "feature 91        2\n",
       "feature 255       2\n",
       "feature 17        1\n",
       "feature 364       1\n",
       "feature 144       1\n",
       "feature 180       1\n",
       "feature 386       1\n",
       "feature 12        1\n",
       "feature 32        1\n",
       "feature 121       1\n",
       "feature 3         1\n",
       "feature 252       1\n",
       "feature 257       1\n",
       "feature 106       1\n",
       "feature 335       1\n",
       "feature 294       1\n",
       "feature 385       1\n",
       "feature 119       1\n",
       "feature 287       1\n",
       "feature 262       1\n",
       "feature 258       1\n",
       "feature 13        1\n",
       "feature 192       1\n",
       "feature 250       1\n",
       "feature 214       1\n",
       "feature 9         1\n",
       "feature 324       1\n",
       "feature 296       1\n",
       "feature 329       1\n",
       "feature 6         1\n",
       "feature 263       1\n",
       "feature 19        1\n",
       "feature 372       1\n",
       "feature 123       1\n",
       "feature 31        1\n",
       "feature 350       1\n",
       "feature 355       1\n",
       "feature 100       1\n",
       "feature 213       1\n",
       "feature 297       1\n",
       "feature 379       1\n",
       "feature 281       1\n",
       "feature 159       1\n",
       "feature 245       1\n",
       "feature 272       1\n",
       "feature 16        1\n",
       "feature 325       1\n",
       "feature 96        1\n",
       "feature 351       1\n",
       "feature 271       1\n",
       "feature 336       1\n",
       "feature 343       1\n",
       "feature 326       1\n",
       "feature 300       1\n",
       "feature 143       1\n",
       "feature 269       1\n",
       "feature 210       1\n",
       "feature 352       1\n",
       "feature 34        1\n",
       "feature 321       1\n",
       "feature 356       1\n",
       "feature 382       1\n",
       "feature 286       1\n",
       "feature 128       1\n",
       "feature 334       1\n",
       "feature 248       1\n",
       "feature 260       1\n",
       "feature 333       1\n",
       "feature 363       1\n",
       "feature 142       1\n",
       "feature 341       1\n",
       "feature 208       1\n",
       "feature 14        1\n",
       "feature 254       1\n",
       "feature 175       1\n",
       "Name: log_feature, dtype: int64"
      ]
     },
     "execution_count": 13,
     "metadata": {},
     "output_type": "execute_result"
    }
   ],
   "source": [
    "# exploring the distribution of feature types\n",
    "log_feature.log_feature.value_counts()"
   ]
  },
  {
   "cell_type": "code",
   "execution_count": 14,
   "metadata": {
    "collapsed": false
   },
   "outputs": [
    {
     "data": {
      "text/plain": [
       "event_type 11    7888\n",
       "event_type 35    6615\n",
       "event_type 34    5927\n",
       "event_type 15    4395\n",
       "event_type 20    1458\n",
       "event_type 54     684\n",
       "event_type 13     582\n",
       "event_type 42     478\n",
       "event_type 44     466\n",
       "event_type 23     429\n",
       "event_type 14     330\n",
       "event_type 43     306\n",
       "event_type 22     223\n",
       "event_type 50     154\n",
       "event_type 10     145\n",
       "event_type 21     136\n",
       "event_type 18      73\n",
       "event_type 47      69\n",
       "event_type 26      65\n",
       "event_type 32      63\n",
       "event_type 30      60\n",
       "event_type 45      53\n",
       "event_type 24      46\n",
       "event_type 27      44\n",
       "event_type 29      42\n",
       "event_type 40      40\n",
       "event_type 46      38\n",
       "event_type 2       37\n",
       "event_type 28      32\n",
       "event_type 8       29\n",
       "event_type 6       28\n",
       "event_type 5       26\n",
       "event_type 7       24\n",
       "event_type 38      19\n",
       "event_type 3       19\n",
       "event_type 36      18\n",
       "event_type 39      18\n",
       "event_type 49      17\n",
       "event_type 53      17\n",
       "event_type 19      14\n",
       "event_type 9       14\n",
       "event_type 31      10\n",
       "event_type 37      10\n",
       "event_type 12       6\n",
       "event_type 25       5\n",
       "event_type 51       4\n",
       "event_type 1        4\n",
       "event_type 17       3\n",
       "event_type 41       2\n",
       "event_type 48       2\n",
       "event_type 4        1\n",
       "event_type 52       1\n",
       "event_type 33       1\n",
       "Name: event_type, dtype: int64"
      ]
     },
     "execution_count": 14,
     "metadata": {},
     "output_type": "execute_result"
    }
   ],
   "source": [
    "# exploring the distribution of event types\n",
    "event_type.event_type.value_counts()"
   ]
  },
  {
   "cell_type": "markdown",
   "metadata": {},
   "source": [
    "##### Main Takeaways from Brief Data Exploration\n",
    "\n",
    "The distribution of class labels is a bit skewed.  \n",
    "\n",
    "All categorical variables will need to be tranformed into dummy variables.\n",
    "\n",
    "Most of the feature data sets seem to have edge cases.  If there was time to experiment with feature engineering, I would recommend trying to group together some of the smaller volume categories in order to reduce dimensionality. \n",
    "\n",
    "It would also be interesting to try another dimensionality technique such as PCA or LDA.\n"
   ]
  },
  {
   "cell_type": "markdown",
   "metadata": {},
   "source": [
    "## Creating Dummy Variables for Categorical Data"
   ]
  },
  {
   "cell_type": "markdown",
   "metadata": {},
   "source": [
    "###### Severity Type One Hot Encoding"
   ]
  },
  {
   "cell_type": "code",
   "execution_count": 15,
   "metadata": {
    "collapsed": false
   },
   "outputs": [
    {
     "data": {
      "text/html": [
       "<div>\n",
       "<table border=\"1\" class=\"dataframe\">\n",
       "  <thead>\n",
       "    <tr style=\"text-align: right;\">\n",
       "      <th></th>\n",
       "      <th>id</th>\n",
       "      <th>severity_type_severity_type 1</th>\n",
       "      <th>severity_type_severity_type 2</th>\n",
       "      <th>severity_type_severity_type 3</th>\n",
       "      <th>severity_type_severity_type 4</th>\n",
       "      <th>severity_type_severity_type 5</th>\n",
       "    </tr>\n",
       "  </thead>\n",
       "  <tbody>\n",
       "    <tr>\n",
       "      <th>0</th>\n",
       "      <td>6597</td>\n",
       "      <td>0.0</td>\n",
       "      <td>1.0</td>\n",
       "      <td>0.0</td>\n",
       "      <td>0.0</td>\n",
       "      <td>0.0</td>\n",
       "    </tr>\n",
       "    <tr>\n",
       "      <th>1</th>\n",
       "      <td>8011</td>\n",
       "      <td>0.0</td>\n",
       "      <td>1.0</td>\n",
       "      <td>0.0</td>\n",
       "      <td>0.0</td>\n",
       "      <td>0.0</td>\n",
       "    </tr>\n",
       "    <tr>\n",
       "      <th>2</th>\n",
       "      <td>2597</td>\n",
       "      <td>0.0</td>\n",
       "      <td>1.0</td>\n",
       "      <td>0.0</td>\n",
       "      <td>0.0</td>\n",
       "      <td>0.0</td>\n",
       "    </tr>\n",
       "  </tbody>\n",
       "</table>\n",
       "</div>"
      ],
      "text/plain": [
       "     id  severity_type_severity_type 1  severity_type_severity_type 2  \\\n",
       "0  6597                            0.0                            1.0   \n",
       "1  8011                            0.0                            1.0   \n",
       "2  2597                            0.0                            1.0   \n",
       "\n",
       "   severity_type_severity_type 3  severity_type_severity_type 4  \\\n",
       "0                            0.0                            0.0   \n",
       "1                            0.0                            0.0   \n",
       "2                            0.0                            0.0   \n",
       "\n",
       "   severity_type_severity_type 5  \n",
       "0                            0.0  \n",
       "1                            0.0  \n",
       "2                            0.0  "
      ]
     },
     "execution_count": 15,
     "metadata": {},
     "output_type": "execute_result"
    }
   ],
   "source": [
    "severity_type_ohe = pd.get_dummies(severity_type[['id','severity_type']])\n",
    "severity_type_ohe.head(3)"
   ]
  },
  {
   "cell_type": "code",
   "execution_count": 16,
   "metadata": {
    "collapsed": false
   },
   "outputs": [
    {
     "data": {
      "text/plain": [
       "18552"
      ]
     },
     "execution_count": 16,
     "metadata": {},
     "output_type": "execute_result"
    }
   ],
   "source": [
    "len(severity_type_ohe)"
   ]
  },
  {
   "cell_type": "markdown",
   "metadata": {},
   "source": [
    "##### Resource Type One Hot Encoding"
   ]
  },
  {
   "cell_type": "code",
   "execution_count": 17,
   "metadata": {
    "collapsed": false
   },
   "outputs": [
    {
     "data": {
      "text/html": [
       "<div>\n",
       "<table border=\"1\" class=\"dataframe\">\n",
       "  <thead>\n",
       "    <tr style=\"text-align: right;\">\n",
       "      <th></th>\n",
       "      <th>id</th>\n",
       "      <th>resource_type_resource_type 1</th>\n",
       "      <th>resource_type_resource_type 10</th>\n",
       "      <th>resource_type_resource_type 2</th>\n",
       "      <th>resource_type_resource_type 3</th>\n",
       "      <th>resource_type_resource_type 4</th>\n",
       "      <th>resource_type_resource_type 5</th>\n",
       "      <th>resource_type_resource_type 6</th>\n",
       "      <th>resource_type_resource_type 7</th>\n",
       "      <th>resource_type_resource_type 8</th>\n",
       "      <th>resource_type_resource_type 9</th>\n",
       "    </tr>\n",
       "  </thead>\n",
       "  <tbody>\n",
       "    <tr>\n",
       "      <th>0</th>\n",
       "      <td>6597</td>\n",
       "      <td>0.0</td>\n",
       "      <td>0.0</td>\n",
       "      <td>0.0</td>\n",
       "      <td>0.0</td>\n",
       "      <td>0.0</td>\n",
       "      <td>0.0</td>\n",
       "      <td>0.0</td>\n",
       "      <td>0.0</td>\n",
       "      <td>1.0</td>\n",
       "      <td>0.0</td>\n",
       "    </tr>\n",
       "    <tr>\n",
       "      <th>1</th>\n",
       "      <td>8011</td>\n",
       "      <td>0.0</td>\n",
       "      <td>0.0</td>\n",
       "      <td>0.0</td>\n",
       "      <td>0.0</td>\n",
       "      <td>0.0</td>\n",
       "      <td>0.0</td>\n",
       "      <td>0.0</td>\n",
       "      <td>0.0</td>\n",
       "      <td>1.0</td>\n",
       "      <td>0.0</td>\n",
       "    </tr>\n",
       "    <tr>\n",
       "      <th>2</th>\n",
       "      <td>2597</td>\n",
       "      <td>0.0</td>\n",
       "      <td>0.0</td>\n",
       "      <td>0.0</td>\n",
       "      <td>0.0</td>\n",
       "      <td>0.0</td>\n",
       "      <td>0.0</td>\n",
       "      <td>0.0</td>\n",
       "      <td>0.0</td>\n",
       "      <td>1.0</td>\n",
       "      <td>0.0</td>\n",
       "    </tr>\n",
       "  </tbody>\n",
       "</table>\n",
       "</div>"
      ],
      "text/plain": [
       "     id  resource_type_resource_type 1  resource_type_resource_type 10  \\\n",
       "0  6597                            0.0                             0.0   \n",
       "1  8011                            0.0                             0.0   \n",
       "2  2597                            0.0                             0.0   \n",
       "\n",
       "   resource_type_resource_type 2  resource_type_resource_type 3  \\\n",
       "0                            0.0                            0.0   \n",
       "1                            0.0                            0.0   \n",
       "2                            0.0                            0.0   \n",
       "\n",
       "   resource_type_resource_type 4  resource_type_resource_type 5  \\\n",
       "0                            0.0                            0.0   \n",
       "1                            0.0                            0.0   \n",
       "2                            0.0                            0.0   \n",
       "\n",
       "   resource_type_resource_type 6  resource_type_resource_type 7  \\\n",
       "0                            0.0                            0.0   \n",
       "1                            0.0                            0.0   \n",
       "2                            0.0                            0.0   \n",
       "\n",
       "   resource_type_resource_type 8  resource_type_resource_type 9  \n",
       "0                            1.0                            0.0  \n",
       "1                            1.0                            0.0  \n",
       "2                            1.0                            0.0  "
      ]
     },
     "execution_count": 17,
     "metadata": {},
     "output_type": "execute_result"
    }
   ],
   "source": [
    "resource_type_ohe = pd.get_dummies(resource_type[['id','resource_type']])\n",
    "resource_type_ohe.head(3)"
   ]
  },
  {
   "cell_type": "code",
   "execution_count": 18,
   "metadata": {
    "collapsed": false
   },
   "outputs": [
    {
     "data": {
      "text/plain": [
       "21076"
      ]
     },
     "execution_count": 18,
     "metadata": {},
     "output_type": "execute_result"
    }
   ],
   "source": [
    "len(resource_type_ohe)"
   ]
  },
  {
   "cell_type": "code",
   "execution_count": 19,
   "metadata": {
    "collapsed": false
   },
   "outputs": [
    {
     "data": {
      "text/html": [
       "<div>\n",
       "<table border=\"1\" class=\"dataframe\">\n",
       "  <thead>\n",
       "    <tr style=\"text-align: right;\">\n",
       "      <th></th>\n",
       "      <th>id</th>\n",
       "      <th>resource_type_resource_type 1</th>\n",
       "      <th>resource_type_resource_type 10</th>\n",
       "      <th>resource_type_resource_type 2</th>\n",
       "      <th>resource_type_resource_type 3</th>\n",
       "      <th>resource_type_resource_type 4</th>\n",
       "      <th>resource_type_resource_type 5</th>\n",
       "      <th>resource_type_resource_type 6</th>\n",
       "      <th>resource_type_resource_type 7</th>\n",
       "      <th>resource_type_resource_type 8</th>\n",
       "      <th>resource_type_resource_type 9</th>\n",
       "    </tr>\n",
       "  </thead>\n",
       "  <tbody>\n",
       "    <tr>\n",
       "      <th>0</th>\n",
       "      <td>1</td>\n",
       "      <td>2</td>\n",
       "      <td>2</td>\n",
       "      <td>2</td>\n",
       "      <td>2</td>\n",
       "      <td>2</td>\n",
       "      <td>2</td>\n",
       "      <td>2</td>\n",
       "      <td>2</td>\n",
       "      <td>2</td>\n",
       "      <td>2</td>\n",
       "    </tr>\n",
       "    <tr>\n",
       "      <th>1</th>\n",
       "      <td>2</td>\n",
       "      <td>1</td>\n",
       "      <td>1</td>\n",
       "      <td>1</td>\n",
       "      <td>1</td>\n",
       "      <td>1</td>\n",
       "      <td>1</td>\n",
       "      <td>1</td>\n",
       "      <td>1</td>\n",
       "      <td>1</td>\n",
       "      <td>1</td>\n",
       "    </tr>\n",
       "    <tr>\n",
       "      <th>2</th>\n",
       "      <td>3</td>\n",
       "      <td>1</td>\n",
       "      <td>1</td>\n",
       "      <td>1</td>\n",
       "      <td>1</td>\n",
       "      <td>1</td>\n",
       "      <td>1</td>\n",
       "      <td>1</td>\n",
       "      <td>1</td>\n",
       "      <td>1</td>\n",
       "      <td>1</td>\n",
       "    </tr>\n",
       "  </tbody>\n",
       "</table>\n",
       "</div>"
      ],
      "text/plain": [
       "   id  resource_type_resource_type 1  resource_type_resource_type 10  \\\n",
       "0   1                              2                               2   \n",
       "1   2                              1                               1   \n",
       "2   3                              1                               1   \n",
       "\n",
       "   resource_type_resource_type 2  resource_type_resource_type 3  \\\n",
       "0                              2                              2   \n",
       "1                              1                              1   \n",
       "2                              1                              1   \n",
       "\n",
       "   resource_type_resource_type 4  resource_type_resource_type 5  \\\n",
       "0                              2                              2   \n",
       "1                              1                              1   \n",
       "2                              1                              1   \n",
       "\n",
       "   resource_type_resource_type 6  resource_type_resource_type 7  \\\n",
       "0                              2                              2   \n",
       "1                              1                              1   \n",
       "2                              1                              1   \n",
       "\n",
       "   resource_type_resource_type 8  resource_type_resource_type 9  \n",
       "0                              2                              2  \n",
       "1                              1                              1  \n",
       "2                              1                              1  "
      ]
     },
     "execution_count": 19,
     "metadata": {},
     "output_type": "execute_result"
    }
   ],
   "source": [
    "resource_type_ohe_grp = resource_type_ohe.groupby('id', as_index=False).count()\n",
    "resource_type_ohe_grp.head(3)"
   ]
  },
  {
   "cell_type": "code",
   "execution_count": 20,
   "metadata": {
    "collapsed": false
   },
   "outputs": [
    {
     "data": {
      "text/plain": [
       "18552"
      ]
     },
     "execution_count": 20,
     "metadata": {},
     "output_type": "execute_result"
    }
   ],
   "source": [
    "len(resource_type_ohe_grp)"
   ]
  },
  {
   "cell_type": "markdown",
   "metadata": {},
   "source": [
    "##### Event Type One Hot Encoding"
   ]
  },
  {
   "cell_type": "code",
   "execution_count": 21,
   "metadata": {
    "collapsed": false
   },
   "outputs": [
    {
     "data": {
      "text/html": [
       "<div>\n",
       "<table border=\"1\" class=\"dataframe\">\n",
       "  <thead>\n",
       "    <tr style=\"text-align: right;\">\n",
       "      <th></th>\n",
       "      <th>id</th>\n",
       "      <th>event_type_event_type 1</th>\n",
       "      <th>event_type_event_type 10</th>\n",
       "      <th>event_type_event_type 11</th>\n",
       "      <th>event_type_event_type 12</th>\n",
       "      <th>event_type_event_type 13</th>\n",
       "      <th>event_type_event_type 14</th>\n",
       "      <th>event_type_event_type 15</th>\n",
       "      <th>event_type_event_type 17</th>\n",
       "      <th>event_type_event_type 18</th>\n",
       "      <th>event_type_event_type 19</th>\n",
       "      <th>event_type_event_type 2</th>\n",
       "      <th>event_type_event_type 20</th>\n",
       "      <th>event_type_event_type 21</th>\n",
       "      <th>event_type_event_type 22</th>\n",
       "      <th>event_type_event_type 23</th>\n",
       "      <th>event_type_event_type 24</th>\n",
       "      <th>event_type_event_type 25</th>\n",
       "      <th>event_type_event_type 26</th>\n",
       "      <th>event_type_event_type 27</th>\n",
       "      <th>event_type_event_type 28</th>\n",
       "      <th>event_type_event_type 29</th>\n",
       "      <th>event_type_event_type 3</th>\n",
       "      <th>event_type_event_type 30</th>\n",
       "      <th>event_type_event_type 31</th>\n",
       "      <th>event_type_event_type 32</th>\n",
       "      <th>event_type_event_type 33</th>\n",
       "      <th>event_type_event_type 34</th>\n",
       "      <th>event_type_event_type 35</th>\n",
       "      <th>event_type_event_type 36</th>\n",
       "      <th>event_type_event_type 37</th>\n",
       "      <th>event_type_event_type 38</th>\n",
       "      <th>event_type_event_type 39</th>\n",
       "      <th>event_type_event_type 4</th>\n",
       "      <th>event_type_event_type 40</th>\n",
       "      <th>event_type_event_type 41</th>\n",
       "      <th>event_type_event_type 42</th>\n",
       "      <th>event_type_event_type 43</th>\n",
       "      <th>event_type_event_type 44</th>\n",
       "      <th>event_type_event_type 45</th>\n",
       "      <th>event_type_event_type 46</th>\n",
       "      <th>event_type_event_type 47</th>\n",
       "      <th>event_type_event_type 48</th>\n",
       "      <th>event_type_event_type 49</th>\n",
       "      <th>event_type_event_type 5</th>\n",
       "      <th>event_type_event_type 50</th>\n",
       "      <th>event_type_event_type 51</th>\n",
       "      <th>event_type_event_type 52</th>\n",
       "      <th>event_type_event_type 53</th>\n",
       "      <th>event_type_event_type 54</th>\n",
       "      <th>event_type_event_type 6</th>\n",
       "      <th>event_type_event_type 7</th>\n",
       "      <th>event_type_event_type 8</th>\n",
       "      <th>event_type_event_type 9</th>\n",
       "    </tr>\n",
       "  </thead>\n",
       "  <tbody>\n",
       "    <tr>\n",
       "      <th>0</th>\n",
       "      <td>6597</td>\n",
       "      <td>0.0</td>\n",
       "      <td>0.0</td>\n",
       "      <td>1.0</td>\n",
       "      <td>0.0</td>\n",
       "      <td>0.0</td>\n",
       "      <td>0.0</td>\n",
       "      <td>0.0</td>\n",
       "      <td>0.0</td>\n",
       "      <td>0.0</td>\n",
       "      <td>0.0</td>\n",
       "      <td>0.0</td>\n",
       "      <td>0.0</td>\n",
       "      <td>0.0</td>\n",
       "      <td>0.0</td>\n",
       "      <td>0.0</td>\n",
       "      <td>0.0</td>\n",
       "      <td>0.0</td>\n",
       "      <td>0.0</td>\n",
       "      <td>0.0</td>\n",
       "      <td>0.0</td>\n",
       "      <td>0.0</td>\n",
       "      <td>0.0</td>\n",
       "      <td>0.0</td>\n",
       "      <td>0.0</td>\n",
       "      <td>0.0</td>\n",
       "      <td>0.0</td>\n",
       "      <td>0.0</td>\n",
       "      <td>0.0</td>\n",
       "      <td>0.0</td>\n",
       "      <td>0.0</td>\n",
       "      <td>0.0</td>\n",
       "      <td>0.0</td>\n",
       "      <td>0.0</td>\n",
       "      <td>0.0</td>\n",
       "      <td>0.0</td>\n",
       "      <td>0.0</td>\n",
       "      <td>0.0</td>\n",
       "      <td>0.0</td>\n",
       "      <td>0.0</td>\n",
       "      <td>0.0</td>\n",
       "      <td>0.0</td>\n",
       "      <td>0.0</td>\n",
       "      <td>0.0</td>\n",
       "      <td>0.0</td>\n",
       "      <td>0.0</td>\n",
       "      <td>0.0</td>\n",
       "      <td>0.0</td>\n",
       "      <td>0.0</td>\n",
       "      <td>0.0</td>\n",
       "      <td>0.0</td>\n",
       "      <td>0.0</td>\n",
       "      <td>0.0</td>\n",
       "      <td>0.0</td>\n",
       "    </tr>\n",
       "    <tr>\n",
       "      <th>1</th>\n",
       "      <td>8011</td>\n",
       "      <td>0.0</td>\n",
       "      <td>0.0</td>\n",
       "      <td>0.0</td>\n",
       "      <td>0.0</td>\n",
       "      <td>0.0</td>\n",
       "      <td>0.0</td>\n",
       "      <td>1.0</td>\n",
       "      <td>0.0</td>\n",
       "      <td>0.0</td>\n",
       "      <td>0.0</td>\n",
       "      <td>0.0</td>\n",
       "      <td>0.0</td>\n",
       "      <td>0.0</td>\n",
       "      <td>0.0</td>\n",
       "      <td>0.0</td>\n",
       "      <td>0.0</td>\n",
       "      <td>0.0</td>\n",
       "      <td>0.0</td>\n",
       "      <td>0.0</td>\n",
       "      <td>0.0</td>\n",
       "      <td>0.0</td>\n",
       "      <td>0.0</td>\n",
       "      <td>0.0</td>\n",
       "      <td>0.0</td>\n",
       "      <td>0.0</td>\n",
       "      <td>0.0</td>\n",
       "      <td>0.0</td>\n",
       "      <td>0.0</td>\n",
       "      <td>0.0</td>\n",
       "      <td>0.0</td>\n",
       "      <td>0.0</td>\n",
       "      <td>0.0</td>\n",
       "      <td>0.0</td>\n",
       "      <td>0.0</td>\n",
       "      <td>0.0</td>\n",
       "      <td>0.0</td>\n",
       "      <td>0.0</td>\n",
       "      <td>0.0</td>\n",
       "      <td>0.0</td>\n",
       "      <td>0.0</td>\n",
       "      <td>0.0</td>\n",
       "      <td>0.0</td>\n",
       "      <td>0.0</td>\n",
       "      <td>0.0</td>\n",
       "      <td>0.0</td>\n",
       "      <td>0.0</td>\n",
       "      <td>0.0</td>\n",
       "      <td>0.0</td>\n",
       "      <td>0.0</td>\n",
       "      <td>0.0</td>\n",
       "      <td>0.0</td>\n",
       "      <td>0.0</td>\n",
       "      <td>0.0</td>\n",
       "    </tr>\n",
       "    <tr>\n",
       "      <th>2</th>\n",
       "      <td>2597</td>\n",
       "      <td>0.0</td>\n",
       "      <td>0.0</td>\n",
       "      <td>0.0</td>\n",
       "      <td>0.0</td>\n",
       "      <td>0.0</td>\n",
       "      <td>0.0</td>\n",
       "      <td>1.0</td>\n",
       "      <td>0.0</td>\n",
       "      <td>0.0</td>\n",
       "      <td>0.0</td>\n",
       "      <td>0.0</td>\n",
       "      <td>0.0</td>\n",
       "      <td>0.0</td>\n",
       "      <td>0.0</td>\n",
       "      <td>0.0</td>\n",
       "      <td>0.0</td>\n",
       "      <td>0.0</td>\n",
       "      <td>0.0</td>\n",
       "      <td>0.0</td>\n",
       "      <td>0.0</td>\n",
       "      <td>0.0</td>\n",
       "      <td>0.0</td>\n",
       "      <td>0.0</td>\n",
       "      <td>0.0</td>\n",
       "      <td>0.0</td>\n",
       "      <td>0.0</td>\n",
       "      <td>0.0</td>\n",
       "      <td>0.0</td>\n",
       "      <td>0.0</td>\n",
       "      <td>0.0</td>\n",
       "      <td>0.0</td>\n",
       "      <td>0.0</td>\n",
       "      <td>0.0</td>\n",
       "      <td>0.0</td>\n",
       "      <td>0.0</td>\n",
       "      <td>0.0</td>\n",
       "      <td>0.0</td>\n",
       "      <td>0.0</td>\n",
       "      <td>0.0</td>\n",
       "      <td>0.0</td>\n",
       "      <td>0.0</td>\n",
       "      <td>0.0</td>\n",
       "      <td>0.0</td>\n",
       "      <td>0.0</td>\n",
       "      <td>0.0</td>\n",
       "      <td>0.0</td>\n",
       "      <td>0.0</td>\n",
       "      <td>0.0</td>\n",
       "      <td>0.0</td>\n",
       "      <td>0.0</td>\n",
       "      <td>0.0</td>\n",
       "      <td>0.0</td>\n",
       "      <td>0.0</td>\n",
       "    </tr>\n",
       "  </tbody>\n",
       "</table>\n",
       "</div>"
      ],
      "text/plain": [
       "     id  event_type_event_type 1  event_type_event_type 10  \\\n",
       "0  6597                      0.0                       0.0   \n",
       "1  8011                      0.0                       0.0   \n",
       "2  2597                      0.0                       0.0   \n",
       "\n",
       "   event_type_event_type 11  event_type_event_type 12  \\\n",
       "0                       1.0                       0.0   \n",
       "1                       0.0                       0.0   \n",
       "2                       0.0                       0.0   \n",
       "\n",
       "   event_type_event_type 13  event_type_event_type 14  \\\n",
       "0                       0.0                       0.0   \n",
       "1                       0.0                       0.0   \n",
       "2                       0.0                       0.0   \n",
       "\n",
       "   event_type_event_type 15  event_type_event_type 17  \\\n",
       "0                       0.0                       0.0   \n",
       "1                       1.0                       0.0   \n",
       "2                       1.0                       0.0   \n",
       "\n",
       "   event_type_event_type 18  event_type_event_type 19  \\\n",
       "0                       0.0                       0.0   \n",
       "1                       0.0                       0.0   \n",
       "2                       0.0                       0.0   \n",
       "\n",
       "   event_type_event_type 2  event_type_event_type 20  \\\n",
       "0                      0.0                       0.0   \n",
       "1                      0.0                       0.0   \n",
       "2                      0.0                       0.0   \n",
       "\n",
       "   event_type_event_type 21  event_type_event_type 22  \\\n",
       "0                       0.0                       0.0   \n",
       "1                       0.0                       0.0   \n",
       "2                       0.0                       0.0   \n",
       "\n",
       "   event_type_event_type 23  event_type_event_type 24  \\\n",
       "0                       0.0                       0.0   \n",
       "1                       0.0                       0.0   \n",
       "2                       0.0                       0.0   \n",
       "\n",
       "   event_type_event_type 25  event_type_event_type 26  \\\n",
       "0                       0.0                       0.0   \n",
       "1                       0.0                       0.0   \n",
       "2                       0.0                       0.0   \n",
       "\n",
       "   event_type_event_type 27  event_type_event_type 28  \\\n",
       "0                       0.0                       0.0   \n",
       "1                       0.0                       0.0   \n",
       "2                       0.0                       0.0   \n",
       "\n",
       "   event_type_event_type 29  event_type_event_type 3  \\\n",
       "0                       0.0                      0.0   \n",
       "1                       0.0                      0.0   \n",
       "2                       0.0                      0.0   \n",
       "\n",
       "   event_type_event_type 30  event_type_event_type 31  \\\n",
       "0                       0.0                       0.0   \n",
       "1                       0.0                       0.0   \n",
       "2                       0.0                       0.0   \n",
       "\n",
       "   event_type_event_type 32  event_type_event_type 33  \\\n",
       "0                       0.0                       0.0   \n",
       "1                       0.0                       0.0   \n",
       "2                       0.0                       0.0   \n",
       "\n",
       "   event_type_event_type 34  event_type_event_type 35  \\\n",
       "0                       0.0                       0.0   \n",
       "1                       0.0                       0.0   \n",
       "2                       0.0                       0.0   \n",
       "\n",
       "   event_type_event_type 36  event_type_event_type 37  \\\n",
       "0                       0.0                       0.0   \n",
       "1                       0.0                       0.0   \n",
       "2                       0.0                       0.0   \n",
       "\n",
       "   event_type_event_type 38  event_type_event_type 39  \\\n",
       "0                       0.0                       0.0   \n",
       "1                       0.0                       0.0   \n",
       "2                       0.0                       0.0   \n",
       "\n",
       "   event_type_event_type 4  event_type_event_type 40  \\\n",
       "0                      0.0                       0.0   \n",
       "1                      0.0                       0.0   \n",
       "2                      0.0                       0.0   \n",
       "\n",
       "   event_type_event_type 41  event_type_event_type 42  \\\n",
       "0                       0.0                       0.0   \n",
       "1                       0.0                       0.0   \n",
       "2                       0.0                       0.0   \n",
       "\n",
       "   event_type_event_type 43  event_type_event_type 44  \\\n",
       "0                       0.0                       0.0   \n",
       "1                       0.0                       0.0   \n",
       "2                       0.0                       0.0   \n",
       "\n",
       "   event_type_event_type 45  event_type_event_type 46  \\\n",
       "0                       0.0                       0.0   \n",
       "1                       0.0                       0.0   \n",
       "2                       0.0                       0.0   \n",
       "\n",
       "   event_type_event_type 47  event_type_event_type 48  \\\n",
       "0                       0.0                       0.0   \n",
       "1                       0.0                       0.0   \n",
       "2                       0.0                       0.0   \n",
       "\n",
       "   event_type_event_type 49  event_type_event_type 5  \\\n",
       "0                       0.0                      0.0   \n",
       "1                       0.0                      0.0   \n",
       "2                       0.0                      0.0   \n",
       "\n",
       "   event_type_event_type 50  event_type_event_type 51  \\\n",
       "0                       0.0                       0.0   \n",
       "1                       0.0                       0.0   \n",
       "2                       0.0                       0.0   \n",
       "\n",
       "   event_type_event_type 52  event_type_event_type 53  \\\n",
       "0                       0.0                       0.0   \n",
       "1                       0.0                       0.0   \n",
       "2                       0.0                       0.0   \n",
       "\n",
       "   event_type_event_type 54  event_type_event_type 6  event_type_event_type 7  \\\n",
       "0                       0.0                      0.0                      0.0   \n",
       "1                       0.0                      0.0                      0.0   \n",
       "2                       0.0                      0.0                      0.0   \n",
       "\n",
       "   event_type_event_type 8  event_type_event_type 9  \n",
       "0                      0.0                      0.0  \n",
       "1                      0.0                      0.0  \n",
       "2                      0.0                      0.0  "
      ]
     },
     "execution_count": 21,
     "metadata": {},
     "output_type": "execute_result"
    }
   ],
   "source": [
    "event_type_ohe = pd.get_dummies(event_type[['id','event_type']])\n",
    "event_type_ohe.head(3)"
   ]
  },
  {
   "cell_type": "code",
   "execution_count": 22,
   "metadata": {
    "collapsed": false
   },
   "outputs": [
    {
     "data": {
      "text/plain": [
       "31170"
      ]
     },
     "execution_count": 22,
     "metadata": {},
     "output_type": "execute_result"
    }
   ],
   "source": [
    "len(event_type_ohe)"
   ]
  },
  {
   "cell_type": "code",
   "execution_count": 23,
   "metadata": {
    "collapsed": false
   },
   "outputs": [
    {
     "data": {
      "text/html": [
       "<div>\n",
       "<table border=\"1\" class=\"dataframe\">\n",
       "  <thead>\n",
       "    <tr style=\"text-align: right;\">\n",
       "      <th></th>\n",
       "      <th>id</th>\n",
       "      <th>event_type_event_type 1</th>\n",
       "      <th>event_type_event_type 10</th>\n",
       "      <th>event_type_event_type 11</th>\n",
       "      <th>event_type_event_type 12</th>\n",
       "      <th>event_type_event_type 13</th>\n",
       "      <th>event_type_event_type 14</th>\n",
       "      <th>event_type_event_type 15</th>\n",
       "      <th>event_type_event_type 17</th>\n",
       "      <th>event_type_event_type 18</th>\n",
       "      <th>event_type_event_type 19</th>\n",
       "      <th>event_type_event_type 2</th>\n",
       "      <th>event_type_event_type 20</th>\n",
       "      <th>event_type_event_type 21</th>\n",
       "      <th>event_type_event_type 22</th>\n",
       "      <th>event_type_event_type 23</th>\n",
       "      <th>event_type_event_type 24</th>\n",
       "      <th>event_type_event_type 25</th>\n",
       "      <th>event_type_event_type 26</th>\n",
       "      <th>event_type_event_type 27</th>\n",
       "      <th>event_type_event_type 28</th>\n",
       "      <th>event_type_event_type 29</th>\n",
       "      <th>event_type_event_type 3</th>\n",
       "      <th>event_type_event_type 30</th>\n",
       "      <th>event_type_event_type 31</th>\n",
       "      <th>event_type_event_type 32</th>\n",
       "      <th>event_type_event_type 33</th>\n",
       "      <th>event_type_event_type 34</th>\n",
       "      <th>event_type_event_type 35</th>\n",
       "      <th>event_type_event_type 36</th>\n",
       "      <th>event_type_event_type 37</th>\n",
       "      <th>event_type_event_type 38</th>\n",
       "      <th>event_type_event_type 39</th>\n",
       "      <th>event_type_event_type 4</th>\n",
       "      <th>event_type_event_type 40</th>\n",
       "      <th>event_type_event_type 41</th>\n",
       "      <th>event_type_event_type 42</th>\n",
       "      <th>event_type_event_type 43</th>\n",
       "      <th>event_type_event_type 44</th>\n",
       "      <th>event_type_event_type 45</th>\n",
       "      <th>event_type_event_type 46</th>\n",
       "      <th>event_type_event_type 47</th>\n",
       "      <th>event_type_event_type 48</th>\n",
       "      <th>event_type_event_type 49</th>\n",
       "      <th>event_type_event_type 5</th>\n",
       "      <th>event_type_event_type 50</th>\n",
       "      <th>event_type_event_type 51</th>\n",
       "      <th>event_type_event_type 52</th>\n",
       "      <th>event_type_event_type 53</th>\n",
       "      <th>event_type_event_type 54</th>\n",
       "      <th>event_type_event_type 6</th>\n",
       "      <th>event_type_event_type 7</th>\n",
       "      <th>event_type_event_type 8</th>\n",
       "      <th>event_type_event_type 9</th>\n",
       "    </tr>\n",
       "  </thead>\n",
       "  <tbody>\n",
       "    <tr>\n",
       "      <th>0</th>\n",
       "      <td>1</td>\n",
       "      <td>2</td>\n",
       "      <td>2</td>\n",
       "      <td>2</td>\n",
       "      <td>2</td>\n",
       "      <td>2</td>\n",
       "      <td>2</td>\n",
       "      <td>2</td>\n",
       "      <td>2</td>\n",
       "      <td>2</td>\n",
       "      <td>2</td>\n",
       "      <td>2</td>\n",
       "      <td>2</td>\n",
       "      <td>2</td>\n",
       "      <td>2</td>\n",
       "      <td>2</td>\n",
       "      <td>2</td>\n",
       "      <td>2</td>\n",
       "      <td>2</td>\n",
       "      <td>2</td>\n",
       "      <td>2</td>\n",
       "      <td>2</td>\n",
       "      <td>2</td>\n",
       "      <td>2</td>\n",
       "      <td>2</td>\n",
       "      <td>2</td>\n",
       "      <td>2</td>\n",
       "      <td>2</td>\n",
       "      <td>2</td>\n",
       "      <td>2</td>\n",
       "      <td>2</td>\n",
       "      <td>2</td>\n",
       "      <td>2</td>\n",
       "      <td>2</td>\n",
       "      <td>2</td>\n",
       "      <td>2</td>\n",
       "      <td>2</td>\n",
       "      <td>2</td>\n",
       "      <td>2</td>\n",
       "      <td>2</td>\n",
       "      <td>2</td>\n",
       "      <td>2</td>\n",
       "      <td>2</td>\n",
       "      <td>2</td>\n",
       "      <td>2</td>\n",
       "      <td>2</td>\n",
       "      <td>2</td>\n",
       "      <td>2</td>\n",
       "      <td>2</td>\n",
       "      <td>2</td>\n",
       "      <td>2</td>\n",
       "      <td>2</td>\n",
       "      <td>2</td>\n",
       "      <td>2</td>\n",
       "    </tr>\n",
       "    <tr>\n",
       "      <th>1</th>\n",
       "      <td>2</td>\n",
       "      <td>2</td>\n",
       "      <td>2</td>\n",
       "      <td>2</td>\n",
       "      <td>2</td>\n",
       "      <td>2</td>\n",
       "      <td>2</td>\n",
       "      <td>2</td>\n",
       "      <td>2</td>\n",
       "      <td>2</td>\n",
       "      <td>2</td>\n",
       "      <td>2</td>\n",
       "      <td>2</td>\n",
       "      <td>2</td>\n",
       "      <td>2</td>\n",
       "      <td>2</td>\n",
       "      <td>2</td>\n",
       "      <td>2</td>\n",
       "      <td>2</td>\n",
       "      <td>2</td>\n",
       "      <td>2</td>\n",
       "      <td>2</td>\n",
       "      <td>2</td>\n",
       "      <td>2</td>\n",
       "      <td>2</td>\n",
       "      <td>2</td>\n",
       "      <td>2</td>\n",
       "      <td>2</td>\n",
       "      <td>2</td>\n",
       "      <td>2</td>\n",
       "      <td>2</td>\n",
       "      <td>2</td>\n",
       "      <td>2</td>\n",
       "      <td>2</td>\n",
       "      <td>2</td>\n",
       "      <td>2</td>\n",
       "      <td>2</td>\n",
       "      <td>2</td>\n",
       "      <td>2</td>\n",
       "      <td>2</td>\n",
       "      <td>2</td>\n",
       "      <td>2</td>\n",
       "      <td>2</td>\n",
       "      <td>2</td>\n",
       "      <td>2</td>\n",
       "      <td>2</td>\n",
       "      <td>2</td>\n",
       "      <td>2</td>\n",
       "      <td>2</td>\n",
       "      <td>2</td>\n",
       "      <td>2</td>\n",
       "      <td>2</td>\n",
       "      <td>2</td>\n",
       "      <td>2</td>\n",
       "    </tr>\n",
       "    <tr>\n",
       "      <th>2</th>\n",
       "      <td>3</td>\n",
       "      <td>1</td>\n",
       "      <td>1</td>\n",
       "      <td>1</td>\n",
       "      <td>1</td>\n",
       "      <td>1</td>\n",
       "      <td>1</td>\n",
       "      <td>1</td>\n",
       "      <td>1</td>\n",
       "      <td>1</td>\n",
       "      <td>1</td>\n",
       "      <td>1</td>\n",
       "      <td>1</td>\n",
       "      <td>1</td>\n",
       "      <td>1</td>\n",
       "      <td>1</td>\n",
       "      <td>1</td>\n",
       "      <td>1</td>\n",
       "      <td>1</td>\n",
       "      <td>1</td>\n",
       "      <td>1</td>\n",
       "      <td>1</td>\n",
       "      <td>1</td>\n",
       "      <td>1</td>\n",
       "      <td>1</td>\n",
       "      <td>1</td>\n",
       "      <td>1</td>\n",
       "      <td>1</td>\n",
       "      <td>1</td>\n",
       "      <td>1</td>\n",
       "      <td>1</td>\n",
       "      <td>1</td>\n",
       "      <td>1</td>\n",
       "      <td>1</td>\n",
       "      <td>1</td>\n",
       "      <td>1</td>\n",
       "      <td>1</td>\n",
       "      <td>1</td>\n",
       "      <td>1</td>\n",
       "      <td>1</td>\n",
       "      <td>1</td>\n",
       "      <td>1</td>\n",
       "      <td>1</td>\n",
       "      <td>1</td>\n",
       "      <td>1</td>\n",
       "      <td>1</td>\n",
       "      <td>1</td>\n",
       "      <td>1</td>\n",
       "      <td>1</td>\n",
       "      <td>1</td>\n",
       "      <td>1</td>\n",
       "      <td>1</td>\n",
       "      <td>1</td>\n",
       "      <td>1</td>\n",
       "    </tr>\n",
       "  </tbody>\n",
       "</table>\n",
       "</div>"
      ],
      "text/plain": [
       "   id  event_type_event_type 1  event_type_event_type 10  \\\n",
       "0   1                        2                         2   \n",
       "1   2                        2                         2   \n",
       "2   3                        1                         1   \n",
       "\n",
       "   event_type_event_type 11  event_type_event_type 12  \\\n",
       "0                         2                         2   \n",
       "1                         2                         2   \n",
       "2                         1                         1   \n",
       "\n",
       "   event_type_event_type 13  event_type_event_type 14  \\\n",
       "0                         2                         2   \n",
       "1                         2                         2   \n",
       "2                         1                         1   \n",
       "\n",
       "   event_type_event_type 15  event_type_event_type 17  \\\n",
       "0                         2                         2   \n",
       "1                         2                         2   \n",
       "2                         1                         1   \n",
       "\n",
       "   event_type_event_type 18  event_type_event_type 19  \\\n",
       "0                         2                         2   \n",
       "1                         2                         2   \n",
       "2                         1                         1   \n",
       "\n",
       "   event_type_event_type 2  event_type_event_type 20  \\\n",
       "0                        2                         2   \n",
       "1                        2                         2   \n",
       "2                        1                         1   \n",
       "\n",
       "   event_type_event_type 21  event_type_event_type 22  \\\n",
       "0                         2                         2   \n",
       "1                         2                         2   \n",
       "2                         1                         1   \n",
       "\n",
       "   event_type_event_type 23  event_type_event_type 24  \\\n",
       "0                         2                         2   \n",
       "1                         2                         2   \n",
       "2                         1                         1   \n",
       "\n",
       "   event_type_event_type 25  event_type_event_type 26  \\\n",
       "0                         2                         2   \n",
       "1                         2                         2   \n",
       "2                         1                         1   \n",
       "\n",
       "   event_type_event_type 27  event_type_event_type 28  \\\n",
       "0                         2                         2   \n",
       "1                         2                         2   \n",
       "2                         1                         1   \n",
       "\n",
       "   event_type_event_type 29  event_type_event_type 3  \\\n",
       "0                         2                        2   \n",
       "1                         2                        2   \n",
       "2                         1                        1   \n",
       "\n",
       "   event_type_event_type 30  event_type_event_type 31  \\\n",
       "0                         2                         2   \n",
       "1                         2                         2   \n",
       "2                         1                         1   \n",
       "\n",
       "   event_type_event_type 32  event_type_event_type 33  \\\n",
       "0                         2                         2   \n",
       "1                         2                         2   \n",
       "2                         1                         1   \n",
       "\n",
       "   event_type_event_type 34  event_type_event_type 35  \\\n",
       "0                         2                         2   \n",
       "1                         2                         2   \n",
       "2                         1                         1   \n",
       "\n",
       "   event_type_event_type 36  event_type_event_type 37  \\\n",
       "0                         2                         2   \n",
       "1                         2                         2   \n",
       "2                         1                         1   \n",
       "\n",
       "   event_type_event_type 38  event_type_event_type 39  \\\n",
       "0                         2                         2   \n",
       "1                         2                         2   \n",
       "2                         1                         1   \n",
       "\n",
       "   event_type_event_type 4  event_type_event_type 40  \\\n",
       "0                        2                         2   \n",
       "1                        2                         2   \n",
       "2                        1                         1   \n",
       "\n",
       "   event_type_event_type 41  event_type_event_type 42  \\\n",
       "0                         2                         2   \n",
       "1                         2                         2   \n",
       "2                         1                         1   \n",
       "\n",
       "   event_type_event_type 43  event_type_event_type 44  \\\n",
       "0                         2                         2   \n",
       "1                         2                         2   \n",
       "2                         1                         1   \n",
       "\n",
       "   event_type_event_type 45  event_type_event_type 46  \\\n",
       "0                         2                         2   \n",
       "1                         2                         2   \n",
       "2                         1                         1   \n",
       "\n",
       "   event_type_event_type 47  event_type_event_type 48  \\\n",
       "0                         2                         2   \n",
       "1                         2                         2   \n",
       "2                         1                         1   \n",
       "\n",
       "   event_type_event_type 49  event_type_event_type 5  \\\n",
       "0                         2                        2   \n",
       "1                         2                        2   \n",
       "2                         1                        1   \n",
       "\n",
       "   event_type_event_type 50  event_type_event_type 51  \\\n",
       "0                         2                         2   \n",
       "1                         2                         2   \n",
       "2                         1                         1   \n",
       "\n",
       "   event_type_event_type 52  event_type_event_type 53  \\\n",
       "0                         2                         2   \n",
       "1                         2                         2   \n",
       "2                         1                         1   \n",
       "\n",
       "   event_type_event_type 54  event_type_event_type 6  event_type_event_type 7  \\\n",
       "0                         2                        2                        2   \n",
       "1                         2                        2                        2   \n",
       "2                         1                        1                        1   \n",
       "\n",
       "   event_type_event_type 8  event_type_event_type 9  \n",
       "0                        2                        2  \n",
       "1                        2                        2  \n",
       "2                        1                        1  "
      ]
     },
     "execution_count": 23,
     "metadata": {},
     "output_type": "execute_result"
    }
   ],
   "source": [
    "event_type_ohe_grp = event_type_ohe.groupby('id', as_index=False).count()\n",
    "event_type_ohe_grp.head(3)"
   ]
  },
  {
   "cell_type": "code",
   "execution_count": 24,
   "metadata": {
    "collapsed": false
   },
   "outputs": [
    {
     "data": {
      "text/plain": [
       "18552"
      ]
     },
     "execution_count": 24,
     "metadata": {},
     "output_type": "execute_result"
    }
   ],
   "source": [
    "len(event_type_ohe_grp)"
   ]
  },
  {
   "cell_type": "markdown",
   "metadata": {},
   "source": [
    "##### Log Feature One Hot Encoding"
   ]
  },
  {
   "cell_type": "code",
   "execution_count": 25,
   "metadata": {
    "collapsed": false
   },
   "outputs": [
    {
     "data": {
      "text/html": [
       "<div>\n",
       "<table border=\"1\" class=\"dataframe\">\n",
       "  <thead>\n",
       "    <tr style=\"text-align: right;\">\n",
       "      <th></th>\n",
       "      <th>id</th>\n",
       "      <th>log_feature</th>\n",
       "      <th>volume</th>\n",
       "    </tr>\n",
       "  </thead>\n",
       "  <tbody>\n",
       "    <tr>\n",
       "      <th>0</th>\n",
       "      <td>6597</td>\n",
       "      <td>feature 68</td>\n",
       "      <td>6</td>\n",
       "    </tr>\n",
       "    <tr>\n",
       "      <th>1</th>\n",
       "      <td>8011</td>\n",
       "      <td>feature 68</td>\n",
       "      <td>7</td>\n",
       "    </tr>\n",
       "    <tr>\n",
       "      <th>2</th>\n",
       "      <td>2597</td>\n",
       "      <td>feature 68</td>\n",
       "      <td>1</td>\n",
       "    </tr>\n",
       "  </tbody>\n",
       "</table>\n",
       "</div>"
      ],
      "text/plain": [
       "     id log_feature  volume\n",
       "0  6597  feature 68       6\n",
       "1  8011  feature 68       7\n",
       "2  2597  feature 68       1"
      ]
     },
     "execution_count": 25,
     "metadata": {},
     "output_type": "execute_result"
    }
   ],
   "source": [
    "# log_feature is a bit different than the other datasets\n",
    "# it essentially has a count of how many times an id has been labeled with\n",
    "# a particular log feature\n",
    "# therefore, the volume associated with the id had to be expanded into multiple rows\n",
    "log_feature.head(3)"
   ]
  },
  {
   "cell_type": "code",
   "execution_count": 26,
   "metadata": {
    "collapsed": false
   },
   "outputs": [],
   "source": [
    "#this would be my prefered method, but my computer kept running out of memory\n",
    "#log_feature_raw = pd.DataFrame(np.repeat(log_feature.values, log_feature['volume'].values, axis=0), columns=['id','log_feature','volume'])\n",
    "#log_feature_raw = log_feature_raw.drop('volume',axis=1)\n",
    "#log_feature_raw.head(3)"
   ]
  },
  {
   "cell_type": "code",
   "execution_count": 27,
   "metadata": {
    "collapsed": true
   },
   "outputs": [],
   "source": [
    "# instead, I borrowed this implementation from StackOverflow\n",
    "log_feature_raw = pd.DataFrame([log_feature.ix[idx] \n",
    "                       for idx in log_feature.index \n",
    "                       for _ in range(log_feature.ix[idx]['volume'])]).reset_index(drop=True)"
   ]
  },
  {
   "cell_type": "code",
   "execution_count": 28,
   "metadata": {
    "collapsed": false
   },
   "outputs": [
    {
     "data": {
      "text/plain": [
       "568246"
      ]
     },
     "execution_count": 28,
     "metadata": {},
     "output_type": "execute_result"
    }
   ],
   "source": [
    "len(log_feature_raw)"
   ]
  },
  {
   "cell_type": "code",
   "execution_count": 29,
   "metadata": {
    "collapsed": false
   },
   "outputs": [],
   "source": [
    "log_feature_ohe = pd.get_dummies(log_feature_raw[['id','log_feature']])"
   ]
  },
  {
   "cell_type": "code",
   "execution_count": 32,
   "metadata": {
    "collapsed": false
   },
   "outputs": [],
   "source": [
    "log_feature_ohe_grp = log_feature_ohe.groupby('id', as_index=False).sum()"
   ]
  },
  {
   "cell_type": "code",
   "execution_count": 33,
   "metadata": {
    "collapsed": false
   },
   "outputs": [
    {
     "data": {
      "text/plain": [
       "18552"
      ]
     },
     "execution_count": 33,
     "metadata": {},
     "output_type": "execute_result"
    }
   ],
   "source": [
    "len(log_feature_ohe_grp)"
   ]
  },
  {
   "cell_type": "markdown",
   "metadata": {},
   "source": [
    "## Combining Training and Test Sets to Create a Master DF w/ All Features"
   ]
  },
  {
   "cell_type": "code",
   "execution_count": 34,
   "metadata": {
    "collapsed": false
   },
   "outputs": [
    {
     "data": {
      "text/plain": [
       "(18552,    fault_severity     id      location\n",
       " 0             1.0  14121  location 118\n",
       " 1             0.0   9320   location 91\n",
       " 2             1.0  14394  location 152)"
      ]
     },
     "execution_count": 34,
     "metadata": {},
     "output_type": "execute_result"
    }
   ],
   "source": [
    "full_df = pd.concat([train,test], axis=0, ignore_index=True)\n",
    "full_df = full_df[['fault_severity','id','location']]\n",
    "len(full_df)"
   ]
  },
  {
   "cell_type": "code",
   "execution_count": 35,
   "metadata": {
    "collapsed": false
   },
   "outputs": [
    {
     "name": "stdout",
     "output_type": "stream",
     "text": [
      "<class 'pandas.core.frame.DataFrame'>\n",
      "Int64Index: 18552 entries, 0 to 18551\n",
      "Columns: 452 entries, fault_severity to log_feature_feature 99\n",
      "dtypes: float64(387), int64(64), object(1)\n",
      "memory usage: 64.1+ MB\n"
     ]
    }
   ],
   "source": [
    "full_df = full_df.merge(resource_type_ohe_grp,on='id').merge(event_type_ohe_grp,on='id').merge(log_feature_ohe_grp,on='id')\n",
    "full_df.location = full_df.location.str.strip('location')\n",
    "full_df.info()"
   ]
  },
  {
   "cell_type": "code",
   "execution_count": 36,
   "metadata": {
    "collapsed": false
   },
   "outputs": [
    {
     "data": {
      "text/html": [
       "<div>\n",
       "<table border=\"1\" class=\"dataframe\">\n",
       "  <thead>\n",
       "    <tr style=\"text-align: right;\">\n",
       "      <th></th>\n",
       "      <th>fault_severity</th>\n",
       "      <th>id</th>\n",
       "      <th>location</th>\n",
       "      <th>resource_type_resource_type 1</th>\n",
       "      <th>resource_type_resource_type 10</th>\n",
       "      <th>resource_type_resource_type 2</th>\n",
       "      <th>resource_type_resource_type 3</th>\n",
       "      <th>resource_type_resource_type 4</th>\n",
       "      <th>resource_type_resource_type 5</th>\n",
       "      <th>resource_type_resource_type 6</th>\n",
       "      <th>resource_type_resource_type 7</th>\n",
       "      <th>resource_type_resource_type 8</th>\n",
       "      <th>resource_type_resource_type 9</th>\n",
       "      <th>event_type_event_type 1</th>\n",
       "      <th>event_type_event_type 10</th>\n",
       "      <th>event_type_event_type 11</th>\n",
       "      <th>event_type_event_type 12</th>\n",
       "      <th>event_type_event_type 13</th>\n",
       "      <th>event_type_event_type 14</th>\n",
       "      <th>event_type_event_type 15</th>\n",
       "      <th>event_type_event_type 17</th>\n",
       "      <th>event_type_event_type 18</th>\n",
       "      <th>event_type_event_type 19</th>\n",
       "      <th>event_type_event_type 2</th>\n",
       "      <th>event_type_event_type 20</th>\n",
       "      <th>event_type_event_type 21</th>\n",
       "      <th>event_type_event_type 22</th>\n",
       "      <th>event_type_event_type 23</th>\n",
       "      <th>event_type_event_type 24</th>\n",
       "      <th>event_type_event_type 25</th>\n",
       "      <th>event_type_event_type 26</th>\n",
       "      <th>event_type_event_type 27</th>\n",
       "      <th>event_type_event_type 28</th>\n",
       "      <th>event_type_event_type 29</th>\n",
       "      <th>event_type_event_type 3</th>\n",
       "      <th>event_type_event_type 30</th>\n",
       "      <th>event_type_event_type 31</th>\n",
       "      <th>event_type_event_type 32</th>\n",
       "      <th>event_type_event_type 33</th>\n",
       "      <th>event_type_event_type 34</th>\n",
       "      <th>event_type_event_type 35</th>\n",
       "      <th>event_type_event_type 36</th>\n",
       "      <th>event_type_event_type 37</th>\n",
       "      <th>event_type_event_type 38</th>\n",
       "      <th>event_type_event_type 39</th>\n",
       "      <th>event_type_event_type 4</th>\n",
       "      <th>event_type_event_type 40</th>\n",
       "      <th>event_type_event_type 41</th>\n",
       "      <th>event_type_event_type 42</th>\n",
       "      <th>event_type_event_type 43</th>\n",
       "      <th>event_type_event_type 44</th>\n",
       "      <th>event_type_event_type 45</th>\n",
       "      <th>event_type_event_type 46</th>\n",
       "      <th>event_type_event_type 47</th>\n",
       "      <th>event_type_event_type 48</th>\n",
       "      <th>event_type_event_type 49</th>\n",
       "      <th>event_type_event_type 5</th>\n",
       "      <th>event_type_event_type 50</th>\n",
       "      <th>event_type_event_type 51</th>\n",
       "      <th>event_type_event_type 52</th>\n",
       "      <th>event_type_event_type 53</th>\n",
       "      <th>event_type_event_type 54</th>\n",
       "      <th>event_type_event_type 6</th>\n",
       "      <th>event_type_event_type 7</th>\n",
       "      <th>event_type_event_type 8</th>\n",
       "      <th>event_type_event_type 9</th>\n",
       "      <th>log_feature_feature 1</th>\n",
       "      <th>log_feature_feature 10</th>\n",
       "      <th>log_feature_feature 100</th>\n",
       "      <th>log_feature_feature 101</th>\n",
       "      <th>log_feature_feature 102</th>\n",
       "      <th>log_feature_feature 103</th>\n",
       "      <th>log_feature_feature 104</th>\n",
       "      <th>log_feature_feature 105</th>\n",
       "      <th>log_feature_feature 106</th>\n",
       "      <th>log_feature_feature 107</th>\n",
       "      <th>log_feature_feature 108</th>\n",
       "      <th>log_feature_feature 109</th>\n",
       "      <th>log_feature_feature 11</th>\n",
       "      <th>log_feature_feature 110</th>\n",
       "      <th>log_feature_feature 111</th>\n",
       "      <th>log_feature_feature 112</th>\n",
       "      <th>log_feature_feature 113</th>\n",
       "      <th>log_feature_feature 114</th>\n",
       "      <th>log_feature_feature 115</th>\n",
       "      <th>log_feature_feature 116</th>\n",
       "      <th>log_feature_feature 117</th>\n",
       "      <th>log_feature_feature 118</th>\n",
       "      <th>log_feature_feature 119</th>\n",
       "      <th>log_feature_feature 12</th>\n",
       "      <th>log_feature_feature 120</th>\n",
       "      <th>log_feature_feature 121</th>\n",
       "      <th>log_feature_feature 122</th>\n",
       "      <th>log_feature_feature 123</th>\n",
       "      <th>log_feature_feature 124</th>\n",
       "      <th>log_feature_feature 125</th>\n",
       "      <th>log_feature_feature 126</th>\n",
       "      <th>log_feature_feature 127</th>\n",
       "      <th>log_feature_feature 128</th>\n",
       "      <th>log_feature_feature 129</th>\n",
       "      <th>log_feature_feature 13</th>\n",
       "      <th>log_feature_feature 130</th>\n",
       "      <th>log_feature_feature 131</th>\n",
       "      <th>log_feature_feature 132</th>\n",
       "      <th>log_feature_feature 133</th>\n",
       "      <th>log_feature_feature 134</th>\n",
       "      <th>log_feature_feature 135</th>\n",
       "      <th>log_feature_feature 136</th>\n",
       "      <th>log_feature_feature 137</th>\n",
       "      <th>log_feature_feature 138</th>\n",
       "      <th>log_feature_feature 139</th>\n",
       "      <th>log_feature_feature 14</th>\n",
       "      <th>log_feature_feature 140</th>\n",
       "      <th>log_feature_feature 141</th>\n",
       "      <th>log_feature_feature 142</th>\n",
       "      <th>log_feature_feature 143</th>\n",
       "      <th>log_feature_feature 144</th>\n",
       "      <th>log_feature_feature 145</th>\n",
       "      <th>log_feature_feature 146</th>\n",
       "      <th>log_feature_feature 147</th>\n",
       "      <th>log_feature_feature 148</th>\n",
       "      <th>log_feature_feature 149</th>\n",
       "      <th>log_feature_feature 15</th>\n",
       "      <th>log_feature_feature 150</th>\n",
       "      <th>log_feature_feature 151</th>\n",
       "      <th>log_feature_feature 152</th>\n",
       "      <th>log_feature_feature 153</th>\n",
       "      <th>log_feature_feature 154</th>\n",
       "      <th>log_feature_feature 155</th>\n",
       "      <th>log_feature_feature 156</th>\n",
       "      <th>log_feature_feature 157</th>\n",
       "      <th>log_feature_feature 158</th>\n",
       "      <th>log_feature_feature 159</th>\n",
       "      <th>log_feature_feature 16</th>\n",
       "      <th>log_feature_feature 160</th>\n",
       "      <th>log_feature_feature 161</th>\n",
       "      <th>log_feature_feature 162</th>\n",
       "      <th>log_feature_feature 163</th>\n",
       "      <th>log_feature_feature 164</th>\n",
       "      <th>log_feature_feature 165</th>\n",
       "      <th>log_feature_feature 166</th>\n",
       "      <th>log_feature_feature 167</th>\n",
       "      <th>log_feature_feature 168</th>\n",
       "      <th>log_feature_feature 169</th>\n",
       "      <th>log_feature_feature 17</th>\n",
       "      <th>log_feature_feature 170</th>\n",
       "      <th>log_feature_feature 171</th>\n",
       "      <th>log_feature_feature 172</th>\n",
       "      <th>log_feature_feature 173</th>\n",
       "      <th>log_feature_feature 174</th>\n",
       "      <th>log_feature_feature 175</th>\n",
       "      <th>log_feature_feature 176</th>\n",
       "      <th>log_feature_feature 177</th>\n",
       "      <th>log_feature_feature 178</th>\n",
       "      <th>log_feature_feature 179</th>\n",
       "      <th>log_feature_feature 18</th>\n",
       "      <th>log_feature_feature 180</th>\n",
       "      <th>log_feature_feature 181</th>\n",
       "      <th>log_feature_feature 182</th>\n",
       "      <th>log_feature_feature 183</th>\n",
       "      <th>log_feature_feature 184</th>\n",
       "      <th>log_feature_feature 185</th>\n",
       "      <th>log_feature_feature 186</th>\n",
       "      <th>log_feature_feature 187</th>\n",
       "      <th>log_feature_feature 188</th>\n",
       "      <th>log_feature_feature 189</th>\n",
       "      <th>log_feature_feature 19</th>\n",
       "      <th>log_feature_feature 190</th>\n",
       "      <th>log_feature_feature 191</th>\n",
       "      <th>log_feature_feature 192</th>\n",
       "      <th>log_feature_feature 193</th>\n",
       "      <th>log_feature_feature 194</th>\n",
       "      <th>log_feature_feature 195</th>\n",
       "      <th>log_feature_feature 196</th>\n",
       "      <th>log_feature_feature 197</th>\n",
       "      <th>log_feature_feature 198</th>\n",
       "      <th>log_feature_feature 199</th>\n",
       "      <th>log_feature_feature 2</th>\n",
       "      <th>log_feature_feature 20</th>\n",
       "      <th>log_feature_feature 200</th>\n",
       "      <th>log_feature_feature 201</th>\n",
       "      <th>log_feature_feature 202</th>\n",
       "      <th>log_feature_feature 203</th>\n",
       "      <th>log_feature_feature 204</th>\n",
       "      <th>log_feature_feature 205</th>\n",
       "      <th>log_feature_feature 206</th>\n",
       "      <th>log_feature_feature 207</th>\n",
       "      <th>log_feature_feature 208</th>\n",
       "      <th>log_feature_feature 209</th>\n",
       "      <th>log_feature_feature 21</th>\n",
       "      <th>log_feature_feature 210</th>\n",
       "      <th>log_feature_feature 211</th>\n",
       "      <th>log_feature_feature 212</th>\n",
       "      <th>log_feature_feature 213</th>\n",
       "      <th>log_feature_feature 214</th>\n",
       "      <th>log_feature_feature 215</th>\n",
       "      <th>log_feature_feature 216</th>\n",
       "      <th>log_feature_feature 217</th>\n",
       "      <th>log_feature_feature 218</th>\n",
       "      <th>log_feature_feature 219</th>\n",
       "      <th>...</th>\n",
       "      <th>log_feature_feature 267</th>\n",
       "      <th>log_feature_feature 268</th>\n",
       "      <th>log_feature_feature 269</th>\n",
       "      <th>log_feature_feature 27</th>\n",
       "      <th>log_feature_feature 270</th>\n",
       "      <th>log_feature_feature 271</th>\n",
       "      <th>log_feature_feature 272</th>\n",
       "      <th>log_feature_feature 273</th>\n",
       "      <th>log_feature_feature 274</th>\n",
       "      <th>log_feature_feature 275</th>\n",
       "      <th>log_feature_feature 276</th>\n",
       "      <th>log_feature_feature 277</th>\n",
       "      <th>log_feature_feature 278</th>\n",
       "      <th>log_feature_feature 279</th>\n",
       "      <th>log_feature_feature 28</th>\n",
       "      <th>log_feature_feature 280</th>\n",
       "      <th>log_feature_feature 281</th>\n",
       "      <th>log_feature_feature 282</th>\n",
       "      <th>log_feature_feature 283</th>\n",
       "      <th>log_feature_feature 284</th>\n",
       "      <th>log_feature_feature 285</th>\n",
       "      <th>log_feature_feature 286</th>\n",
       "      <th>log_feature_feature 287</th>\n",
       "      <th>log_feature_feature 288</th>\n",
       "      <th>log_feature_feature 289</th>\n",
       "      <th>log_feature_feature 29</th>\n",
       "      <th>log_feature_feature 290</th>\n",
       "      <th>log_feature_feature 291</th>\n",
       "      <th>log_feature_feature 292</th>\n",
       "      <th>log_feature_feature 293</th>\n",
       "      <th>log_feature_feature 294</th>\n",
       "      <th>log_feature_feature 295</th>\n",
       "      <th>log_feature_feature 296</th>\n",
       "      <th>log_feature_feature 297</th>\n",
       "      <th>log_feature_feature 298</th>\n",
       "      <th>log_feature_feature 299</th>\n",
       "      <th>log_feature_feature 3</th>\n",
       "      <th>log_feature_feature 30</th>\n",
       "      <th>log_feature_feature 300</th>\n",
       "      <th>log_feature_feature 301</th>\n",
       "      <th>log_feature_feature 302</th>\n",
       "      <th>log_feature_feature 303</th>\n",
       "      <th>log_feature_feature 304</th>\n",
       "      <th>log_feature_feature 305</th>\n",
       "      <th>log_feature_feature 306</th>\n",
       "      <th>log_feature_feature 307</th>\n",
       "      <th>log_feature_feature 308</th>\n",
       "      <th>log_feature_feature 309</th>\n",
       "      <th>log_feature_feature 31</th>\n",
       "      <th>log_feature_feature 310</th>\n",
       "      <th>log_feature_feature 311</th>\n",
       "      <th>log_feature_feature 312</th>\n",
       "      <th>log_feature_feature 313</th>\n",
       "      <th>log_feature_feature 314</th>\n",
       "      <th>log_feature_feature 315</th>\n",
       "      <th>log_feature_feature 316</th>\n",
       "      <th>log_feature_feature 317</th>\n",
       "      <th>log_feature_feature 318</th>\n",
       "      <th>log_feature_feature 319</th>\n",
       "      <th>log_feature_feature 32</th>\n",
       "      <th>log_feature_feature 320</th>\n",
       "      <th>log_feature_feature 321</th>\n",
       "      <th>log_feature_feature 322</th>\n",
       "      <th>log_feature_feature 323</th>\n",
       "      <th>log_feature_feature 324</th>\n",
       "      <th>log_feature_feature 325</th>\n",
       "      <th>log_feature_feature 326</th>\n",
       "      <th>log_feature_feature 327</th>\n",
       "      <th>log_feature_feature 328</th>\n",
       "      <th>log_feature_feature 329</th>\n",
       "      <th>log_feature_feature 33</th>\n",
       "      <th>log_feature_feature 330</th>\n",
       "      <th>log_feature_feature 331</th>\n",
       "      <th>log_feature_feature 332</th>\n",
       "      <th>log_feature_feature 333</th>\n",
       "      <th>log_feature_feature 334</th>\n",
       "      <th>log_feature_feature 335</th>\n",
       "      <th>log_feature_feature 336</th>\n",
       "      <th>log_feature_feature 337</th>\n",
       "      <th>log_feature_feature 338</th>\n",
       "      <th>log_feature_feature 339</th>\n",
       "      <th>log_feature_feature 34</th>\n",
       "      <th>log_feature_feature 340</th>\n",
       "      <th>log_feature_feature 341</th>\n",
       "      <th>log_feature_feature 342</th>\n",
       "      <th>log_feature_feature 343</th>\n",
       "      <th>log_feature_feature 344</th>\n",
       "      <th>log_feature_feature 345</th>\n",
       "      <th>log_feature_feature 346</th>\n",
       "      <th>log_feature_feature 347</th>\n",
       "      <th>log_feature_feature 348</th>\n",
       "      <th>log_feature_feature 349</th>\n",
       "      <th>log_feature_feature 35</th>\n",
       "      <th>log_feature_feature 350</th>\n",
       "      <th>log_feature_feature 351</th>\n",
       "      <th>log_feature_feature 352</th>\n",
       "      <th>log_feature_feature 353</th>\n",
       "      <th>log_feature_feature 354</th>\n",
       "      <th>log_feature_feature 355</th>\n",
       "      <th>log_feature_feature 356</th>\n",
       "      <th>log_feature_feature 357</th>\n",
       "      <th>log_feature_feature 358</th>\n",
       "      <th>log_feature_feature 359</th>\n",
       "      <th>log_feature_feature 36</th>\n",
       "      <th>log_feature_feature 360</th>\n",
       "      <th>log_feature_feature 361</th>\n",
       "      <th>log_feature_feature 362</th>\n",
       "      <th>log_feature_feature 363</th>\n",
       "      <th>log_feature_feature 364</th>\n",
       "      <th>log_feature_feature 365</th>\n",
       "      <th>log_feature_feature 366</th>\n",
       "      <th>log_feature_feature 367</th>\n",
       "      <th>log_feature_feature 368</th>\n",
       "      <th>log_feature_feature 369</th>\n",
       "      <th>log_feature_feature 37</th>\n",
       "      <th>log_feature_feature 370</th>\n",
       "      <th>log_feature_feature 371</th>\n",
       "      <th>log_feature_feature 372</th>\n",
       "      <th>log_feature_feature 373</th>\n",
       "      <th>log_feature_feature 374</th>\n",
       "      <th>log_feature_feature 375</th>\n",
       "      <th>log_feature_feature 376</th>\n",
       "      <th>log_feature_feature 377</th>\n",
       "      <th>log_feature_feature 378</th>\n",
       "      <th>log_feature_feature 379</th>\n",
       "      <th>log_feature_feature 38</th>\n",
       "      <th>log_feature_feature 380</th>\n",
       "      <th>log_feature_feature 381</th>\n",
       "      <th>log_feature_feature 382</th>\n",
       "      <th>log_feature_feature 383</th>\n",
       "      <th>log_feature_feature 384</th>\n",
       "      <th>log_feature_feature 385</th>\n",
       "      <th>log_feature_feature 386</th>\n",
       "      <th>log_feature_feature 39</th>\n",
       "      <th>log_feature_feature 4</th>\n",
       "      <th>log_feature_feature 40</th>\n",
       "      <th>log_feature_feature 41</th>\n",
       "      <th>log_feature_feature 42</th>\n",
       "      <th>log_feature_feature 43</th>\n",
       "      <th>log_feature_feature 44</th>\n",
       "      <th>log_feature_feature 45</th>\n",
       "      <th>log_feature_feature 46</th>\n",
       "      <th>log_feature_feature 47</th>\n",
       "      <th>log_feature_feature 48</th>\n",
       "      <th>log_feature_feature 49</th>\n",
       "      <th>log_feature_feature 5</th>\n",
       "      <th>log_feature_feature 50</th>\n",
       "      <th>log_feature_feature 51</th>\n",
       "      <th>log_feature_feature 52</th>\n",
       "      <th>log_feature_feature 53</th>\n",
       "      <th>log_feature_feature 54</th>\n",
       "      <th>log_feature_feature 55</th>\n",
       "      <th>log_feature_feature 56</th>\n",
       "      <th>log_feature_feature 57</th>\n",
       "      <th>log_feature_feature 58</th>\n",
       "      <th>log_feature_feature 59</th>\n",
       "      <th>log_feature_feature 6</th>\n",
       "      <th>log_feature_feature 60</th>\n",
       "      <th>log_feature_feature 61</th>\n",
       "      <th>log_feature_feature 62</th>\n",
       "      <th>log_feature_feature 63</th>\n",
       "      <th>log_feature_feature 64</th>\n",
       "      <th>log_feature_feature 65</th>\n",
       "      <th>log_feature_feature 66</th>\n",
       "      <th>log_feature_feature 67</th>\n",
       "      <th>log_feature_feature 68</th>\n",
       "      <th>log_feature_feature 69</th>\n",
       "      <th>log_feature_feature 7</th>\n",
       "      <th>log_feature_feature 70</th>\n",
       "      <th>log_feature_feature 71</th>\n",
       "      <th>log_feature_feature 72</th>\n",
       "      <th>log_feature_feature 73</th>\n",
       "      <th>log_feature_feature 74</th>\n",
       "      <th>log_feature_feature 75</th>\n",
       "      <th>log_feature_feature 76</th>\n",
       "      <th>log_feature_feature 77</th>\n",
       "      <th>log_feature_feature 78</th>\n",
       "      <th>log_feature_feature 79</th>\n",
       "      <th>log_feature_feature 8</th>\n",
       "      <th>log_feature_feature 80</th>\n",
       "      <th>log_feature_feature 81</th>\n",
       "      <th>log_feature_feature 82</th>\n",
       "      <th>log_feature_feature 83</th>\n",
       "      <th>log_feature_feature 84</th>\n",
       "      <th>log_feature_feature 85</th>\n",
       "      <th>log_feature_feature 86</th>\n",
       "      <th>log_feature_feature 87</th>\n",
       "      <th>log_feature_feature 88</th>\n",
       "      <th>log_feature_feature 89</th>\n",
       "      <th>log_feature_feature 9</th>\n",
       "      <th>log_feature_feature 90</th>\n",
       "      <th>log_feature_feature 91</th>\n",
       "      <th>log_feature_feature 92</th>\n",
       "      <th>log_feature_feature 93</th>\n",
       "      <th>log_feature_feature 94</th>\n",
       "      <th>log_feature_feature 95</th>\n",
       "      <th>log_feature_feature 96</th>\n",
       "      <th>log_feature_feature 97</th>\n",
       "      <th>log_feature_feature 98</th>\n",
       "      <th>log_feature_feature 99</th>\n",
       "    </tr>\n",
       "  </thead>\n",
       "  <tbody>\n",
       "    <tr>\n",
       "      <th>0</th>\n",
       "      <td>1.0</td>\n",
       "      <td>14121</td>\n",
       "      <td>118</td>\n",
       "      <td>1</td>\n",
       "      <td>1</td>\n",
       "      <td>1</td>\n",
       "      <td>1</td>\n",
       "      <td>1</td>\n",
       "      <td>1</td>\n",
       "      <td>1</td>\n",
       "      <td>1</td>\n",
       "      <td>1</td>\n",
       "      <td>1</td>\n",
       "      <td>2</td>\n",
       "      <td>2</td>\n",
       "      <td>2</td>\n",
       "      <td>2</td>\n",
       "      <td>2</td>\n",
       "      <td>2</td>\n",
       "      <td>2</td>\n",
       "      <td>2</td>\n",
       "      <td>2</td>\n",
       "      <td>2</td>\n",
       "      <td>2</td>\n",
       "      <td>2</td>\n",
       "      <td>2</td>\n",
       "      <td>2</td>\n",
       "      <td>2</td>\n",
       "      <td>2</td>\n",
       "      <td>2</td>\n",
       "      <td>2</td>\n",
       "      <td>2</td>\n",
       "      <td>2</td>\n",
       "      <td>2</td>\n",
       "      <td>2</td>\n",
       "      <td>2</td>\n",
       "      <td>2</td>\n",
       "      <td>2</td>\n",
       "      <td>2</td>\n",
       "      <td>2</td>\n",
       "      <td>2</td>\n",
       "      <td>2</td>\n",
       "      <td>2</td>\n",
       "      <td>2</td>\n",
       "      <td>2</td>\n",
       "      <td>2</td>\n",
       "      <td>2</td>\n",
       "      <td>2</td>\n",
       "      <td>2</td>\n",
       "      <td>2</td>\n",
       "      <td>2</td>\n",
       "      <td>2</td>\n",
       "      <td>2</td>\n",
       "      <td>2</td>\n",
       "      <td>2</td>\n",
       "      <td>2</td>\n",
       "      <td>2</td>\n",
       "      <td>2</td>\n",
       "      <td>2</td>\n",
       "      <td>2</td>\n",
       "      <td>2</td>\n",
       "      <td>2</td>\n",
       "      <td>2</td>\n",
       "      <td>2</td>\n",
       "      <td>2</td>\n",
       "      <td>2</td>\n",
       "      <td>0.0</td>\n",
       "      <td>0.0</td>\n",
       "      <td>0.0</td>\n",
       "      <td>0.0</td>\n",
       "      <td>0.0</td>\n",
       "      <td>0.0</td>\n",
       "      <td>0.0</td>\n",
       "      <td>0.0</td>\n",
       "      <td>0.0</td>\n",
       "      <td>0.0</td>\n",
       "      <td>0.0</td>\n",
       "      <td>0.0</td>\n",
       "      <td>0.0</td>\n",
       "      <td>0.0</td>\n",
       "      <td>0.0</td>\n",
       "      <td>0.0</td>\n",
       "      <td>0.0</td>\n",
       "      <td>0.0</td>\n",
       "      <td>0.0</td>\n",
       "      <td>0.0</td>\n",
       "      <td>0.0</td>\n",
       "      <td>0.0</td>\n",
       "      <td>0.0</td>\n",
       "      <td>0.0</td>\n",
       "      <td>0.0</td>\n",
       "      <td>0.0</td>\n",
       "      <td>0.0</td>\n",
       "      <td>0.0</td>\n",
       "      <td>0.0</td>\n",
       "      <td>0.0</td>\n",
       "      <td>0.0</td>\n",
       "      <td>0.0</td>\n",
       "      <td>0.0</td>\n",
       "      <td>0.0</td>\n",
       "      <td>0.0</td>\n",
       "      <td>0.0</td>\n",
       "      <td>0.0</td>\n",
       "      <td>0.0</td>\n",
       "      <td>0.0</td>\n",
       "      <td>0.0</td>\n",
       "      <td>0.0</td>\n",
       "      <td>0.0</td>\n",
       "      <td>0.0</td>\n",
       "      <td>0.0</td>\n",
       "      <td>0.0</td>\n",
       "      <td>0.0</td>\n",
       "      <td>0.0</td>\n",
       "      <td>0.0</td>\n",
       "      <td>0.0</td>\n",
       "      <td>0.0</td>\n",
       "      <td>0.0</td>\n",
       "      <td>0.0</td>\n",
       "      <td>0.0</td>\n",
       "      <td>0.0</td>\n",
       "      <td>0.0</td>\n",
       "      <td>0.0</td>\n",
       "      <td>0.0</td>\n",
       "      <td>0.0</td>\n",
       "      <td>0.0</td>\n",
       "      <td>0.0</td>\n",
       "      <td>0.0</td>\n",
       "      <td>0.0</td>\n",
       "      <td>0.0</td>\n",
       "      <td>0.0</td>\n",
       "      <td>0.0</td>\n",
       "      <td>0.0</td>\n",
       "      <td>0.0</td>\n",
       "      <td>0.0</td>\n",
       "      <td>0.0</td>\n",
       "      <td>0.0</td>\n",
       "      <td>0.0</td>\n",
       "      <td>0.0</td>\n",
       "      <td>0.0</td>\n",
       "      <td>0.0</td>\n",
       "      <td>0.0</td>\n",
       "      <td>0.0</td>\n",
       "      <td>0.0</td>\n",
       "      <td>0.0</td>\n",
       "      <td>0.0</td>\n",
       "      <td>0.0</td>\n",
       "      <td>0.0</td>\n",
       "      <td>0.0</td>\n",
       "      <td>0.0</td>\n",
       "      <td>0.0</td>\n",
       "      <td>0.0</td>\n",
       "      <td>0.0</td>\n",
       "      <td>0.0</td>\n",
       "      <td>0.0</td>\n",
       "      <td>0.0</td>\n",
       "      <td>0.0</td>\n",
       "      <td>0.0</td>\n",
       "      <td>0.0</td>\n",
       "      <td>0.0</td>\n",
       "      <td>0.0</td>\n",
       "      <td>0.0</td>\n",
       "      <td>0.0</td>\n",
       "      <td>0.0</td>\n",
       "      <td>0.0</td>\n",
       "      <td>0.0</td>\n",
       "      <td>0.0</td>\n",
       "      <td>0.0</td>\n",
       "      <td>0.0</td>\n",
       "      <td>0.0</td>\n",
       "      <td>0.0</td>\n",
       "      <td>0.0</td>\n",
       "      <td>0.0</td>\n",
       "      <td>0.0</td>\n",
       "      <td>0.0</td>\n",
       "      <td>0.0</td>\n",
       "      <td>0.0</td>\n",
       "      <td>0.0</td>\n",
       "      <td>0.0</td>\n",
       "      <td>0.0</td>\n",
       "      <td>0.0</td>\n",
       "      <td>0.0</td>\n",
       "      <td>0.0</td>\n",
       "      <td>0.0</td>\n",
       "      <td>0.0</td>\n",
       "      <td>0.0</td>\n",
       "      <td>0.0</td>\n",
       "      <td>0.0</td>\n",
       "      <td>0.0</td>\n",
       "      <td>0.0</td>\n",
       "      <td>0.0</td>\n",
       "      <td>0.0</td>\n",
       "      <td>0.0</td>\n",
       "      <td>0.0</td>\n",
       "      <td>0.0</td>\n",
       "      <td>0.0</td>\n",
       "      <td>0.0</td>\n",
       "      <td>0.0</td>\n",
       "      <td>0.0</td>\n",
       "      <td>0.0</td>\n",
       "      <td>0.0</td>\n",
       "      <td>...</td>\n",
       "      <td>0.0</td>\n",
       "      <td>0.0</td>\n",
       "      <td>0.0</td>\n",
       "      <td>0.0</td>\n",
       "      <td>0.0</td>\n",
       "      <td>0.0</td>\n",
       "      <td>0.0</td>\n",
       "      <td>0.0</td>\n",
       "      <td>0.0</td>\n",
       "      <td>0.0</td>\n",
       "      <td>0.0</td>\n",
       "      <td>0.0</td>\n",
       "      <td>0.0</td>\n",
       "      <td>0.0</td>\n",
       "      <td>0.0</td>\n",
       "      <td>0.0</td>\n",
       "      <td>0.0</td>\n",
       "      <td>0.0</td>\n",
       "      <td>0.0</td>\n",
       "      <td>0.0</td>\n",
       "      <td>0.0</td>\n",
       "      <td>0.0</td>\n",
       "      <td>0.0</td>\n",
       "      <td>0.0</td>\n",
       "      <td>0.0</td>\n",
       "      <td>0.0</td>\n",
       "      <td>0.0</td>\n",
       "      <td>0.0</td>\n",
       "      <td>0.0</td>\n",
       "      <td>0.0</td>\n",
       "      <td>0.0</td>\n",
       "      <td>0.0</td>\n",
       "      <td>0.0</td>\n",
       "      <td>0.0</td>\n",
       "      <td>0.0</td>\n",
       "      <td>0.0</td>\n",
       "      <td>0.0</td>\n",
       "      <td>0.0</td>\n",
       "      <td>0.0</td>\n",
       "      <td>0.0</td>\n",
       "      <td>0.0</td>\n",
       "      <td>0.0</td>\n",
       "      <td>0.0</td>\n",
       "      <td>0.0</td>\n",
       "      <td>0.0</td>\n",
       "      <td>0.0</td>\n",
       "      <td>0.0</td>\n",
       "      <td>0.0</td>\n",
       "      <td>0.0</td>\n",
       "      <td>0.0</td>\n",
       "      <td>0.0</td>\n",
       "      <td>19.0</td>\n",
       "      <td>0.0</td>\n",
       "      <td>0.0</td>\n",
       "      <td>0.0</td>\n",
       "      <td>0.0</td>\n",
       "      <td>0.0</td>\n",
       "      <td>0.0</td>\n",
       "      <td>0.0</td>\n",
       "      <td>0.0</td>\n",
       "      <td>0.0</td>\n",
       "      <td>0.0</td>\n",
       "      <td>0.0</td>\n",
       "      <td>0.0</td>\n",
       "      <td>0.0</td>\n",
       "      <td>0.0</td>\n",
       "      <td>0.0</td>\n",
       "      <td>0.0</td>\n",
       "      <td>0.0</td>\n",
       "      <td>0.0</td>\n",
       "      <td>0.0</td>\n",
       "      <td>0.0</td>\n",
       "      <td>0.0</td>\n",
       "      <td>0.0</td>\n",
       "      <td>0.0</td>\n",
       "      <td>0.0</td>\n",
       "      <td>0.0</td>\n",
       "      <td>0.0</td>\n",
       "      <td>0.0</td>\n",
       "      <td>0.0</td>\n",
       "      <td>0.0</td>\n",
       "      <td>0.0</td>\n",
       "      <td>0.0</td>\n",
       "      <td>0.0</td>\n",
       "      <td>0.0</td>\n",
       "      <td>0.0</td>\n",
       "      <td>0.0</td>\n",
       "      <td>0.0</td>\n",
       "      <td>0.0</td>\n",
       "      <td>0.0</td>\n",
       "      <td>0.0</td>\n",
       "      <td>0.0</td>\n",
       "      <td>0.0</td>\n",
       "      <td>0.0</td>\n",
       "      <td>0.0</td>\n",
       "      <td>0.0</td>\n",
       "      <td>0.0</td>\n",
       "      <td>0.0</td>\n",
       "      <td>0.0</td>\n",
       "      <td>0.0</td>\n",
       "      <td>0.0</td>\n",
       "      <td>0.0</td>\n",
       "      <td>0.0</td>\n",
       "      <td>0.0</td>\n",
       "      <td>0.0</td>\n",
       "      <td>0.0</td>\n",
       "      <td>0.0</td>\n",
       "      <td>0.0</td>\n",
       "      <td>0.0</td>\n",
       "      <td>0.0</td>\n",
       "      <td>0.0</td>\n",
       "      <td>0.0</td>\n",
       "      <td>0.0</td>\n",
       "      <td>0.0</td>\n",
       "      <td>0.0</td>\n",
       "      <td>0.0</td>\n",
       "      <td>0.0</td>\n",
       "      <td>0.0</td>\n",
       "      <td>0.0</td>\n",
       "      <td>0.0</td>\n",
       "      <td>0.0</td>\n",
       "      <td>0.0</td>\n",
       "      <td>0.0</td>\n",
       "      <td>0.0</td>\n",
       "      <td>0.0</td>\n",
       "      <td>0.0</td>\n",
       "      <td>0.0</td>\n",
       "      <td>0.0</td>\n",
       "      <td>0.0</td>\n",
       "      <td>0.0</td>\n",
       "      <td>0.0</td>\n",
       "      <td>0.0</td>\n",
       "      <td>0.0</td>\n",
       "      <td>0.0</td>\n",
       "      <td>0.0</td>\n",
       "      <td>0.0</td>\n",
       "      <td>0.0</td>\n",
       "      <td>0.0</td>\n",
       "      <td>0.0</td>\n",
       "      <td>0.0</td>\n",
       "      <td>0.0</td>\n",
       "      <td>0.0</td>\n",
       "      <td>0.0</td>\n",
       "      <td>0.0</td>\n",
       "      <td>0.0</td>\n",
       "      <td>0.0</td>\n",
       "      <td>0.0</td>\n",
       "      <td>0.0</td>\n",
       "      <td>0.0</td>\n",
       "      <td>0.0</td>\n",
       "      <td>0.0</td>\n",
       "      <td>0.0</td>\n",
       "      <td>0.0</td>\n",
       "      <td>0.0</td>\n",
       "      <td>0.0</td>\n",
       "      <td>0.0</td>\n",
       "      <td>0.0</td>\n",
       "      <td>0.0</td>\n",
       "      <td>0.0</td>\n",
       "      <td>0.0</td>\n",
       "      <td>0.0</td>\n",
       "      <td>0.0</td>\n",
       "      <td>0.0</td>\n",
       "      <td>0.0</td>\n",
       "      <td>0.0</td>\n",
       "      <td>0.0</td>\n",
       "      <td>0.0</td>\n",
       "      <td>0.0</td>\n",
       "      <td>0.0</td>\n",
       "      <td>0.0</td>\n",
       "      <td>0.0</td>\n",
       "      <td>0.0</td>\n",
       "      <td>0.0</td>\n",
       "      <td>0.0</td>\n",
       "      <td>0.0</td>\n",
       "      <td>0.0</td>\n",
       "      <td>0.0</td>\n",
       "      <td>0.0</td>\n",
       "      <td>0.0</td>\n",
       "      <td>0.0</td>\n",
       "      <td>0.0</td>\n",
       "      <td>0.0</td>\n",
       "      <td>0.0</td>\n",
       "      <td>0.0</td>\n",
       "      <td>0.0</td>\n",
       "      <td>0.0</td>\n",
       "      <td>0.0</td>\n",
       "      <td>0.0</td>\n",
       "      <td>0.0</td>\n",
       "      <td>0.0</td>\n",
       "      <td>0.0</td>\n",
       "      <td>0.0</td>\n",
       "      <td>0.0</td>\n",
       "      <td>0.0</td>\n",
       "      <td>0.0</td>\n",
       "      <td>0.0</td>\n",
       "      <td>0.0</td>\n",
       "      <td>0.0</td>\n",
       "      <td>0.0</td>\n",
       "      <td>0.0</td>\n",
       "    </tr>\n",
       "    <tr>\n",
       "      <th>1</th>\n",
       "      <td>0.0</td>\n",
       "      <td>9320</td>\n",
       "      <td>91</td>\n",
       "      <td>1</td>\n",
       "      <td>1</td>\n",
       "      <td>1</td>\n",
       "      <td>1</td>\n",
       "      <td>1</td>\n",
       "      <td>1</td>\n",
       "      <td>1</td>\n",
       "      <td>1</td>\n",
       "      <td>1</td>\n",
       "      <td>1</td>\n",
       "      <td>2</td>\n",
       "      <td>2</td>\n",
       "      <td>2</td>\n",
       "      <td>2</td>\n",
       "      <td>2</td>\n",
       "      <td>2</td>\n",
       "      <td>2</td>\n",
       "      <td>2</td>\n",
       "      <td>2</td>\n",
       "      <td>2</td>\n",
       "      <td>2</td>\n",
       "      <td>2</td>\n",
       "      <td>2</td>\n",
       "      <td>2</td>\n",
       "      <td>2</td>\n",
       "      <td>2</td>\n",
       "      <td>2</td>\n",
       "      <td>2</td>\n",
       "      <td>2</td>\n",
       "      <td>2</td>\n",
       "      <td>2</td>\n",
       "      <td>2</td>\n",
       "      <td>2</td>\n",
       "      <td>2</td>\n",
       "      <td>2</td>\n",
       "      <td>2</td>\n",
       "      <td>2</td>\n",
       "      <td>2</td>\n",
       "      <td>2</td>\n",
       "      <td>2</td>\n",
       "      <td>2</td>\n",
       "      <td>2</td>\n",
       "      <td>2</td>\n",
       "      <td>2</td>\n",
       "      <td>2</td>\n",
       "      <td>2</td>\n",
       "      <td>2</td>\n",
       "      <td>2</td>\n",
       "      <td>2</td>\n",
       "      <td>2</td>\n",
       "      <td>2</td>\n",
       "      <td>2</td>\n",
       "      <td>2</td>\n",
       "      <td>2</td>\n",
       "      <td>2</td>\n",
       "      <td>2</td>\n",
       "      <td>2</td>\n",
       "      <td>2</td>\n",
       "      <td>2</td>\n",
       "      <td>2</td>\n",
       "      <td>2</td>\n",
       "      <td>2</td>\n",
       "      <td>2</td>\n",
       "      <td>0.0</td>\n",
       "      <td>0.0</td>\n",
       "      <td>0.0</td>\n",
       "      <td>0.0</td>\n",
       "      <td>0.0</td>\n",
       "      <td>0.0</td>\n",
       "      <td>0.0</td>\n",
       "      <td>0.0</td>\n",
       "      <td>0.0</td>\n",
       "      <td>0.0</td>\n",
       "      <td>0.0</td>\n",
       "      <td>0.0</td>\n",
       "      <td>0.0</td>\n",
       "      <td>0.0</td>\n",
       "      <td>0.0</td>\n",
       "      <td>0.0</td>\n",
       "      <td>0.0</td>\n",
       "      <td>0.0</td>\n",
       "      <td>0.0</td>\n",
       "      <td>0.0</td>\n",
       "      <td>0.0</td>\n",
       "      <td>0.0</td>\n",
       "      <td>0.0</td>\n",
       "      <td>0.0</td>\n",
       "      <td>0.0</td>\n",
       "      <td>0.0</td>\n",
       "      <td>0.0</td>\n",
       "      <td>0.0</td>\n",
       "      <td>0.0</td>\n",
       "      <td>0.0</td>\n",
       "      <td>0.0</td>\n",
       "      <td>0.0</td>\n",
       "      <td>0.0</td>\n",
       "      <td>0.0</td>\n",
       "      <td>0.0</td>\n",
       "      <td>0.0</td>\n",
       "      <td>0.0</td>\n",
       "      <td>0.0</td>\n",
       "      <td>0.0</td>\n",
       "      <td>0.0</td>\n",
       "      <td>0.0</td>\n",
       "      <td>0.0</td>\n",
       "      <td>0.0</td>\n",
       "      <td>0.0</td>\n",
       "      <td>0.0</td>\n",
       "      <td>0.0</td>\n",
       "      <td>0.0</td>\n",
       "      <td>0.0</td>\n",
       "      <td>0.0</td>\n",
       "      <td>0.0</td>\n",
       "      <td>0.0</td>\n",
       "      <td>0.0</td>\n",
       "      <td>0.0</td>\n",
       "      <td>0.0</td>\n",
       "      <td>0.0</td>\n",
       "      <td>0.0</td>\n",
       "      <td>0.0</td>\n",
       "      <td>0.0</td>\n",
       "      <td>0.0</td>\n",
       "      <td>0.0</td>\n",
       "      <td>0.0</td>\n",
       "      <td>0.0</td>\n",
       "      <td>0.0</td>\n",
       "      <td>0.0</td>\n",
       "      <td>0.0</td>\n",
       "      <td>0.0</td>\n",
       "      <td>0.0</td>\n",
       "      <td>0.0</td>\n",
       "      <td>0.0</td>\n",
       "      <td>0.0</td>\n",
       "      <td>0.0</td>\n",
       "      <td>0.0</td>\n",
       "      <td>0.0</td>\n",
       "      <td>0.0</td>\n",
       "      <td>0.0</td>\n",
       "      <td>0.0</td>\n",
       "      <td>0.0</td>\n",
       "      <td>0.0</td>\n",
       "      <td>0.0</td>\n",
       "      <td>0.0</td>\n",
       "      <td>0.0</td>\n",
       "      <td>0.0</td>\n",
       "      <td>0.0</td>\n",
       "      <td>0.0</td>\n",
       "      <td>0.0</td>\n",
       "      <td>0.0</td>\n",
       "      <td>0.0</td>\n",
       "      <td>0.0</td>\n",
       "      <td>0.0</td>\n",
       "      <td>0.0</td>\n",
       "      <td>0.0</td>\n",
       "      <td>0.0</td>\n",
       "      <td>0.0</td>\n",
       "      <td>0.0</td>\n",
       "      <td>0.0</td>\n",
       "      <td>0.0</td>\n",
       "      <td>0.0</td>\n",
       "      <td>0.0</td>\n",
       "      <td>0.0</td>\n",
       "      <td>0.0</td>\n",
       "      <td>0.0</td>\n",
       "      <td>0.0</td>\n",
       "      <td>0.0</td>\n",
       "      <td>0.0</td>\n",
       "      <td>0.0</td>\n",
       "      <td>0.0</td>\n",
       "      <td>0.0</td>\n",
       "      <td>0.0</td>\n",
       "      <td>0.0</td>\n",
       "      <td>0.0</td>\n",
       "      <td>0.0</td>\n",
       "      <td>0.0</td>\n",
       "      <td>0.0</td>\n",
       "      <td>0.0</td>\n",
       "      <td>0.0</td>\n",
       "      <td>0.0</td>\n",
       "      <td>0.0</td>\n",
       "      <td>0.0</td>\n",
       "      <td>0.0</td>\n",
       "      <td>0.0</td>\n",
       "      <td>0.0</td>\n",
       "      <td>0.0</td>\n",
       "      <td>0.0</td>\n",
       "      <td>0.0</td>\n",
       "      <td>0.0</td>\n",
       "      <td>0.0</td>\n",
       "      <td>0.0</td>\n",
       "      <td>0.0</td>\n",
       "      <td>0.0</td>\n",
       "      <td>0.0</td>\n",
       "      <td>0.0</td>\n",
       "      <td>0.0</td>\n",
       "      <td>0.0</td>\n",
       "      <td>0.0</td>\n",
       "      <td>...</td>\n",
       "      <td>0.0</td>\n",
       "      <td>0.0</td>\n",
       "      <td>0.0</td>\n",
       "      <td>0.0</td>\n",
       "      <td>0.0</td>\n",
       "      <td>0.0</td>\n",
       "      <td>0.0</td>\n",
       "      <td>0.0</td>\n",
       "      <td>0.0</td>\n",
       "      <td>0.0</td>\n",
       "      <td>0.0</td>\n",
       "      <td>0.0</td>\n",
       "      <td>0.0</td>\n",
       "      <td>0.0</td>\n",
       "      <td>0.0</td>\n",
       "      <td>0.0</td>\n",
       "      <td>0.0</td>\n",
       "      <td>0.0</td>\n",
       "      <td>0.0</td>\n",
       "      <td>0.0</td>\n",
       "      <td>0.0</td>\n",
       "      <td>0.0</td>\n",
       "      <td>0.0</td>\n",
       "      <td>0.0</td>\n",
       "      <td>0.0</td>\n",
       "      <td>0.0</td>\n",
       "      <td>0.0</td>\n",
       "      <td>0.0</td>\n",
       "      <td>0.0</td>\n",
       "      <td>0.0</td>\n",
       "      <td>0.0</td>\n",
       "      <td>0.0</td>\n",
       "      <td>0.0</td>\n",
       "      <td>0.0</td>\n",
       "      <td>0.0</td>\n",
       "      <td>0.0</td>\n",
       "      <td>0.0</td>\n",
       "      <td>0.0</td>\n",
       "      <td>0.0</td>\n",
       "      <td>0.0</td>\n",
       "      <td>0.0</td>\n",
       "      <td>0.0</td>\n",
       "      <td>0.0</td>\n",
       "      <td>0.0</td>\n",
       "      <td>0.0</td>\n",
       "      <td>0.0</td>\n",
       "      <td>0.0</td>\n",
       "      <td>0.0</td>\n",
       "      <td>0.0</td>\n",
       "      <td>0.0</td>\n",
       "      <td>0.0</td>\n",
       "      <td>0.0</td>\n",
       "      <td>0.0</td>\n",
       "      <td>0.0</td>\n",
       "      <td>200.0</td>\n",
       "      <td>0.0</td>\n",
       "      <td>0.0</td>\n",
       "      <td>0.0</td>\n",
       "      <td>0.0</td>\n",
       "      <td>0.0</td>\n",
       "      <td>0.0</td>\n",
       "      <td>0.0</td>\n",
       "      <td>0.0</td>\n",
       "      <td>0.0</td>\n",
       "      <td>0.0</td>\n",
       "      <td>0.0</td>\n",
       "      <td>0.0</td>\n",
       "      <td>0.0</td>\n",
       "      <td>0.0</td>\n",
       "      <td>0.0</td>\n",
       "      <td>0.0</td>\n",
       "      <td>0.0</td>\n",
       "      <td>0.0</td>\n",
       "      <td>0.0</td>\n",
       "      <td>0.0</td>\n",
       "      <td>0.0</td>\n",
       "      <td>0.0</td>\n",
       "      <td>0.0</td>\n",
       "      <td>0.0</td>\n",
       "      <td>0.0</td>\n",
       "      <td>0.0</td>\n",
       "      <td>0.0</td>\n",
       "      <td>0.0</td>\n",
       "      <td>0.0</td>\n",
       "      <td>0.0</td>\n",
       "      <td>0.0</td>\n",
       "      <td>0.0</td>\n",
       "      <td>0.0</td>\n",
       "      <td>0.0</td>\n",
       "      <td>0.0</td>\n",
       "      <td>0.0</td>\n",
       "      <td>0.0</td>\n",
       "      <td>0.0</td>\n",
       "      <td>0.0</td>\n",
       "      <td>0.0</td>\n",
       "      <td>0.0</td>\n",
       "      <td>0.0</td>\n",
       "      <td>0.0</td>\n",
       "      <td>0.0</td>\n",
       "      <td>0.0</td>\n",
       "      <td>0.0</td>\n",
       "      <td>0.0</td>\n",
       "      <td>0.0</td>\n",
       "      <td>0.0</td>\n",
       "      <td>0.0</td>\n",
       "      <td>0.0</td>\n",
       "      <td>0.0</td>\n",
       "      <td>0.0</td>\n",
       "      <td>0.0</td>\n",
       "      <td>0.0</td>\n",
       "      <td>0.0</td>\n",
       "      <td>0.0</td>\n",
       "      <td>0.0</td>\n",
       "      <td>0.0</td>\n",
       "      <td>0.0</td>\n",
       "      <td>0.0</td>\n",
       "      <td>0.0</td>\n",
       "      <td>0.0</td>\n",
       "      <td>0.0</td>\n",
       "      <td>0.0</td>\n",
       "      <td>0.0</td>\n",
       "      <td>0.0</td>\n",
       "      <td>0.0</td>\n",
       "      <td>0.0</td>\n",
       "      <td>0.0</td>\n",
       "      <td>0.0</td>\n",
       "      <td>0.0</td>\n",
       "      <td>0.0</td>\n",
       "      <td>0.0</td>\n",
       "      <td>0.0</td>\n",
       "      <td>0.0</td>\n",
       "      <td>0.0</td>\n",
       "      <td>0.0</td>\n",
       "      <td>0.0</td>\n",
       "      <td>0.0</td>\n",
       "      <td>0.0</td>\n",
       "      <td>0.0</td>\n",
       "      <td>0.0</td>\n",
       "      <td>0.0</td>\n",
       "      <td>0.0</td>\n",
       "      <td>0.0</td>\n",
       "      <td>0.0</td>\n",
       "      <td>0.0</td>\n",
       "      <td>0.0</td>\n",
       "      <td>0.0</td>\n",
       "      <td>0.0</td>\n",
       "      <td>0.0</td>\n",
       "      <td>0.0</td>\n",
       "      <td>0.0</td>\n",
       "      <td>0.0</td>\n",
       "      <td>0.0</td>\n",
       "      <td>0.0</td>\n",
       "      <td>0.0</td>\n",
       "      <td>0.0</td>\n",
       "      <td>0.0</td>\n",
       "      <td>0.0</td>\n",
       "      <td>0.0</td>\n",
       "      <td>0.0</td>\n",
       "      <td>0.0</td>\n",
       "      <td>0.0</td>\n",
       "      <td>0.0</td>\n",
       "      <td>0.0</td>\n",
       "      <td>0.0</td>\n",
       "      <td>0.0</td>\n",
       "      <td>0.0</td>\n",
       "      <td>0.0</td>\n",
       "      <td>0.0</td>\n",
       "      <td>0.0</td>\n",
       "      <td>0.0</td>\n",
       "      <td>0.0</td>\n",
       "      <td>0.0</td>\n",
       "      <td>0.0</td>\n",
       "      <td>0.0</td>\n",
       "      <td>0.0</td>\n",
       "      <td>0.0</td>\n",
       "      <td>0.0</td>\n",
       "      <td>0.0</td>\n",
       "      <td>0.0</td>\n",
       "      <td>0.0</td>\n",
       "      <td>0.0</td>\n",
       "      <td>0.0</td>\n",
       "      <td>0.0</td>\n",
       "      <td>0.0</td>\n",
       "      <td>0.0</td>\n",
       "      <td>0.0</td>\n",
       "      <td>0.0</td>\n",
       "      <td>0.0</td>\n",
       "      <td>0.0</td>\n",
       "      <td>0.0</td>\n",
       "      <td>0.0</td>\n",
       "      <td>0.0</td>\n",
       "      <td>0.0</td>\n",
       "      <td>0.0</td>\n",
       "      <td>0.0</td>\n",
       "      <td>0.0</td>\n",
       "      <td>0.0</td>\n",
       "      <td>0.0</td>\n",
       "      <td>0.0</td>\n",
       "      <td>0.0</td>\n",
       "      <td>0.0</td>\n",
       "    </tr>\n",
       "    <tr>\n",
       "      <th>2</th>\n",
       "      <td>1.0</td>\n",
       "      <td>14394</td>\n",
       "      <td>152</td>\n",
       "      <td>1</td>\n",
       "      <td>1</td>\n",
       "      <td>1</td>\n",
       "      <td>1</td>\n",
       "      <td>1</td>\n",
       "      <td>1</td>\n",
       "      <td>1</td>\n",
       "      <td>1</td>\n",
       "      <td>1</td>\n",
       "      <td>1</td>\n",
       "      <td>2</td>\n",
       "      <td>2</td>\n",
       "      <td>2</td>\n",
       "      <td>2</td>\n",
       "      <td>2</td>\n",
       "      <td>2</td>\n",
       "      <td>2</td>\n",
       "      <td>2</td>\n",
       "      <td>2</td>\n",
       "      <td>2</td>\n",
       "      <td>2</td>\n",
       "      <td>2</td>\n",
       "      <td>2</td>\n",
       "      <td>2</td>\n",
       "      <td>2</td>\n",
       "      <td>2</td>\n",
       "      <td>2</td>\n",
       "      <td>2</td>\n",
       "      <td>2</td>\n",
       "      <td>2</td>\n",
       "      <td>2</td>\n",
       "      <td>2</td>\n",
       "      <td>2</td>\n",
       "      <td>2</td>\n",
       "      <td>2</td>\n",
       "      <td>2</td>\n",
       "      <td>2</td>\n",
       "      <td>2</td>\n",
       "      <td>2</td>\n",
       "      <td>2</td>\n",
       "      <td>2</td>\n",
       "      <td>2</td>\n",
       "      <td>2</td>\n",
       "      <td>2</td>\n",
       "      <td>2</td>\n",
       "      <td>2</td>\n",
       "      <td>2</td>\n",
       "      <td>2</td>\n",
       "      <td>2</td>\n",
       "      <td>2</td>\n",
       "      <td>2</td>\n",
       "      <td>2</td>\n",
       "      <td>2</td>\n",
       "      <td>2</td>\n",
       "      <td>2</td>\n",
       "      <td>2</td>\n",
       "      <td>2</td>\n",
       "      <td>2</td>\n",
       "      <td>2</td>\n",
       "      <td>2</td>\n",
       "      <td>2</td>\n",
       "      <td>2</td>\n",
       "      <td>2</td>\n",
       "      <td>0.0</td>\n",
       "      <td>0.0</td>\n",
       "      <td>0.0</td>\n",
       "      <td>0.0</td>\n",
       "      <td>0.0</td>\n",
       "      <td>0.0</td>\n",
       "      <td>0.0</td>\n",
       "      <td>0.0</td>\n",
       "      <td>0.0</td>\n",
       "      <td>0.0</td>\n",
       "      <td>0.0</td>\n",
       "      <td>0.0</td>\n",
       "      <td>0.0</td>\n",
       "      <td>0.0</td>\n",
       "      <td>0.0</td>\n",
       "      <td>0.0</td>\n",
       "      <td>0.0</td>\n",
       "      <td>0.0</td>\n",
       "      <td>0.0</td>\n",
       "      <td>0.0</td>\n",
       "      <td>0.0</td>\n",
       "      <td>0.0</td>\n",
       "      <td>0.0</td>\n",
       "      <td>0.0</td>\n",
       "      <td>0.0</td>\n",
       "      <td>0.0</td>\n",
       "      <td>0.0</td>\n",
       "      <td>0.0</td>\n",
       "      <td>0.0</td>\n",
       "      <td>0.0</td>\n",
       "      <td>0.0</td>\n",
       "      <td>0.0</td>\n",
       "      <td>0.0</td>\n",
       "      <td>0.0</td>\n",
       "      <td>0.0</td>\n",
       "      <td>0.0</td>\n",
       "      <td>0.0</td>\n",
       "      <td>0.0</td>\n",
       "      <td>0.0</td>\n",
       "      <td>0.0</td>\n",
       "      <td>0.0</td>\n",
       "      <td>0.0</td>\n",
       "      <td>0.0</td>\n",
       "      <td>0.0</td>\n",
       "      <td>0.0</td>\n",
       "      <td>0.0</td>\n",
       "      <td>0.0</td>\n",
       "      <td>0.0</td>\n",
       "      <td>0.0</td>\n",
       "      <td>0.0</td>\n",
       "      <td>0.0</td>\n",
       "      <td>0.0</td>\n",
       "      <td>0.0</td>\n",
       "      <td>0.0</td>\n",
       "      <td>0.0</td>\n",
       "      <td>0.0</td>\n",
       "      <td>0.0</td>\n",
       "      <td>0.0</td>\n",
       "      <td>0.0</td>\n",
       "      <td>0.0</td>\n",
       "      <td>0.0</td>\n",
       "      <td>0.0</td>\n",
       "      <td>0.0</td>\n",
       "      <td>0.0</td>\n",
       "      <td>0.0</td>\n",
       "      <td>0.0</td>\n",
       "      <td>0.0</td>\n",
       "      <td>0.0</td>\n",
       "      <td>0.0</td>\n",
       "      <td>0.0</td>\n",
       "      <td>0.0</td>\n",
       "      <td>0.0</td>\n",
       "      <td>0.0</td>\n",
       "      <td>0.0</td>\n",
       "      <td>0.0</td>\n",
       "      <td>0.0</td>\n",
       "      <td>0.0</td>\n",
       "      <td>0.0</td>\n",
       "      <td>0.0</td>\n",
       "      <td>0.0</td>\n",
       "      <td>0.0</td>\n",
       "      <td>0.0</td>\n",
       "      <td>0.0</td>\n",
       "      <td>0.0</td>\n",
       "      <td>0.0</td>\n",
       "      <td>0.0</td>\n",
       "      <td>0.0</td>\n",
       "      <td>0.0</td>\n",
       "      <td>0.0</td>\n",
       "      <td>0.0</td>\n",
       "      <td>0.0</td>\n",
       "      <td>0.0</td>\n",
       "      <td>0.0</td>\n",
       "      <td>0.0</td>\n",
       "      <td>0.0</td>\n",
       "      <td>0.0</td>\n",
       "      <td>0.0</td>\n",
       "      <td>0.0</td>\n",
       "      <td>0.0</td>\n",
       "      <td>0.0</td>\n",
       "      <td>0.0</td>\n",
       "      <td>0.0</td>\n",
       "      <td>0.0</td>\n",
       "      <td>0.0</td>\n",
       "      <td>0.0</td>\n",
       "      <td>0.0</td>\n",
       "      <td>0.0</td>\n",
       "      <td>0.0</td>\n",
       "      <td>0.0</td>\n",
       "      <td>0.0</td>\n",
       "      <td>0.0</td>\n",
       "      <td>0.0</td>\n",
       "      <td>0.0</td>\n",
       "      <td>0.0</td>\n",
       "      <td>0.0</td>\n",
       "      <td>0.0</td>\n",
       "      <td>0.0</td>\n",
       "      <td>0.0</td>\n",
       "      <td>0.0</td>\n",
       "      <td>0.0</td>\n",
       "      <td>0.0</td>\n",
       "      <td>0.0</td>\n",
       "      <td>0.0</td>\n",
       "      <td>0.0</td>\n",
       "      <td>0.0</td>\n",
       "      <td>0.0</td>\n",
       "      <td>0.0</td>\n",
       "      <td>0.0</td>\n",
       "      <td>0.0</td>\n",
       "      <td>0.0</td>\n",
       "      <td>0.0</td>\n",
       "      <td>0.0</td>\n",
       "      <td>0.0</td>\n",
       "      <td>0.0</td>\n",
       "      <td>...</td>\n",
       "      <td>0.0</td>\n",
       "      <td>0.0</td>\n",
       "      <td>0.0</td>\n",
       "      <td>0.0</td>\n",
       "      <td>0.0</td>\n",
       "      <td>0.0</td>\n",
       "      <td>0.0</td>\n",
       "      <td>0.0</td>\n",
       "      <td>0.0</td>\n",
       "      <td>0.0</td>\n",
       "      <td>0.0</td>\n",
       "      <td>0.0</td>\n",
       "      <td>0.0</td>\n",
       "      <td>0.0</td>\n",
       "      <td>0.0</td>\n",
       "      <td>0.0</td>\n",
       "      <td>0.0</td>\n",
       "      <td>0.0</td>\n",
       "      <td>0.0</td>\n",
       "      <td>0.0</td>\n",
       "      <td>0.0</td>\n",
       "      <td>0.0</td>\n",
       "      <td>0.0</td>\n",
       "      <td>0.0</td>\n",
       "      <td>0.0</td>\n",
       "      <td>0.0</td>\n",
       "      <td>0.0</td>\n",
       "      <td>0.0</td>\n",
       "      <td>0.0</td>\n",
       "      <td>0.0</td>\n",
       "      <td>0.0</td>\n",
       "      <td>0.0</td>\n",
       "      <td>0.0</td>\n",
       "      <td>0.0</td>\n",
       "      <td>0.0</td>\n",
       "      <td>0.0</td>\n",
       "      <td>0.0</td>\n",
       "      <td>0.0</td>\n",
       "      <td>0.0</td>\n",
       "      <td>1.0</td>\n",
       "      <td>0.0</td>\n",
       "      <td>0.0</td>\n",
       "      <td>0.0</td>\n",
       "      <td>0.0</td>\n",
       "      <td>0.0</td>\n",
       "      <td>0.0</td>\n",
       "      <td>0.0</td>\n",
       "      <td>0.0</td>\n",
       "      <td>0.0</td>\n",
       "      <td>0.0</td>\n",
       "      <td>0.0</td>\n",
       "      <td>0.0</td>\n",
       "      <td>0.0</td>\n",
       "      <td>0.0</td>\n",
       "      <td>0.0</td>\n",
       "      <td>0.0</td>\n",
       "      <td>0.0</td>\n",
       "      <td>0.0</td>\n",
       "      <td>0.0</td>\n",
       "      <td>0.0</td>\n",
       "      <td>0.0</td>\n",
       "      <td>0.0</td>\n",
       "      <td>0.0</td>\n",
       "      <td>0.0</td>\n",
       "      <td>0.0</td>\n",
       "      <td>0.0</td>\n",
       "      <td>0.0</td>\n",
       "      <td>0.0</td>\n",
       "      <td>0.0</td>\n",
       "      <td>0.0</td>\n",
       "      <td>0.0</td>\n",
       "      <td>0.0</td>\n",
       "      <td>0.0</td>\n",
       "      <td>0.0</td>\n",
       "      <td>0.0</td>\n",
       "      <td>0.0</td>\n",
       "      <td>0.0</td>\n",
       "      <td>0.0</td>\n",
       "      <td>0.0</td>\n",
       "      <td>0.0</td>\n",
       "      <td>0.0</td>\n",
       "      <td>0.0</td>\n",
       "      <td>0.0</td>\n",
       "      <td>0.0</td>\n",
       "      <td>0.0</td>\n",
       "      <td>0.0</td>\n",
       "      <td>0.0</td>\n",
       "      <td>0.0</td>\n",
       "      <td>0.0</td>\n",
       "      <td>0.0</td>\n",
       "      <td>0.0</td>\n",
       "      <td>0.0</td>\n",
       "      <td>0.0</td>\n",
       "      <td>0.0</td>\n",
       "      <td>0.0</td>\n",
       "      <td>0.0</td>\n",
       "      <td>0.0</td>\n",
       "      <td>0.0</td>\n",
       "      <td>0.0</td>\n",
       "      <td>0.0</td>\n",
       "      <td>0.0</td>\n",
       "      <td>0.0</td>\n",
       "      <td>0.0</td>\n",
       "      <td>0.0</td>\n",
       "      <td>0.0</td>\n",
       "      <td>0.0</td>\n",
       "      <td>0.0</td>\n",
       "      <td>0.0</td>\n",
       "      <td>0.0</td>\n",
       "      <td>0.0</td>\n",
       "      <td>0.0</td>\n",
       "      <td>0.0</td>\n",
       "      <td>0.0</td>\n",
       "      <td>0.0</td>\n",
       "      <td>0.0</td>\n",
       "      <td>0.0</td>\n",
       "      <td>0.0</td>\n",
       "      <td>0.0</td>\n",
       "      <td>0.0</td>\n",
       "      <td>0.0</td>\n",
       "      <td>0.0</td>\n",
       "      <td>0.0</td>\n",
       "      <td>0.0</td>\n",
       "      <td>0.0</td>\n",
       "      <td>0.0</td>\n",
       "      <td>0.0</td>\n",
       "      <td>0.0</td>\n",
       "      <td>0.0</td>\n",
       "      <td>0.0</td>\n",
       "      <td>0.0</td>\n",
       "      <td>0.0</td>\n",
       "      <td>0.0</td>\n",
       "      <td>0.0</td>\n",
       "      <td>0.0</td>\n",
       "      <td>0.0</td>\n",
       "      <td>0.0</td>\n",
       "      <td>0.0</td>\n",
       "      <td>0.0</td>\n",
       "      <td>0.0</td>\n",
       "      <td>0.0</td>\n",
       "      <td>0.0</td>\n",
       "      <td>0.0</td>\n",
       "      <td>0.0</td>\n",
       "      <td>0.0</td>\n",
       "      <td>0.0</td>\n",
       "      <td>0.0</td>\n",
       "      <td>0.0</td>\n",
       "      <td>0.0</td>\n",
       "      <td>0.0</td>\n",
       "      <td>0.0</td>\n",
       "      <td>0.0</td>\n",
       "      <td>0.0</td>\n",
       "      <td>0.0</td>\n",
       "      <td>0.0</td>\n",
       "      <td>0.0</td>\n",
       "      <td>0.0</td>\n",
       "      <td>0.0</td>\n",
       "      <td>0.0</td>\n",
       "      <td>0.0</td>\n",
       "      <td>0.0</td>\n",
       "      <td>0.0</td>\n",
       "      <td>0.0</td>\n",
       "      <td>0.0</td>\n",
       "      <td>0.0</td>\n",
       "      <td>0.0</td>\n",
       "      <td>0.0</td>\n",
       "      <td>0.0</td>\n",
       "      <td>0.0</td>\n",
       "      <td>0.0</td>\n",
       "      <td>0.0</td>\n",
       "      <td>0.0</td>\n",
       "      <td>0.0</td>\n",
       "      <td>0.0</td>\n",
       "      <td>0.0</td>\n",
       "      <td>0.0</td>\n",
       "      <td>0.0</td>\n",
       "      <td>0.0</td>\n",
       "      <td>0.0</td>\n",
       "      <td>0.0</td>\n",
       "      <td>0.0</td>\n",
       "      <td>0.0</td>\n",
       "      <td>0.0</td>\n",
       "      <td>0.0</td>\n",
       "      <td>0.0</td>\n",
       "      <td>0.0</td>\n",
       "      <td>0.0</td>\n",
       "      <td>0.0</td>\n",
       "      <td>0.0</td>\n",
       "      <td>0.0</td>\n",
       "      <td>0.0</td>\n",
       "      <td>0.0</td>\n",
       "      <td>0.0</td>\n",
       "      <td>0.0</td>\n",
       "      <td>0.0</td>\n",
       "      <td>0.0</td>\n",
       "      <td>0.0</td>\n",
       "      <td>0.0</td>\n",
       "      <td>0.0</td>\n",
       "      <td>0.0</td>\n",
       "      <td>0.0</td>\n",
       "    </tr>\n",
       "  </tbody>\n",
       "</table>\n",
       "<p>3 rows × 452 columns</p>\n",
       "</div>"
      ],
      "text/plain": [
       "   fault_severity     id location  resource_type_resource_type 1  \\\n",
       "0             1.0  14121      118                              1   \n",
       "1             0.0   9320       91                              1   \n",
       "2             1.0  14394      152                              1   \n",
       "\n",
       "   resource_type_resource_type 10  resource_type_resource_type 2  \\\n",
       "0                               1                              1   \n",
       "1                               1                              1   \n",
       "2                               1                              1   \n",
       "\n",
       "   resource_type_resource_type 3  resource_type_resource_type 4  \\\n",
       "0                              1                              1   \n",
       "1                              1                              1   \n",
       "2                              1                              1   \n",
       "\n",
       "   resource_type_resource_type 5  resource_type_resource_type 6  \\\n",
       "0                              1                              1   \n",
       "1                              1                              1   \n",
       "2                              1                              1   \n",
       "\n",
       "   resource_type_resource_type 7  resource_type_resource_type 8  \\\n",
       "0                              1                              1   \n",
       "1                              1                              1   \n",
       "2                              1                              1   \n",
       "\n",
       "   resource_type_resource_type 9  event_type_event_type 1  \\\n",
       "0                              1                        2   \n",
       "1                              1                        2   \n",
       "2                              1                        2   \n",
       "\n",
       "   event_type_event_type 10  event_type_event_type 11  \\\n",
       "0                         2                         2   \n",
       "1                         2                         2   \n",
       "2                         2                         2   \n",
       "\n",
       "   event_type_event_type 12  event_type_event_type 13  \\\n",
       "0                         2                         2   \n",
       "1                         2                         2   \n",
       "2                         2                         2   \n",
       "\n",
       "   event_type_event_type 14  event_type_event_type 15  \\\n",
       "0                         2                         2   \n",
       "1                         2                         2   \n",
       "2                         2                         2   \n",
       "\n",
       "   event_type_event_type 17  event_type_event_type 18  \\\n",
       "0                         2                         2   \n",
       "1                         2                         2   \n",
       "2                         2                         2   \n",
       "\n",
       "   event_type_event_type 19  event_type_event_type 2  \\\n",
       "0                         2                        2   \n",
       "1                         2                        2   \n",
       "2                         2                        2   \n",
       "\n",
       "   event_type_event_type 20  event_type_event_type 21  \\\n",
       "0                         2                         2   \n",
       "1                         2                         2   \n",
       "2                         2                         2   \n",
       "\n",
       "   event_type_event_type 22  event_type_event_type 23  \\\n",
       "0                         2                         2   \n",
       "1                         2                         2   \n",
       "2                         2                         2   \n",
       "\n",
       "   event_type_event_type 24  event_type_event_type 25  \\\n",
       "0                         2                         2   \n",
       "1                         2                         2   \n",
       "2                         2                         2   \n",
       "\n",
       "   event_type_event_type 26  event_type_event_type 27  \\\n",
       "0                         2                         2   \n",
       "1                         2                         2   \n",
       "2                         2                         2   \n",
       "\n",
       "   event_type_event_type 28  event_type_event_type 29  \\\n",
       "0                         2                         2   \n",
       "1                         2                         2   \n",
       "2                         2                         2   \n",
       "\n",
       "   event_type_event_type 3  event_type_event_type 30  \\\n",
       "0                        2                         2   \n",
       "1                        2                         2   \n",
       "2                        2                         2   \n",
       "\n",
       "   event_type_event_type 31  event_type_event_type 32  \\\n",
       "0                         2                         2   \n",
       "1                         2                         2   \n",
       "2                         2                         2   \n",
       "\n",
       "   event_type_event_type 33  event_type_event_type 34  \\\n",
       "0                         2                         2   \n",
       "1                         2                         2   \n",
       "2                         2                         2   \n",
       "\n",
       "   event_type_event_type 35  event_type_event_type 36  \\\n",
       "0                         2                         2   \n",
       "1                         2                         2   \n",
       "2                         2                         2   \n",
       "\n",
       "   event_type_event_type 37  event_type_event_type 38  \\\n",
       "0                         2                         2   \n",
       "1                         2                         2   \n",
       "2                         2                         2   \n",
       "\n",
       "   event_type_event_type 39  event_type_event_type 4  \\\n",
       "0                         2                        2   \n",
       "1                         2                        2   \n",
       "2                         2                        2   \n",
       "\n",
       "   event_type_event_type 40  event_type_event_type 41  \\\n",
       "0                         2                         2   \n",
       "1                         2                         2   \n",
       "2                         2                         2   \n",
       "\n",
       "   event_type_event_type 42  event_type_event_type 43  \\\n",
       "0                         2                         2   \n",
       "1                         2                         2   \n",
       "2                         2                         2   \n",
       "\n",
       "   event_type_event_type 44  event_type_event_type 45  \\\n",
       "0                         2                         2   \n",
       "1                         2                         2   \n",
       "2                         2                         2   \n",
       "\n",
       "   event_type_event_type 46  event_type_event_type 47  \\\n",
       "0                         2                         2   \n",
       "1                         2                         2   \n",
       "2                         2                         2   \n",
       "\n",
       "   event_type_event_type 48  event_type_event_type 49  \\\n",
       "0                         2                         2   \n",
       "1                         2                         2   \n",
       "2                         2                         2   \n",
       "\n",
       "   event_type_event_type 5  event_type_event_type 50  \\\n",
       "0                        2                         2   \n",
       "1                        2                         2   \n",
       "2                        2                         2   \n",
       "\n",
       "   event_type_event_type 51  event_type_event_type 52  \\\n",
       "0                         2                         2   \n",
       "1                         2                         2   \n",
       "2                         2                         2   \n",
       "\n",
       "   event_type_event_type 53  event_type_event_type 54  \\\n",
       "0                         2                         2   \n",
       "1                         2                         2   \n",
       "2                         2                         2   \n",
       "\n",
       "   event_type_event_type 6  event_type_event_type 7  event_type_event_type 8  \\\n",
       "0                        2                        2                        2   \n",
       "1                        2                        2                        2   \n",
       "2                        2                        2                        2   \n",
       "\n",
       "   event_type_event_type 9  log_feature_feature 1  log_feature_feature 10  \\\n",
       "0                        2                    0.0                     0.0   \n",
       "1                        2                    0.0                     0.0   \n",
       "2                        2                    0.0                     0.0   \n",
       "\n",
       "   log_feature_feature 100  log_feature_feature 101  log_feature_feature 102  \\\n",
       "0                      0.0                      0.0                      0.0   \n",
       "1                      0.0                      0.0                      0.0   \n",
       "2                      0.0                      0.0                      0.0   \n",
       "\n",
       "   log_feature_feature 103  log_feature_feature 104  log_feature_feature 105  \\\n",
       "0                      0.0                      0.0                      0.0   \n",
       "1                      0.0                      0.0                      0.0   \n",
       "2                      0.0                      0.0                      0.0   \n",
       "\n",
       "   log_feature_feature 106  log_feature_feature 107  log_feature_feature 108  \\\n",
       "0                      0.0                      0.0                      0.0   \n",
       "1                      0.0                      0.0                      0.0   \n",
       "2                      0.0                      0.0                      0.0   \n",
       "\n",
       "   log_feature_feature 109  log_feature_feature 11  log_feature_feature 110  \\\n",
       "0                      0.0                     0.0                      0.0   \n",
       "1                      0.0                     0.0                      0.0   \n",
       "2                      0.0                     0.0                      0.0   \n",
       "\n",
       "   log_feature_feature 111  log_feature_feature 112  log_feature_feature 113  \\\n",
       "0                      0.0                      0.0                      0.0   \n",
       "1                      0.0                      0.0                      0.0   \n",
       "2                      0.0                      0.0                      0.0   \n",
       "\n",
       "   log_feature_feature 114  log_feature_feature 115  log_feature_feature 116  \\\n",
       "0                      0.0                      0.0                      0.0   \n",
       "1                      0.0                      0.0                      0.0   \n",
       "2                      0.0                      0.0                      0.0   \n",
       "\n",
       "   log_feature_feature 117  log_feature_feature 118  log_feature_feature 119  \\\n",
       "0                      0.0                      0.0                      0.0   \n",
       "1                      0.0                      0.0                      0.0   \n",
       "2                      0.0                      0.0                      0.0   \n",
       "\n",
       "   log_feature_feature 12  log_feature_feature 120  log_feature_feature 121  \\\n",
       "0                     0.0                      0.0                      0.0   \n",
       "1                     0.0                      0.0                      0.0   \n",
       "2                     0.0                      0.0                      0.0   \n",
       "\n",
       "   log_feature_feature 122  log_feature_feature 123  log_feature_feature 124  \\\n",
       "0                      0.0                      0.0                      0.0   \n",
       "1                      0.0                      0.0                      0.0   \n",
       "2                      0.0                      0.0                      0.0   \n",
       "\n",
       "   log_feature_feature 125  log_feature_feature 126  log_feature_feature 127  \\\n",
       "0                      0.0                      0.0                      0.0   \n",
       "1                      0.0                      0.0                      0.0   \n",
       "2                      0.0                      0.0                      0.0   \n",
       "\n",
       "   log_feature_feature 128  log_feature_feature 129  log_feature_feature 13  \\\n",
       "0                      0.0                      0.0                     0.0   \n",
       "1                      0.0                      0.0                     0.0   \n",
       "2                      0.0                      0.0                     0.0   \n",
       "\n",
       "   log_feature_feature 130  log_feature_feature 131  log_feature_feature 132  \\\n",
       "0                      0.0                      0.0                      0.0   \n",
       "1                      0.0                      0.0                      0.0   \n",
       "2                      0.0                      0.0                      0.0   \n",
       "\n",
       "   log_feature_feature 133  log_feature_feature 134  log_feature_feature 135  \\\n",
       "0                      0.0                      0.0                      0.0   \n",
       "1                      0.0                      0.0                      0.0   \n",
       "2                      0.0                      0.0                      0.0   \n",
       "\n",
       "   log_feature_feature 136  log_feature_feature 137  log_feature_feature 138  \\\n",
       "0                      0.0                      0.0                      0.0   \n",
       "1                      0.0                      0.0                      0.0   \n",
       "2                      0.0                      0.0                      0.0   \n",
       "\n",
       "   log_feature_feature 139  log_feature_feature 14  log_feature_feature 140  \\\n",
       "0                      0.0                     0.0                      0.0   \n",
       "1                      0.0                     0.0                      0.0   \n",
       "2                      0.0                     0.0                      0.0   \n",
       "\n",
       "   log_feature_feature 141  log_feature_feature 142  log_feature_feature 143  \\\n",
       "0                      0.0                      0.0                      0.0   \n",
       "1                      0.0                      0.0                      0.0   \n",
       "2                      0.0                      0.0                      0.0   \n",
       "\n",
       "   log_feature_feature 144  log_feature_feature 145  log_feature_feature 146  \\\n",
       "0                      0.0                      0.0                      0.0   \n",
       "1                      0.0                      0.0                      0.0   \n",
       "2                      0.0                      0.0                      0.0   \n",
       "\n",
       "   log_feature_feature 147  log_feature_feature 148  log_feature_feature 149  \\\n",
       "0                      0.0                      0.0                      0.0   \n",
       "1                      0.0                      0.0                      0.0   \n",
       "2                      0.0                      0.0                      0.0   \n",
       "\n",
       "   log_feature_feature 15  log_feature_feature 150  log_feature_feature 151  \\\n",
       "0                     0.0                      0.0                      0.0   \n",
       "1                     0.0                      0.0                      0.0   \n",
       "2                     0.0                      0.0                      0.0   \n",
       "\n",
       "   log_feature_feature 152  log_feature_feature 153  log_feature_feature 154  \\\n",
       "0                      0.0                      0.0                      0.0   \n",
       "1                      0.0                      0.0                      0.0   \n",
       "2                      0.0                      0.0                      0.0   \n",
       "\n",
       "   log_feature_feature 155  log_feature_feature 156  log_feature_feature 157  \\\n",
       "0                      0.0                      0.0                      0.0   \n",
       "1                      0.0                      0.0                      0.0   \n",
       "2                      0.0                      0.0                      0.0   \n",
       "\n",
       "   log_feature_feature 158  log_feature_feature 159  log_feature_feature 16  \\\n",
       "0                      0.0                      0.0                     0.0   \n",
       "1                      0.0                      0.0                     0.0   \n",
       "2                      0.0                      0.0                     0.0   \n",
       "\n",
       "   log_feature_feature 160  log_feature_feature 161  log_feature_feature 162  \\\n",
       "0                      0.0                      0.0                      0.0   \n",
       "1                      0.0                      0.0                      0.0   \n",
       "2                      0.0                      0.0                      0.0   \n",
       "\n",
       "   log_feature_feature 163  log_feature_feature 164  log_feature_feature 165  \\\n",
       "0                      0.0                      0.0                      0.0   \n",
       "1                      0.0                      0.0                      0.0   \n",
       "2                      0.0                      0.0                      0.0   \n",
       "\n",
       "   log_feature_feature 166  log_feature_feature 167  log_feature_feature 168  \\\n",
       "0                      0.0                      0.0                      0.0   \n",
       "1                      0.0                      0.0                      0.0   \n",
       "2                      0.0                      0.0                      0.0   \n",
       "\n",
       "   log_feature_feature 169  log_feature_feature 17  log_feature_feature 170  \\\n",
       "0                      0.0                     0.0                      0.0   \n",
       "1                      0.0                     0.0                      0.0   \n",
       "2                      0.0                     0.0                      0.0   \n",
       "\n",
       "   log_feature_feature 171  log_feature_feature 172  log_feature_feature 173  \\\n",
       "0                      0.0                      0.0                      0.0   \n",
       "1                      0.0                      0.0                      0.0   \n",
       "2                      0.0                      0.0                      0.0   \n",
       "\n",
       "   log_feature_feature 174  log_feature_feature 175  log_feature_feature 176  \\\n",
       "0                      0.0                      0.0                      0.0   \n",
       "1                      0.0                      0.0                      0.0   \n",
       "2                      0.0                      0.0                      0.0   \n",
       "\n",
       "   log_feature_feature 177  log_feature_feature 178  log_feature_feature 179  \\\n",
       "0                      0.0                      0.0                      0.0   \n",
       "1                      0.0                      0.0                      0.0   \n",
       "2                      0.0                      0.0                      0.0   \n",
       "\n",
       "   log_feature_feature 18  log_feature_feature 180  log_feature_feature 181  \\\n",
       "0                     0.0                      0.0                      0.0   \n",
       "1                     0.0                      0.0                      0.0   \n",
       "2                     0.0                      0.0                      0.0   \n",
       "\n",
       "   log_feature_feature 182  log_feature_feature 183  log_feature_feature 184  \\\n",
       "0                      0.0                      0.0                      0.0   \n",
       "1                      0.0                      0.0                      0.0   \n",
       "2                      0.0                      0.0                      0.0   \n",
       "\n",
       "   log_feature_feature 185  log_feature_feature 186  log_feature_feature 187  \\\n",
       "0                      0.0                      0.0                      0.0   \n",
       "1                      0.0                      0.0                      0.0   \n",
       "2                      0.0                      0.0                      0.0   \n",
       "\n",
       "   log_feature_feature 188  log_feature_feature 189  log_feature_feature 19  \\\n",
       "0                      0.0                      0.0                     0.0   \n",
       "1                      0.0                      0.0                     0.0   \n",
       "2                      0.0                      0.0                     0.0   \n",
       "\n",
       "   log_feature_feature 190  log_feature_feature 191  log_feature_feature 192  \\\n",
       "0                      0.0                      0.0                      0.0   \n",
       "1                      0.0                      0.0                      0.0   \n",
       "2                      0.0                      0.0                      0.0   \n",
       "\n",
       "   log_feature_feature 193  log_feature_feature 194  log_feature_feature 195  \\\n",
       "0                      0.0                      0.0                      0.0   \n",
       "1                      0.0                      0.0                      0.0   \n",
       "2                      0.0                      0.0                      0.0   \n",
       "\n",
       "   log_feature_feature 196  log_feature_feature 197  log_feature_feature 198  \\\n",
       "0                      0.0                      0.0                      0.0   \n",
       "1                      0.0                      0.0                      0.0   \n",
       "2                      0.0                      0.0                      0.0   \n",
       "\n",
       "   log_feature_feature 199  log_feature_feature 2  log_feature_feature 20  \\\n",
       "0                      0.0                    0.0                     0.0   \n",
       "1                      0.0                    0.0                     0.0   \n",
       "2                      0.0                    0.0                     0.0   \n",
       "\n",
       "   log_feature_feature 200  log_feature_feature 201  log_feature_feature 202  \\\n",
       "0                      0.0                      0.0                      0.0   \n",
       "1                      0.0                      0.0                      0.0   \n",
       "2                      0.0                      0.0                      0.0   \n",
       "\n",
       "   log_feature_feature 203  log_feature_feature 204  log_feature_feature 205  \\\n",
       "0                      0.0                      0.0                      0.0   \n",
       "1                      0.0                      0.0                      0.0   \n",
       "2                      0.0                      0.0                      0.0   \n",
       "\n",
       "   log_feature_feature 206  log_feature_feature 207  log_feature_feature 208  \\\n",
       "0                      0.0                      0.0                      0.0   \n",
       "1                      0.0                      0.0                      0.0   \n",
       "2                      0.0                      0.0                      0.0   \n",
       "\n",
       "   log_feature_feature 209  log_feature_feature 21  log_feature_feature 210  \\\n",
       "0                      0.0                     0.0                      0.0   \n",
       "1                      0.0                     0.0                      0.0   \n",
       "2                      0.0                     0.0                      0.0   \n",
       "\n",
       "   log_feature_feature 211  log_feature_feature 212  log_feature_feature 213  \\\n",
       "0                      0.0                      0.0                      0.0   \n",
       "1                      0.0                      0.0                      0.0   \n",
       "2                      0.0                      0.0                      0.0   \n",
       "\n",
       "   log_feature_feature 214  log_feature_feature 215  log_feature_feature 216  \\\n",
       "0                      0.0                      0.0                      0.0   \n",
       "1                      0.0                      0.0                      0.0   \n",
       "2                      0.0                      0.0                      0.0   \n",
       "\n",
       "   log_feature_feature 217  log_feature_feature 218  log_feature_feature 219  \\\n",
       "0                      0.0                      0.0                      0.0   \n",
       "1                      0.0                      0.0                      0.0   \n",
       "2                      0.0                      0.0                      0.0   \n",
       "\n",
       "            ...            log_feature_feature 267  log_feature_feature 268  \\\n",
       "0           ...                                0.0                      0.0   \n",
       "1           ...                                0.0                      0.0   \n",
       "2           ...                                0.0                      0.0   \n",
       "\n",
       "   log_feature_feature 269  log_feature_feature 27  log_feature_feature 270  \\\n",
       "0                      0.0                     0.0                      0.0   \n",
       "1                      0.0                     0.0                      0.0   \n",
       "2                      0.0                     0.0                      0.0   \n",
       "\n",
       "   log_feature_feature 271  log_feature_feature 272  log_feature_feature 273  \\\n",
       "0                      0.0                      0.0                      0.0   \n",
       "1                      0.0                      0.0                      0.0   \n",
       "2                      0.0                      0.0                      0.0   \n",
       "\n",
       "   log_feature_feature 274  log_feature_feature 275  log_feature_feature 276  \\\n",
       "0                      0.0                      0.0                      0.0   \n",
       "1                      0.0                      0.0                      0.0   \n",
       "2                      0.0                      0.0                      0.0   \n",
       "\n",
       "   log_feature_feature 277  log_feature_feature 278  log_feature_feature 279  \\\n",
       "0                      0.0                      0.0                      0.0   \n",
       "1                      0.0                      0.0                      0.0   \n",
       "2                      0.0                      0.0                      0.0   \n",
       "\n",
       "   log_feature_feature 28  log_feature_feature 280  log_feature_feature 281  \\\n",
       "0                     0.0                      0.0                      0.0   \n",
       "1                     0.0                      0.0                      0.0   \n",
       "2                     0.0                      0.0                      0.0   \n",
       "\n",
       "   log_feature_feature 282  log_feature_feature 283  log_feature_feature 284  \\\n",
       "0                      0.0                      0.0                      0.0   \n",
       "1                      0.0                      0.0                      0.0   \n",
       "2                      0.0                      0.0                      0.0   \n",
       "\n",
       "   log_feature_feature 285  log_feature_feature 286  log_feature_feature 287  \\\n",
       "0                      0.0                      0.0                      0.0   \n",
       "1                      0.0                      0.0                      0.0   \n",
       "2                      0.0                      0.0                      0.0   \n",
       "\n",
       "   log_feature_feature 288  log_feature_feature 289  log_feature_feature 29  \\\n",
       "0                      0.0                      0.0                     0.0   \n",
       "1                      0.0                      0.0                     0.0   \n",
       "2                      0.0                      0.0                     0.0   \n",
       "\n",
       "   log_feature_feature 290  log_feature_feature 291  log_feature_feature 292  \\\n",
       "0                      0.0                      0.0                      0.0   \n",
       "1                      0.0                      0.0                      0.0   \n",
       "2                      0.0                      0.0                      0.0   \n",
       "\n",
       "   log_feature_feature 293  log_feature_feature 294  log_feature_feature 295  \\\n",
       "0                      0.0                      0.0                      0.0   \n",
       "1                      0.0                      0.0                      0.0   \n",
       "2                      0.0                      0.0                      0.0   \n",
       "\n",
       "   log_feature_feature 296  log_feature_feature 297  log_feature_feature 298  \\\n",
       "0                      0.0                      0.0                      0.0   \n",
       "1                      0.0                      0.0                      0.0   \n",
       "2                      0.0                      0.0                      0.0   \n",
       "\n",
       "   log_feature_feature 299  log_feature_feature 3  log_feature_feature 30  \\\n",
       "0                      0.0                    0.0                     0.0   \n",
       "1                      0.0                    0.0                     0.0   \n",
       "2                      0.0                    0.0                     0.0   \n",
       "\n",
       "   log_feature_feature 300  log_feature_feature 301  log_feature_feature 302  \\\n",
       "0                      0.0                      0.0                      0.0   \n",
       "1                      0.0                      0.0                      0.0   \n",
       "2                      0.0                      1.0                      0.0   \n",
       "\n",
       "   log_feature_feature 303  log_feature_feature 304  log_feature_feature 305  \\\n",
       "0                      0.0                      0.0                      0.0   \n",
       "1                      0.0                      0.0                      0.0   \n",
       "2                      0.0                      0.0                      0.0   \n",
       "\n",
       "   log_feature_feature 306  log_feature_feature 307  log_feature_feature 308  \\\n",
       "0                      0.0                      0.0                      0.0   \n",
       "1                      0.0                      0.0                      0.0   \n",
       "2                      0.0                      0.0                      0.0   \n",
       "\n",
       "   log_feature_feature 309  log_feature_feature 31  log_feature_feature 310  \\\n",
       "0                      0.0                     0.0                      0.0   \n",
       "1                      0.0                     0.0                      0.0   \n",
       "2                      0.0                     0.0                      0.0   \n",
       "\n",
       "   log_feature_feature 311  log_feature_feature 312  log_feature_feature 313  \\\n",
       "0                      0.0                     19.0                      0.0   \n",
       "1                      0.0                      0.0                      0.0   \n",
       "2                      0.0                      0.0                      0.0   \n",
       "\n",
       "   log_feature_feature 314  log_feature_feature 315  log_feature_feature 316  \\\n",
       "0                      0.0                      0.0                      0.0   \n",
       "1                      0.0                    200.0                      0.0   \n",
       "2                      0.0                      0.0                      0.0   \n",
       "\n",
       "   log_feature_feature 317  log_feature_feature 318  log_feature_feature 319  \\\n",
       "0                      0.0                      0.0                      0.0   \n",
       "1                      0.0                      0.0                      0.0   \n",
       "2                      0.0                      0.0                      0.0   \n",
       "\n",
       "   log_feature_feature 32  log_feature_feature 320  log_feature_feature 321  \\\n",
       "0                     0.0                      0.0                      0.0   \n",
       "1                     0.0                      0.0                      0.0   \n",
       "2                     0.0                      0.0                      0.0   \n",
       "\n",
       "   log_feature_feature 322  log_feature_feature 323  log_feature_feature 324  \\\n",
       "0                      0.0                      0.0                      0.0   \n",
       "1                      0.0                      0.0                      0.0   \n",
       "2                      0.0                      0.0                      0.0   \n",
       "\n",
       "   log_feature_feature 325  log_feature_feature 326  log_feature_feature 327  \\\n",
       "0                      0.0                      0.0                      0.0   \n",
       "1                      0.0                      0.0                      0.0   \n",
       "2                      0.0                      0.0                      0.0   \n",
       "\n",
       "   log_feature_feature 328  log_feature_feature 329  log_feature_feature 33  \\\n",
       "0                      0.0                      0.0                     0.0   \n",
       "1                      0.0                      0.0                     0.0   \n",
       "2                      0.0                      0.0                     0.0   \n",
       "\n",
       "   log_feature_feature 330  log_feature_feature 331  log_feature_feature 332  \\\n",
       "0                      0.0                      0.0                      0.0   \n",
       "1                      0.0                      0.0                      0.0   \n",
       "2                      0.0                      0.0                      0.0   \n",
       "\n",
       "   log_feature_feature 333  log_feature_feature 334  log_feature_feature 335  \\\n",
       "0                      0.0                      0.0                      0.0   \n",
       "1                      0.0                      0.0                      0.0   \n",
       "2                      0.0                      0.0                      0.0   \n",
       "\n",
       "   log_feature_feature 336  log_feature_feature 337  log_feature_feature 338  \\\n",
       "0                      0.0                      0.0                      0.0   \n",
       "1                      0.0                      0.0                      0.0   \n",
       "2                      0.0                      0.0                      0.0   \n",
       "\n",
       "   log_feature_feature 339  log_feature_feature 34  log_feature_feature 340  \\\n",
       "0                      0.0                     0.0                      0.0   \n",
       "1                      0.0                     0.0                      0.0   \n",
       "2                      0.0                     0.0                      0.0   \n",
       "\n",
       "   log_feature_feature 341  log_feature_feature 342  log_feature_feature 343  \\\n",
       "0                      0.0                      0.0                      0.0   \n",
       "1                      0.0                      0.0                      0.0   \n",
       "2                      0.0                      0.0                      0.0   \n",
       "\n",
       "   log_feature_feature 344  log_feature_feature 345  log_feature_feature 346  \\\n",
       "0                      0.0                      0.0                      0.0   \n",
       "1                      0.0                      0.0                      0.0   \n",
       "2                      0.0                      0.0                      0.0   \n",
       "\n",
       "   log_feature_feature 347  log_feature_feature 348  log_feature_feature 349  \\\n",
       "0                      0.0                      0.0                      0.0   \n",
       "1                      0.0                      0.0                      0.0   \n",
       "2                      0.0                      0.0                      0.0   \n",
       "\n",
       "   log_feature_feature 35  log_feature_feature 350  log_feature_feature 351  \\\n",
       "0                     0.0                      0.0                      0.0   \n",
       "1                     0.0                      0.0                      0.0   \n",
       "2                     0.0                      0.0                      0.0   \n",
       "\n",
       "   log_feature_feature 352  log_feature_feature 353  log_feature_feature 354  \\\n",
       "0                      0.0                      0.0                      0.0   \n",
       "1                      0.0                      0.0                      0.0   \n",
       "2                      0.0                      0.0                      0.0   \n",
       "\n",
       "   log_feature_feature 355  log_feature_feature 356  log_feature_feature 357  \\\n",
       "0                      0.0                      0.0                      0.0   \n",
       "1                      0.0                      0.0                      0.0   \n",
       "2                      0.0                      0.0                      0.0   \n",
       "\n",
       "   log_feature_feature 358  log_feature_feature 359  log_feature_feature 36  \\\n",
       "0                      0.0                      0.0                     0.0   \n",
       "1                      0.0                      0.0                     0.0   \n",
       "2                      0.0                      0.0                     0.0   \n",
       "\n",
       "   log_feature_feature 360  log_feature_feature 361  log_feature_feature 362  \\\n",
       "0                      0.0                      0.0                      0.0   \n",
       "1                      0.0                      0.0                      0.0   \n",
       "2                      0.0                      0.0                      0.0   \n",
       "\n",
       "   log_feature_feature 363  log_feature_feature 364  log_feature_feature 365  \\\n",
       "0                      0.0                      0.0                      0.0   \n",
       "1                      0.0                      0.0                      0.0   \n",
       "2                      0.0                      0.0                      0.0   \n",
       "\n",
       "   log_feature_feature 366  log_feature_feature 367  log_feature_feature 368  \\\n",
       "0                      0.0                      0.0                      0.0   \n",
       "1                      0.0                      0.0                      0.0   \n",
       "2                      0.0                      0.0                      0.0   \n",
       "\n",
       "   log_feature_feature 369  log_feature_feature 37  log_feature_feature 370  \\\n",
       "0                      0.0                     0.0                      0.0   \n",
       "1                      0.0                     0.0                      0.0   \n",
       "2                      0.0                     0.0                      0.0   \n",
       "\n",
       "   log_feature_feature 371  log_feature_feature 372  log_feature_feature 373  \\\n",
       "0                      0.0                      0.0                      0.0   \n",
       "1                      0.0                      0.0                      0.0   \n",
       "2                      0.0                      0.0                      0.0   \n",
       "\n",
       "   log_feature_feature 374  log_feature_feature 375  log_feature_feature 376  \\\n",
       "0                      0.0                      0.0                      0.0   \n",
       "1                      0.0                      0.0                      0.0   \n",
       "2                      0.0                      0.0                      0.0   \n",
       "\n",
       "   log_feature_feature 377  log_feature_feature 378  log_feature_feature 379  \\\n",
       "0                      0.0                      0.0                      0.0   \n",
       "1                      0.0                      0.0                      0.0   \n",
       "2                      0.0                      0.0                      0.0   \n",
       "\n",
       "   log_feature_feature 38  log_feature_feature 380  log_feature_feature 381  \\\n",
       "0                     0.0                      0.0                      0.0   \n",
       "1                     0.0                      0.0                      0.0   \n",
       "2                     0.0                      0.0                      0.0   \n",
       "\n",
       "   log_feature_feature 382  log_feature_feature 383  log_feature_feature 384  \\\n",
       "0                      0.0                      0.0                      0.0   \n",
       "1                      0.0                      0.0                      0.0   \n",
       "2                      0.0                      0.0                      0.0   \n",
       "\n",
       "   log_feature_feature 385  log_feature_feature 386  log_feature_feature 39  \\\n",
       "0                      0.0                      0.0                     0.0   \n",
       "1                      0.0                      0.0                     0.0   \n",
       "2                      0.0                      0.0                     0.0   \n",
       "\n",
       "   log_feature_feature 4  log_feature_feature 40  log_feature_feature 41  \\\n",
       "0                    0.0                     0.0                     0.0   \n",
       "1                    0.0                     0.0                     0.0   \n",
       "2                    0.0                     0.0                     0.0   \n",
       "\n",
       "   log_feature_feature 42  log_feature_feature 43  log_feature_feature 44  \\\n",
       "0                     0.0                     0.0                     0.0   \n",
       "1                     0.0                     0.0                     0.0   \n",
       "2                     0.0                     0.0                     0.0   \n",
       "\n",
       "   log_feature_feature 45  log_feature_feature 46  log_feature_feature 47  \\\n",
       "0                     0.0                     0.0                     0.0   \n",
       "1                     0.0                     0.0                     0.0   \n",
       "2                     0.0                     0.0                     0.0   \n",
       "\n",
       "   log_feature_feature 48  log_feature_feature 49  log_feature_feature 5  \\\n",
       "0                     0.0                     0.0                    0.0   \n",
       "1                     0.0                     0.0                    0.0   \n",
       "2                     0.0                     0.0                    0.0   \n",
       "\n",
       "   log_feature_feature 50  log_feature_feature 51  log_feature_feature 52  \\\n",
       "0                     0.0                     0.0                     0.0   \n",
       "1                     0.0                     0.0                     0.0   \n",
       "2                     0.0                     0.0                     0.0   \n",
       "\n",
       "   log_feature_feature 53  log_feature_feature 54  log_feature_feature 55  \\\n",
       "0                     0.0                     0.0                     0.0   \n",
       "1                     0.0                     0.0                     0.0   \n",
       "2                     0.0                     0.0                     0.0   \n",
       "\n",
       "   log_feature_feature 56  log_feature_feature 57  log_feature_feature 58  \\\n",
       "0                     0.0                     0.0                     0.0   \n",
       "1                     0.0                     0.0                     0.0   \n",
       "2                     0.0                     0.0                     0.0   \n",
       "\n",
       "   log_feature_feature 59  log_feature_feature 6  log_feature_feature 60  \\\n",
       "0                     0.0                    0.0                     0.0   \n",
       "1                     0.0                    0.0                     0.0   \n",
       "2                     0.0                    0.0                     0.0   \n",
       "\n",
       "   log_feature_feature 61  log_feature_feature 62  log_feature_feature 63  \\\n",
       "0                     0.0                     0.0                     0.0   \n",
       "1                     0.0                     0.0                     0.0   \n",
       "2                     0.0                     0.0                     0.0   \n",
       "\n",
       "   log_feature_feature 64  log_feature_feature 65  log_feature_feature 66  \\\n",
       "0                     0.0                     0.0                     0.0   \n",
       "1                     0.0                     0.0                     0.0   \n",
       "2                     0.0                     0.0                     0.0   \n",
       "\n",
       "   log_feature_feature 67  log_feature_feature 68  log_feature_feature 69  \\\n",
       "0                     0.0                     0.0                     0.0   \n",
       "1                     0.0                     0.0                     0.0   \n",
       "2                     0.0                     0.0                     0.0   \n",
       "\n",
       "   log_feature_feature 7  log_feature_feature 70  log_feature_feature 71  \\\n",
       "0                    0.0                     0.0                     0.0   \n",
       "1                    0.0                     0.0                     0.0   \n",
       "2                    0.0                     0.0                     0.0   \n",
       "\n",
       "   log_feature_feature 72  log_feature_feature 73  log_feature_feature 74  \\\n",
       "0                     0.0                     0.0                     0.0   \n",
       "1                     0.0                     0.0                     0.0   \n",
       "2                     0.0                     0.0                     0.0   \n",
       "\n",
       "   log_feature_feature 75  log_feature_feature 76  log_feature_feature 77  \\\n",
       "0                     0.0                     0.0                     0.0   \n",
       "1                     0.0                     0.0                     0.0   \n",
       "2                     0.0                     0.0                     0.0   \n",
       "\n",
       "   log_feature_feature 78  log_feature_feature 79  log_feature_feature 8  \\\n",
       "0                     0.0                     0.0                    0.0   \n",
       "1                     0.0                     0.0                    0.0   \n",
       "2                     0.0                     0.0                    0.0   \n",
       "\n",
       "   log_feature_feature 80  log_feature_feature 81  log_feature_feature 82  \\\n",
       "0                     0.0                     0.0                     0.0   \n",
       "1                     0.0                     0.0                     0.0   \n",
       "2                     0.0                     0.0                     0.0   \n",
       "\n",
       "   log_feature_feature 83  log_feature_feature 84  log_feature_feature 85  \\\n",
       "0                     0.0                     0.0                     0.0   \n",
       "1                     0.0                     0.0                     0.0   \n",
       "2                     0.0                     0.0                     0.0   \n",
       "\n",
       "   log_feature_feature 86  log_feature_feature 87  log_feature_feature 88  \\\n",
       "0                     0.0                     0.0                     0.0   \n",
       "1                     0.0                     0.0                     0.0   \n",
       "2                     0.0                     0.0                     0.0   \n",
       "\n",
       "   log_feature_feature 89  log_feature_feature 9  log_feature_feature 90  \\\n",
       "0                     0.0                    0.0                     0.0   \n",
       "1                     0.0                    0.0                     0.0   \n",
       "2                     0.0                    0.0                     0.0   \n",
       "\n",
       "   log_feature_feature 91  log_feature_feature 92  log_feature_feature 93  \\\n",
       "0                     0.0                     0.0                     0.0   \n",
       "1                     0.0                     0.0                     0.0   \n",
       "2                     0.0                     0.0                     0.0   \n",
       "\n",
       "   log_feature_feature 94  log_feature_feature 95  log_feature_feature 96  \\\n",
       "0                     0.0                     0.0                     0.0   \n",
       "1                     0.0                     0.0                     0.0   \n",
       "2                     0.0                     0.0                     0.0   \n",
       "\n",
       "   log_feature_feature 97  log_feature_feature 98  log_feature_feature 99  \n",
       "0                     0.0                     0.0                     0.0  \n",
       "1                     0.0                     0.0                     0.0  \n",
       "2                     0.0                     0.0                     0.0  \n",
       "\n",
       "[3 rows x 452 columns]"
      ]
     },
     "execution_count": 36,
     "metadata": {},
     "output_type": "execute_result"
    }
   ],
   "source": [
    "full_df.head(3)"
   ]
  },
  {
   "cell_type": "markdown",
   "metadata": {},
   "source": [
    "## Split back into Test and Train Sets"
   ]
  },
  {
   "cell_type": "code",
   "execution_count": 37,
   "metadata": {
    "collapsed": false
   },
   "outputs": [
    {
     "data": {
      "text/plain": [
       "(7381, 11171)"
      ]
     },
     "execution_count": 37,
     "metadata": {},
     "output_type": "execute_result"
    }
   ],
   "source": [
    "train_full = full_df[full_df.id.isin(train_ids)]\n",
    "test_full = full_df[full_df.id.isin(test_ids)]\n",
    "len(train_full),len(test_full)"
   ]
  },
  {
   "cell_type": "code",
   "execution_count": 110,
   "metadata": {
    "collapsed": true
   },
   "outputs": [],
   "source": [
    "X_train = train_full.iloc[:, 2:].values #training set, all data, no labels\n",
    "y_train = train_full.iloc[:, 0].values #training set, no data, only labels\n",
    "X_test = test_full.iloc[:, 2:].values #test set, all data values, no labels"
   ]
  },
  {
   "cell_type": "markdown",
   "metadata": {},
   "source": [
    "## Logistic Regression"
   ]
  },
  {
   "cell_type": "code",
   "execution_count": 42,
   "metadata": {
    "collapsed": false
   },
   "outputs": [],
   "source": [
    "from sklearn.pipeline import Pipeline\n",
    "from sklearn.grid_search import GridSearchCV\n",
    "from sklearn.model_selection import cross_val_score"
   ]
  },
  {
   "cell_type": "markdown",
   "metadata": {},
   "source": [
    "##### What is Logistic Regression?\n",
    "\n",
    "1.  classification model that can perform well on linearly separable classes\n",
    "2.  can be used for both binary and multi-class classification (via One v Rest)\n",
    "3.  logistic regression is grounded in probability, speficially looking at the odds in favor or a particular event\n",
    "4.  odds ratio = (probability of event we want to predict / (1 - probability of event we want to predict))\n",
    "5.  logit function, ie logarithm of odds ratio = \n",
    "        log(probability of event we want to predict / (1 - probability of event we want to predict))\n",
    "6.  logit function takes inputs between 0 and 1 and transforms the inputs into real numbers, which can be expressed as a linear relationship\n",
    "7.  logit(probability( event we want to predict given that the observation has feature x)) = w0x0 + w1x1 + ... + wnxn\n",
    "8.  we want the actual probability, so we use the logistic function (sometimes called sigmoid) which is the inverse of logit function\n",
    "        1 / (1 + log^-(w0x0 + w1x1 + ... + wnxn))\n",
    "10.  result is a probability that an observation belongs to a particular class\n",
    "11.  we can also convert the probabilities into binary outcomes via a quantizer (ex. if probability > 50%, then label as class 1)\n",
    "12.  optimizing via gradient ascent:  the weights for logistic regression are being optimized by maximizing the log-likelihood function\n",
    "12.  optimizing via gradient descent:  loglikelihood function is rewritten as a cost function that can be minimized in order to optimize the weights for logstic regression\n",
    "13.  with either optimization method, we penalize wrong predictions with an increasingly larger cost"
   ]
  },
  {
   "cell_type": "code",
   "execution_count": 163,
   "metadata": {
    "collapsed": true
   },
   "outputs": [],
   "source": [
    "from sklearn.linear_model import LogisticRegression\n",
    "\n",
    "logreg = LogisticRegression(random_state=1)\n",
    "logreg_l1 = LogisticRegression(penalty='l1',random_state=1)\n",
    "logreg_l2 = LogisticRegression(penalty='l2',random_state=1)"
   ]
  },
  {
   "cell_type": "markdown",
   "metadata": {},
   "source": [
    "##### Using Validation Curve to find Optimal C Parameter"
   ]
  },
  {
   "cell_type": "code",
   "execution_count": 164,
   "metadata": {
    "collapsed": false
   },
   "outputs": [],
   "source": [
    "from sklearn.learning_curve import validation_curve\n",
    "\n",
    "c_param_range = [0.001, 0.01, 0.1, 1, 10, 100, 1000]\n",
    "train_scores, test_scores = validation_curve(estimator=logreg_l2, X=X_train, y=y_train,\n",
    "                                            param_name = 'C',\n",
    "                                            param_range = c_param_range,\n",
    "                                            cv=10)"
   ]
  },
  {
   "cell_type": "code",
   "execution_count": 165,
   "metadata": {
    "collapsed": true
   },
   "outputs": [],
   "source": [
    "train_mean = np.mean(train_scores, axis=1)\n",
    "train_std = np.std(train_scores, axis=1)\n",
    "test_mean = np.mean(test_scores, axis=1)\n",
    "test_std = np.std(test_scores, axis=1)"
   ]
  },
  {
   "cell_type": "code",
   "execution_count": 181,
   "metadata": {
    "collapsed": false
   },
   "outputs": [
    {
     "data": {
      "text/plain": [
       "(0.6, 0.8)"
      ]
     },
     "execution_count": 181,
     "metadata": {},
     "output_type": "execute_result"
    },
    {
     "data": {
      "image/png": "[encoded data removed]",
      "text/plain": [
       "<matplotlib.figure.Figure at 0x11e83eb38>"
      ]
     },
     "metadata": {},
     "output_type": "display_data"
    }
   ],
   "source": [
    "plt.figure(figsize=(10,6))\n",
    "\n",
    "plt.plot(c_param_range, train_mean, color='blue', marker='o', markersize=5, label='training accuracy')\n",
    "plt.fill_between(c_param_range, train_mean + train_std, train_mean - train_std, alpha=.15, color='blue')\n",
    "plt.plot(c_param_range, test_mean, color='green', marker='o', markersize=5, label='validation accuracy')\n",
    "plt.fill_between(c_param_range, test_mean + test_std, test_mean - test_std, alpha=.15, color='green')\n",
    "\n",
    "plt.grid()\n",
    "plt.xscale('log')\n",
    "plt.legend(loc='lower right')\n",
    "plt.xlabel('C Parameter')\n",
    "plt.ylabel('Accuracy')\n",
    "plt.ylim(.6,.8)"
   ]
  },
  {
   "cell_type": "code",
   "execution_count": 191,
   "metadata": {
    "collapsed": false
   },
   "outputs": [
    {
     "name": "stdout",
     "output_type": "stream",
     "text": [
      "Accuracy: 0.682 +/- 0.005\n"
     ]
    }
   ],
   "source": [
    "print('Accuracy: %.3f +/- %.3f' % (np.mean(test_mean), np.std(test_mean)))"
   ]
  },
  {
   "cell_type": "code",
   "execution_count": null,
   "metadata": {
    "collapsed": true
   },
   "outputs": [],
   "source": [
    "lr_l2_1000 = LogisticRegression(penalty='l2', C=1000 ,random_state=1)\n",
    "lr_l2_1000.fit(X_train, y_train)"
   ]
  },
  {
   "cell_type": "markdown",
   "metadata": {},
   "source": [
    "##### Using Grid Search to find Optimal C Parameter and Optimal Regularization Method"
   ]
  },
  {
   "cell_type": "code",
   "execution_count": 137,
   "metadata": {
    "collapsed": true
   },
   "outputs": [],
   "source": [
    "penalty_params = ['l1','l2']\n",
    "c_params = [0.001, 0.01, 0.1, 1, 10, 100, 1000]\n",
    "param_grid = [{'penalty': penalty_params,\n",
    "               'C': c_params\n",
    "              }]"
   ]
  },
  {
   "cell_type": "code",
   "execution_count": 138,
   "metadata": {
    "collapsed": false
   },
   "outputs": [],
   "source": [
    "lr = GridSearchCV(estimator=logreg,\n",
    "                  param_grid=param_grid,\n",
    "                  scoring='accuracy',\n",
    "                  cv=10,\n",
    "                  n_jobs=-1)"
   ]
  },
  {
   "cell_type": "code",
   "execution_count": 139,
   "metadata": {
    "collapsed": true
   },
   "outputs": [],
   "source": [
    "lr_gs = lr.fit(X_train, y_train)"
   ]
  },
  {
   "cell_type": "code",
   "execution_count": 143,
   "metadata": {
    "collapsed": false
   },
   "outputs": [
    {
     "name": "stdout",
     "output_type": "stream",
     "text": [
      "0.6889310391545861\n"
     ]
    }
   ],
   "source": [
    "print(lr_gs.best_score_)"
   ]
  },
  {
   "cell_type": "code",
   "execution_count": 144,
   "metadata": {
    "collapsed": false
   },
   "outputs": [
    {
     "name": "stdout",
     "output_type": "stream",
     "text": [
      "{'penalty': 'l1', 'C': 1000}\n"
     ]
    }
   ],
   "source": [
    "print(lr_gs.best_params_)"
   ]
  },
  {
   "cell_type": "code",
   "execution_count": 145,
   "metadata": {
    "collapsed": false
   },
   "outputs": [
    {
     "name": "stdout",
     "output_type": "stream",
     "text": [
      "LogisticRegression(C=1000, class_weight=None, dual=False, fit_intercept=True,\n",
      "          intercept_scaling=1, max_iter=100, multi_class='ovr', n_jobs=1,\n",
      "          penalty='l1', random_state=1, solver='liblinear', tol=0.0001,\n",
      "          verbose=0, warm_start=False)\n"
     ]
    }
   ],
   "source": [
    "print(lr_gs.best_estimator_)"
   ]
  },
  {
   "cell_type": "code",
   "execution_count": 262,
   "metadata": {
    "collapsed": false
   },
   "outputs": [
    {
     "data": {
      "text/plain": [
       "LogisticRegression(C=1000, class_weight=None, dual=False, fit_intercept=True,\n",
       "          intercept_scaling=1, max_iter=100, multi_class='ovr', n_jobs=1,\n",
       "          penalty='l1', random_state=1, solver='liblinear', tol=0.0001,\n",
       "          verbose=0, warm_start=False)"
      ]
     },
     "execution_count": 262,
     "metadata": {},
     "output_type": "execute_result"
    }
   ],
   "source": [
    "lr_best = LogisticRegression(penalty='l1', C=1000, random_state=1)\n",
    "lr_best.fit(X_train, y_train)"
   ]
  },
  {
   "cell_type": "code",
   "execution_count": 183,
   "metadata": {
    "collapsed": false
   },
   "outputs": [],
   "source": [
    "cv_score_check = cross_val_score(lr_best, X_train, y_train, scoring='accuracy', cv=10)"
   ]
  },
  {
   "cell_type": "code",
   "execution_count": 184,
   "metadata": {
    "collapsed": false
   },
   "outputs": [
    {
     "data": {
      "text/plain": [
       "array([ 0.67972973,  0.68335589,  0.68064953,  0.69012179,  0.69105691,\n",
       "        0.68428184,  0.69335142,  0.6770692 ,  0.70691995,  0.70284939])"
      ]
     },
     "execution_count": 184,
     "metadata": {},
     "output_type": "execute_result"
    }
   ],
   "source": [
    "cv_score_check"
   ]
  },
  {
   "cell_type": "code",
   "execution_count": 185,
   "metadata": {
    "collapsed": false
   },
   "outputs": [
    {
     "name": "stdout",
     "output_type": "stream",
     "text": [
      "Accuracy: 0.689 +/- 0.009\n"
     ]
    }
   ],
   "source": [
    "print('Accuracy: %.3f +/- %.3f' % (np.mean(cv_score_check), np.std(cv_score_check)))"
   ]
  },
  {
   "cell_type": "markdown",
   "metadata": {},
   "source": [
    "##### Assessing Model Performance w/ Learning Curve"
   ]
  },
  {
   "cell_type": "code",
   "execution_count": 193,
   "metadata": {
    "collapsed": false
   },
   "outputs": [],
   "source": [
    "from sklearn.learning_curve import learning_curve\n",
    "training_sizes, training_scores, test_scores = learning_curve(estimator=lr_best,\n",
    "                                                             X=X_train,\n",
    "                                                             y=y_train,\n",
    "                                                             train_sizes=np.linspace(.1,1,10),\n",
    "                                                             cv=10,\n",
    "                                                             n_jobs=-1)"
   ]
  },
  {
   "cell_type": "code",
   "execution_count": 199,
   "metadata": {
    "collapsed": false
   },
   "outputs": [],
   "source": [
    "train_mean = np.mean(training_scores, axis=1)\n",
    "train_std = np.std(training_scores, axis=1)\n",
    "test_mean = np.mean(test_scores, axis=1)\n",
    "test_std = np.std(test_scores, axis=1)"
   ]
  },
  {
   "cell_type": "code",
   "execution_count": 202,
   "metadata": {
    "collapsed": false
   },
   "outputs": [
    {
     "data": {
      "text/plain": [
       "(500, 10000)"
      ]
     },
     "execution_count": 202,
     "metadata": {},
     "output_type": "execute_result"
    },
    {
     "data": {
      "image/png": "[encoded data removed]",
      "text/plain": [
       "<matplotlib.figure.Figure at 0x1598bb198>"
      ]
     },
     "metadata": {},
     "output_type": "display_data"
    }
   ],
   "source": [
    "plt.figure(figsize=(10,6))\n",
    "\n",
    "plt.plot(training_sizes, train_mean, color='blue', marker='o', markersize=5, label='training accuracy')\n",
    "plt.fill_between(training_sizes, train_mean + train_std, train_mean - train_std, alpha=.15, color='blue')\n",
    "plt.plot(training_sizes, test_mean, color='green', marker='o', markersize=5, label='validation accuracy')\n",
    "plt.fill_between(training_sizes, test_mean + test_std, test_mean - test_std, alpha=.15, color='green')\n",
    "\n",
    "plt.grid()\n",
    "plt.xscale('log')\n",
    "plt.legend(loc='lower right')\n",
    "plt.xlabel('# of training samples')\n",
    "plt.ylabel('accuracy')\n",
    "plt.ylim(.6,.8)\n",
    "plt.xlim(500,10000)"
   ]
  },
  {
   "cell_type": "markdown",
   "metadata": {},
   "source": [
    "##### PCA for Dimensionality Reduction w/ Logistic Regression"
   ]
  },
  {
   "cell_type": "code",
   "execution_count": 203,
   "metadata": {
    "collapsed": true
   },
   "outputs": [],
   "source": [
    "from sklearn.decomposition import PCA"
   ]
  },
  {
   "cell_type": "code",
   "execution_count": 219,
   "metadata": {
    "collapsed": false
   },
   "outputs": [],
   "source": [
    "pca = PCA(n_components=None)\n",
    "X_train_pca = pca.fit_transform(X_train)"
   ]
  },
  {
   "cell_type": "code",
   "execution_count": 223,
   "metadata": {
    "collapsed": false,
    "scrolled": true
   },
   "outputs": [
    {
     "data": {
      "text/plain": [
       "450"
      ]
     },
     "execution_count": 223,
     "metadata": {},
     "output_type": "execute_result"
    }
   ],
   "source": [
    "pca.n_components_ "
   ]
  },
  {
   "cell_type": "code",
   "execution_count": 224,
   "metadata": {
    "collapsed": false
   },
   "outputs": [
    {
     "data": {
      "text/plain": [
       "array([[ -9.99826245e-01,  -1.20888478e-04,  -1.20888478e-04, ...,\n",
       "          1.21687991e-07,   3.06715990e-06,   2.39303698e-07],\n",
       "       [ -2.75681460e-03,   3.95554661e-04,   3.95554661e-04, ...,\n",
       "         -2.09297634e-07,  -6.56130500e-07,  -3.84087025e-07],\n",
       "       [  1.25880578e-02,  -1.29180254e-03,  -1.29180254e-03, ...,\n",
       "         -1.97682468e-06,  -2.42688148e-05,  -4.07124306e-06],\n",
       "       ..., \n",
       "       [ -0.00000000e+00,   7.49520697e-19,  -3.79902548e-18, ...,\n",
       "         -2.46744644e-17,  -3.67389729e-19,   2.21006075e-17],\n",
       "       [  0.00000000e+00,  -2.78735672e-18,   2.50944080e-18, ...,\n",
       "          2.61413876e-17,   7.22236960e-19,  -2.73529988e-17],\n",
       "       [  0.00000000e+00,  -5.13316038e-02,   1.20502811e-02, ...,\n",
       "          2.95462171e-05,   3.37577188e-15,  -2.95462171e-05]])"
      ]
     },
     "execution_count": 224,
     "metadata": {},
     "output_type": "execute_result"
    }
   ],
   "source": [
    "pca.components_"
   ]
  },
  {
   "cell_type": "code",
   "execution_count": 225,
   "metadata": {
    "collapsed": false
   },
   "outputs": [],
   "source": [
    "var_exp = pca.explained_variance_ratio_ "
   ]
  },
  {
   "cell_type": "code",
   "execution_count": 226,
   "metadata": {
    "collapsed": false
   },
   "outputs": [],
   "source": [
    "cum_var_exp = np.cumsum(var_exp)"
   ]
  },
  {
   "cell_type": "code",
   "execution_count": 236,
   "metadata": {
    "collapsed": false
   },
   "outputs": [
    {
     "data": {
      "text/plain": [
       "(-50, 452)"
      ]
     },
     "execution_count": 236,
     "metadata": {},
     "output_type": "execute_result"
    },
    {
     "data": {
      "image/png": "[encoded data removed]",
      "text/plain": [
       "<matplotlib.figure.Figure at 0x12281e2e8>"
      ]
     },
     "metadata": {},
     "output_type": "display_data"
    }
   ],
   "source": [
    "plt.figure(figsize=(10,6))\n",
    "\n",
    "plt.plot(range(1,451), cum_var_exp, label='cumulative explained variance')\n",
    "\n",
    "plt.grid()\n",
    "plt.legend(loc='lower right')\n",
    "plt.xlabel('principle components')\n",
    "plt.ylabel('explained variance ratio')\n",
    "plt.ylim(0,1.1)\n",
    "plt.xlim(-50,452)"
   ]
  },
  {
   "cell_type": "code",
   "execution_count": 237,
   "metadata": {
    "collapsed": false,
    "scrolled": false
   },
   "outputs": [
    {
     "data": {
      "text/plain": [
       "(-5, 15)"
      ]
     },
     "execution_count": 237,
     "metadata": {},
     "output_type": "execute_result"
    },
    {
     "data": {
      "image/png": "[encoded data removed]",
      "text/plain": [
       "<matplotlib.figure.Figure at 0x1224aaa20>"
      ]
     },
     "metadata": {},
     "output_type": "display_data"
    }
   ],
   "source": [
    "plt.figure(figsize=(10,6))\n",
    "\n",
    "plt.plot(range(1,451), cum_var_exp, label='cumulative explained variance')\n",
    "\n",
    "plt.grid()\n",
    "plt.legend(loc='lower right')\n",
    "plt.xlabel('principle components')\n",
    "plt.ylabel('explained variance ratio')\n",
    "plt.ylim(.8,1.1)\n",
    "plt.xlim(-5,15)"
   ]
  },
  {
   "cell_type": "code",
   "execution_count": 275,
   "metadata": {
    "collapsed": true
   },
   "outputs": [],
   "source": [
    "pca_for_lr = PCA(n_components=10)\n",
    "X_train_pca =  pca_for_lr.fit_transform(X_train)\n",
    "X_test_pca =  pca_for_lr.fit_transform(X_test)"
   ]
  },
  {
   "cell_type": "code",
   "execution_count": 281,
   "metadata": {
    "collapsed": true
   },
   "outputs": [],
   "source": [
    "penalty_params = ['l1','l2']\n",
    "c_params = [0.001, 0.01, 0.1, 1, 10, 100, 1000]\n",
    "param_grid = [{'penalty': penalty_params,\n",
    "               'C': c_params\n",
    "              }]"
   ]
  },
  {
   "cell_type": "code",
   "execution_count": 287,
   "metadata": {
    "collapsed": true
   },
   "outputs": [],
   "source": [
    "lr_pca_gs = GridSearchCV(estimator=logreg,\n",
    "                  param_grid=param_grid,\n",
    "                  scoring='accuracy',\n",
    "                  cv=10,\n",
    "                  n_jobs=-1)"
   ]
  },
  {
   "cell_type": "code",
   "execution_count": 288,
   "metadata": {
    "collapsed": true
   },
   "outputs": [],
   "source": [
    "lr_pca_gs_test = lr_pca_gs.fit(X_train_pca, y_train)"
   ]
  },
  {
   "cell_type": "code",
   "execution_count": 289,
   "metadata": {
    "collapsed": false
   },
   "outputs": [
    {
     "name": "stdout",
     "output_type": "stream",
     "text": [
      "0.6702343855846091\n"
     ]
    }
   ],
   "source": [
    "print(lr_pca_gs_test.best_score_)"
   ]
  },
  {
   "cell_type": "code",
   "execution_count": 292,
   "metadata": {
    "collapsed": false
   },
   "outputs": [
    {
     "name": "stdout",
     "output_type": "stream",
     "text": [
      "{'penalty': 'l2', 'C': 0.001}\n"
     ]
    }
   ],
   "source": [
    "print(lr_pca_gs_test.best_params_)"
   ]
  },
  {
   "cell_type": "code",
   "execution_count": 293,
   "metadata": {
    "collapsed": true
   },
   "outputs": [],
   "source": [
    "lr_best_pca = LogisticRegression(penalty='l2', C=.001, random_state=1)"
   ]
  },
  {
   "cell_type": "code",
   "execution_count": 296,
   "metadata": {
    "collapsed": false
   },
   "outputs": [
    {
     "data": {
      "text/plain": [
       "LogisticRegression(C=0.001, class_weight=None, dual=False, fit_intercept=True,\n",
       "          intercept_scaling=1, max_iter=100, multi_class='ovr', n_jobs=1,\n",
       "          penalty='l2', random_state=1, solver='liblinear', tol=0.0001,\n",
       "          verbose=0, warm_start=False)"
      ]
     },
     "execution_count": 296,
     "metadata": {},
     "output_type": "execute_result"
    }
   ],
   "source": [
    "lr_best_pca.fit(X_train_pca, y_train)"
   ]
  },
  {
   "cell_type": "code",
   "execution_count": 294,
   "metadata": {
    "collapsed": true
   },
   "outputs": [],
   "source": [
    "cv_score_check = cross_val_score(lr_best_pca, X_train_pca, y_train, scoring='accuracy', cv=10)"
   ]
  },
  {
   "cell_type": "code",
   "execution_count": 295,
   "metadata": {
    "collapsed": false
   },
   "outputs": [
    {
     "name": "stdout",
     "output_type": "stream",
     "text": [
      "Accuracy: 0.670 +/- 0.007\n"
     ]
    }
   ],
   "source": [
    "print('Accuracy: %.3f +/- %.3f' % (np.mean(cv_score_check), np.std(cv_score_check)))"
   ]
  },
  {
   "cell_type": "code",
   "execution_count": 297,
   "metadata": {
    "collapsed": true
   },
   "outputs": [],
   "source": [
    "training_sizes, training_scores, test_scores = learning_curve(estimator=lr_best_pca,\n",
    "                                                             X=X_train_pca,\n",
    "                                                             y=y_train,\n",
    "                                                             train_sizes=np.linspace(.1,1,10),\n",
    "                                                             cv=10,\n",
    "                                                             n_jobs=-1)"
   ]
  },
  {
   "cell_type": "code",
   "execution_count": 298,
   "metadata": {
    "collapsed": true
   },
   "outputs": [],
   "source": [
    "train_mean = np.mean(training_scores, axis=1)\n",
    "train_std = np.std(training_scores, axis=1)\n",
    "test_mean = np.mean(test_scores, axis=1)\n",
    "test_std = np.std(test_scores, axis=1)"
   ]
  },
  {
   "cell_type": "code",
   "execution_count": 299,
   "metadata": {
    "collapsed": false
   },
   "outputs": [
    {
     "data": {
      "text/plain": [
       "(500, 10000)"
      ]
     },
     "execution_count": 299,
     "metadata": {},
     "output_type": "execute_result"
    },
    {
     "data": {
      "image/png": "[encoded data removed]",
      "text/plain": [
       "<matplotlib.figure.Figure at 0x122403208>"
      ]
     },
     "metadata": {},
     "output_type": "display_data"
    }
   ],
   "source": [
    "plt.figure(figsize=(10,6))\n",
    "\n",
    "plt.plot(training_sizes, train_mean, color='blue', marker='o', markersize=5, label='training accuracy')\n",
    "plt.fill_between(training_sizes, train_mean + train_std, train_mean - train_std, alpha=.15, color='blue')\n",
    "plt.plot(training_sizes, test_mean, color='green', marker='o', markersize=5, label='validation accuracy')\n",
    "plt.fill_between(training_sizes, test_mean + test_std, test_mean - test_std, alpha=.15, color='green')\n",
    "\n",
    "plt.grid()\n",
    "plt.xscale('log')\n",
    "plt.legend(loc='lower right')\n",
    "plt.xlabel('# of training samples')\n",
    "plt.ylabel('accuracy')\n",
    "plt.ylim(.6,.8)\n",
    "plt.xlim(500,10000)"
   ]
  },
  {
   "cell_type": "markdown",
   "metadata": {},
   "source": [
    "##### Logistic Regression Takeaways\n",
    "\n",
    "Grid Search indicates that the best parameters for logistic regression are using L1 regularization and a C parameter of 1000.  The learning curve for the model that uses the Grid Search parameters shows there is a modest amount of overfitting that is decreasing as training sample size increases.  Additionally, it seems like additional performance could be garned by continuing in crease training sample size.  \n",
    "\n",
    "Utilizing PCA resulted in a slightly accuracy for both training and validation sets.  This could be an indicator that the challenge is more linear than anticipated and reducing the dimensionality will hinder performance.  Feature engineering would likely be critical to increasing accuracy (especially in regards to assessing interaction effect between variables)."
   ]
  },
  {
   "cell_type": "markdown",
   "metadata": {},
   "source": [
    "##### Logistic Regression Submission for Kaggle"
   ]
  },
  {
   "cell_type": "code",
   "execution_count": 265,
   "metadata": {
    "collapsed": true
   },
   "outputs": [],
   "source": [
    "lr_submission = test_full.iloc[:,1:3] #id, location\n",
    "lr_submission['predict_0'] = lr_best.predict_proba(X_test)[:,0]\n",
    "lr_submission['predict_1'] = lr_best.predict_proba(X_test)[:,1]\n",
    "lr_submission['predict_2'] = lr_best.predict_proba(X_test)[:,2]\n",
    "lr_submission.drop('location', axis=1).to_csv('submission14.csv',index=False)"
   ]
  },
  {
   "cell_type": "code",
   "execution_count": 300,
   "metadata": {
    "collapsed": false
   },
   "outputs": [],
   "source": [
    "lr_pca_submission = test_full.iloc[:,1:3] #id, location\n",
    "lr_pca_submission['predict_0'] = lr_best_pca.predict_proba(X_test_pca)[:,0]\n",
    "lr_pca_submission['predict_1'] = lr_best_pca.predict_proba(X_test_pca)[:,1]\n",
    "lr_pca_submission['predict_2'] = lr_best_pca.predict_proba(X_test_pca)[:,2]\n",
    "lr_pca_submission.drop('location', axis=1).to_csv('submission15.csv',index=False)"
   ]
  },
  {
   "cell_type": "markdown",
   "metadata": {},
   "source": [
    "## Random Forest Classifier Predictions"
   ]
  },
  {
   "cell_type": "code",
   "execution_count": null,
   "metadata": {
    "collapsed": true
   },
   "outputs": [],
   "source": [
    "# the RandomForestClassifer is a flexible model that can be effective for high dimensional datasets and \n",
    "# non-linear problems.  \n",
    "# additionally, the RandomForestClassifer can typically perform well without much tuning\n",
    "# the trade-off is interpretability."
   ]
  },
  {
   "cell_type": "code",
   "execution_count": 43,
   "metadata": {
    "collapsed": true
   },
   "outputs": [],
   "source": [
    "from sklearn.ensemble import RandomForestClassifier\n",
    "forest = RandomForestClassifier(random_state=1,n_jobs=-1)"
   ]
  },
  {
   "cell_type": "code",
   "execution_count": 115,
   "metadata": {
    "collapsed": true
   },
   "outputs": [],
   "source": [
    "rfc_types = ['gini','entropy']\n",
    "n_estimator_params = [50,100,150,200,250,300,500]\n",
    "rfc_features = [10,20,30,40,50]\n",
    "param_grid = [{'criterion': rfc_types,\n",
    "              'n_estimators': n_estimator_params,\n",
    "               'max_features': rfc_features\n",
    "              }]"
   ]
  },
  {
   "cell_type": "code",
   "execution_count": 116,
   "metadata": {
    "collapsed": false
   },
   "outputs": [],
   "source": [
    "rfc = GridSearchCV(estimator=forest,\n",
    "                  param_grid=param_grid,\n",
    "                  scoring='accuracy',\n",
    "                  cv=10,\n",
    "                  n_jobs=-1)"
   ]
  },
  {
   "cell_type": "code",
   "execution_count": 117,
   "metadata": {
    "collapsed": false
   },
   "outputs": [],
   "source": [
    "rfc_gs = rfc.fit(X_train, y_train)"
   ]
  },
  {
   "cell_type": "code",
   "execution_count": 118,
   "metadata": {
    "collapsed": false
   },
   "outputs": [
    {
     "name": "stdout",
     "output_type": "stream",
     "text": [
      "0.7458338978458203\n"
     ]
    }
   ],
   "source": [
    "print(rfc_gs.best_score_)"
   ]
  },
  {
   "cell_type": "code",
   "execution_count": 119,
   "metadata": {
    "collapsed": false
   },
   "outputs": [
    {
     "name": "stdout",
     "output_type": "stream",
     "text": [
      "{'n_estimators': 500, 'criterion': 'gini', 'max_features': 50}\n"
     ]
    }
   ],
   "source": [
    "print(rfc_gs.best_params_)"
   ]
  },
  {
   "cell_type": "code",
   "execution_count": 120,
   "metadata": {
    "collapsed": false
   },
   "outputs": [
    {
     "name": "stdout",
     "output_type": "stream",
     "text": [
      "RandomForestClassifier(bootstrap=True, class_weight=None, criterion='gini',\n",
      "            max_depth=None, max_features=50, max_leaf_nodes=None,\n",
      "            min_impurity_split=1e-07, min_samples_leaf=1,\n",
      "            min_samples_split=2, min_weight_fraction_leaf=0.0,\n",
      "            n_estimators=500, n_jobs=-1, oob_score=False, random_state=1,\n",
      "            verbose=0, warm_start=False)\n"
     ]
    }
   ],
   "source": [
    "print(rfc_gs.best_estimator_)"
   ]
  },
  {
   "cell_type": "code",
   "execution_count": 102,
   "metadata": {
    "collapsed": true
   },
   "outputs": [],
   "source": [
    "cv_score_check = cross_val_score(rfc, X_train, y_train, scoring='accuracy', cv=10)"
   ]
  },
  {
   "cell_type": "code",
   "execution_count": 103,
   "metadata": {
    "collapsed": false
   },
   "outputs": [
    {
     "data": {
      "text/plain": [
       "array([ 0.72259811,  0.74322493,  0.74593496,  0.73238482,  0.74779661])"
      ]
     },
     "execution_count": 103,
     "metadata": {},
     "output_type": "execute_result"
    }
   ],
   "source": [
    "cv_score_check"
   ]
  },
  {
   "cell_type": "code",
   "execution_count": 104,
   "metadata": {
    "collapsed": false
   },
   "outputs": [
    {
     "name": "stdout",
     "output_type": "stream",
     "text": [
      "Accuracy: 0.738 +/- 0.010\n"
     ]
    }
   ],
   "source": [
    "print('Accuracy: %.3f +/- %.3f' % (np.mean(cv_score_check), np.std(cv_score_check)))"
   ]
  },
  {
   "cell_type": "markdown",
   "metadata": {},
   "source": [
    "##### Validation Curve for Finding Optimal Number of Trees"
   ]
  },
  {
   "cell_type": "code",
   "execution_count": 333,
   "metadata": {
    "collapsed": false
   },
   "outputs": [],
   "source": [
    "rfc_best = RandomForestClassifier(criterion = 'gini', max_features = 50, random_state=1,n_jobs=-1)\n",
    "n_estimator_params = [50,100,150,200,250,300,500,750]\n",
    "train_scores, test_scores = validation_curve(estimator=rfc_best, X=X_train, y=y_train,\n",
    "                                            param_name = 'n_estimators',\n",
    "                                            param_range = n_estimator_params,\n",
    "                                            cv=10)"
   ]
  },
  {
   "cell_type": "code",
   "execution_count": 334,
   "metadata": {
    "collapsed": true
   },
   "outputs": [],
   "source": [
    "train_mean = np.mean(train_scores, axis=1)\n",
    "train_std = np.std(train_scores, axis=1)\n",
    "test_mean = np.mean(test_scores, axis=1)\n",
    "test_std = np.std(test_scores, axis=1)"
   ]
  },
  {
   "cell_type": "code",
   "execution_count": 335,
   "metadata": {
    "collapsed": false
   },
   "outputs": [
    {
     "data": {
      "text/plain": [
       "(0.6, 1.1)"
      ]
     },
     "execution_count": 335,
     "metadata": {},
     "output_type": "execute_result"
    },
    {
     "data": {
      "image/png": "[encoded data removed]",
      "text/plain": [
       "<matplotlib.figure.Figure at 0x14b73a278>"
      ]
     },
     "metadata": {},
     "output_type": "display_data"
    }
   ],
   "source": [
    "plt.figure(figsize=(10,6))\n",
    "\n",
    "plt.plot(n_estimator_params, train_mean, color='blue', marker='o', markersize=5, label='training accuracy')\n",
    "plt.fill_between(n_estimator_params, train_mean + train_std, train_mean - train_std, alpha=.15, color='blue')\n",
    "plt.plot(n_estimator_params, test_mean, color='green', marker='o', markersize=5, label='validation accuracy')\n",
    "plt.fill_between(n_estimator_params, test_mean + test_std, test_mean - test_std, alpha=.15, color='green')\n",
    "\n",
    "plt.grid()\n",
    "plt.legend(loc='lower right')\n",
    "plt.xlabel('# of Trees')\n",
    "plt.ylabel('Accuracy')\n",
    "plt.ylim(.6,1.1)"
   ]
  },
  {
   "cell_type": "code",
   "execution_count": 327,
   "metadata": {
    "collapsed": true
   },
   "outputs": [],
   "source": [
    "rfc_best = RandomForestClassifier(n_estimators= 750,criterion = 'gini', max_features = 50, random_state=1,n_jobs=-1)\n",
    "rfc_best.fit(X_train,y_train)\n",
    "training_sizes, training_scores, test_scores = learning_curve(estimator=rfc_best,\n",
    "                                                             X=X_train,\n",
    "                                                             y=y_train,\n",
    "                                                             train_sizes=np.linspace(.1,1,10),\n",
    "                                                             cv=10,\n",
    "                                                             n_jobs=-1)"
   ]
  },
  {
   "cell_type": "code",
   "execution_count": 328,
   "metadata": {
    "collapsed": true
   },
   "outputs": [],
   "source": [
    "train_mean = np.mean(training_scores, axis=1)\n",
    "train_std = np.std(training_scores, axis=1)\n",
    "test_mean = np.mean(test_scores, axis=1)\n",
    "test_std = np.std(test_scores, axis=1)"
   ]
  },
  {
   "cell_type": "code",
   "execution_count": 331,
   "metadata": {
    "collapsed": false
   },
   "outputs": [
    {
     "data": {
      "text/plain": [
       "(500, 10000)"
      ]
     },
     "execution_count": 331,
     "metadata": {},
     "output_type": "execute_result"
    },
    {
     "data": {
      "image/png": "[encoded data removed]",
      "text/plain": [
       "<matplotlib.figure.Figure at 0x11ef798d0>"
      ]
     },
     "metadata": {},
     "output_type": "display_data"
    }
   ],
   "source": [
    "plt.figure(figsize=(10,6))\n",
    "\n",
    "plt.plot(training_sizes, train_mean, color='blue', marker='o', markersize=5, label='training accuracy')\n",
    "plt.fill_between(training_sizes, train_mean + train_std, train_mean - train_std, alpha=.15, color='blue')\n",
    "plt.plot(training_sizes, test_mean, color='green', marker='o', markersize=5, label='validation accuracy')\n",
    "plt.fill_between(training_sizes, test_mean + test_std, test_mean - test_std, alpha=.15, color='green')\n",
    "\n",
    "plt.grid()\n",
    "plt.xscale('log')\n",
    "plt.legend(loc='lower right')\n",
    "plt.xlabel('# of training samples')\n",
    "plt.ylabel('accuracy')\n",
    "plt.ylim(.6,1.1)\n",
    "plt.xlim(500,10000)"
   ]
  },
  {
   "cell_type": "markdown",
   "metadata": {},
   "source": [
    "##### RandomForestClassifier Takeaways\n",
    "\n",
    "Grid Search indicates that the RFC responds best to using gini criterion, 500 trees, and a maximum of 50 features.  When increasing the number of trees to 750 and analyzing performance according to the validation curve, one can see that the increase in trees returns a very modest increase in performance.  The gap between the training accuracy and the validatio accuracy in both the validation and learning curves indicates that the model is significantly overfitting the data.  However, it is important to note that the learning curve indicates that performance could be improved by providing more training samples, as validation accuracy is still trending positive."
   ]
  },
  {
   "cell_type": "markdown",
   "metadata": {},
   "source": [
    "##### RandomForestClassifier Submission for Kaggle"
   ]
  },
  {
   "cell_type": "code",
   "execution_count": 121,
   "metadata": {
    "collapsed": false
   },
   "outputs": [],
   "source": [
    "rf_submission = test_full.iloc[:,1:3] #id, location\n",
    "rf_submission['predict_0'] = rfc_gs.predict_proba(X_test)[:,0]\n",
    "rf_submission['predict_1'] = rfc_gs.predict_proba(X_test)[:,1]\n",
    "rf_submission['predict_2'] = rfc_gs.predict_proba(X_test)[:,2]\n",
    "rf_submission.drop('location', axis=1).to_csv('submission11.csv',index=False)"
   ]
  },
  {
   "cell_type": "markdown",
   "metadata": {},
   "source": [
    "## AdaBoost Prediction"
   ]
  },
  {
   "cell_type": "code",
   "execution_count": 237,
   "metadata": {
    "collapsed": true
   },
   "outputs": [],
   "source": [
    "# AdaBoost is an ensemble method with the base implementation using DecisionTreeClassifier.\n",
    "# The classification method focused on 'weak learners', where the base classifiers\n",
    "# have only a slightly better performance than random guessing.\n",
    "# after each round of boosting the misclassified samples receive a larger focus (and weight) \n",
    "# during the next round as to try to place a larger emphasis on correctly classifying them.\n",
    "# AdaBoost does not require substantial parameter tuning."
   ]
  },
  {
   "cell_type": "code",
   "execution_count": 122,
   "metadata": {
    "collapsed": true
   },
   "outputs": [],
   "source": [
    "from sklearn.ensemble import AdaBoostClassifier"
   ]
  },
  {
   "cell_type": "code",
   "execution_count": 123,
   "metadata": {
    "collapsed": false
   },
   "outputs": [],
   "source": [
    "# there is typically a trade-off between number of estimators and learning rate\n",
    "# a lower learning rate has the effect of making less corrections for each tree\n",
    "# added to the model, thereby typically needing more trees to correct for errors\n",
    "# let's run GridSearch and see what is recommended\n",
    "\n",
    "adaboost = AdaBoostClassifier(random_state=1)"
   ]
  },
  {
   "cell_type": "code",
   "execution_count": 127,
   "metadata": {
    "collapsed": true
   },
   "outputs": [],
   "source": [
    "n_estimator_params = [50,100,150,200,250,300,500]\n",
    "learning_rate_params = [.1,.2,.3]\n",
    "param_grid = [{'n_estimators': n_estimator_params,\n",
    "               'learning_rate': learning_rate_params\n",
    "              }]"
   ]
  },
  {
   "cell_type": "code",
   "execution_count": 128,
   "metadata": {
    "collapsed": true
   },
   "outputs": [],
   "source": [
    "ada = GridSearchCV(estimator=adaboost,\n",
    "                  param_grid=param_grid,\n",
    "                  scoring='accuracy',\n",
    "                  cv=10,\n",
    "                  n_jobs=-1)"
   ]
  },
  {
   "cell_type": "code",
   "execution_count": 129,
   "metadata": {
    "collapsed": false
   },
   "outputs": [],
   "source": [
    "ada_gs = ada.fit(X_train,y_train)"
   ]
  },
  {
   "cell_type": "code",
   "execution_count": 130,
   "metadata": {
    "collapsed": false
   },
   "outputs": [
    {
     "name": "stdout",
     "output_type": "stream",
     "text": [
      "0.7439371358894459\n"
     ]
    }
   ],
   "source": [
    "print(ada_gs.best_score_)"
   ]
  },
  {
   "cell_type": "code",
   "execution_count": 131,
   "metadata": {
    "collapsed": false
   },
   "outputs": [
    {
     "name": "stdout",
     "output_type": "stream",
     "text": [
      "{'n_estimators': 500, 'learning_rate': 0.2}\n"
     ]
    }
   ],
   "source": [
    "print(ada_gs.best_params_)"
   ]
  },
  {
   "cell_type": "code",
   "execution_count": 132,
   "metadata": {
    "collapsed": false
   },
   "outputs": [
    {
     "name": "stdout",
     "output_type": "stream",
     "text": [
      "AdaBoostClassifier(algorithm='SAMME.R', base_estimator=None,\n",
      "          learning_rate=0.2, n_estimators=500, random_state=1)\n"
     ]
    }
   ],
   "source": [
    "print(ada_gs.best_estimator_)"
   ]
  },
  {
   "cell_type": "code",
   "execution_count": null,
   "metadata": {
    "collapsed": true
   },
   "outputs": [],
   "source": [
    "cv_score_check = cross_val_score(ada, X_train, y_train, scoring='accuracy', cv=10)"
   ]
  },
  {
   "cell_type": "code",
   "execution_count": null,
   "metadata": {
    "collapsed": true
   },
   "outputs": [],
   "source": [
    "cv_score_check"
   ]
  },
  {
   "cell_type": "code",
   "execution_count": null,
   "metadata": {
    "collapsed": true
   },
   "outputs": [],
   "source": [
    "print('Accuracy: %.3f +/- %.3f' % (np.mean(cv_score_check), np.std(cv_score_check)))"
   ]
  },
  {
   "cell_type": "markdown",
   "metadata": {},
   "source": [
    "##### AdaBoost Takeaways\n",
    "\n",
    "The AdaBoost model seemed to respond well to increasing the number of trees up to 500 and then increasing the learning up to .20."
   ]
  },
  {
   "cell_type": "markdown",
   "metadata": {},
   "source": [
    "##### AdaBoost Classifier Submission for Kaggle"
   ]
  },
  {
   "cell_type": "code",
   "execution_count": 133,
   "metadata": {
    "collapsed": true
   },
   "outputs": [],
   "source": [
    "ada_submission = test_full.iloc[:,1:3] #id, location\n",
    "ada_submission['predict_0'] = ada_gs.predict_proba(X_test)[:,0]\n",
    "ada_submission['predict_1'] = ada_gs.predict_proba(X_test)[:,1]\n",
    "ada_submission['predict_2'] = ada_gs.predict_proba(X_test)[:,2]\n",
    "ada_submission.drop('location', axis=1).to_csv('submission12.csv',index=False)"
   ]
  },
  {
   "cell_type": "markdown",
   "metadata": {},
   "source": [
    "## Linear and Quadratic Discriminant Analysis"
   ]
  },
  {
   "cell_type": "code",
   "execution_count": 148,
   "metadata": {
    "collapsed": true
   },
   "outputs": [],
   "source": [
    "from sklearn.discriminant_analysis import QuadraticDiscriminantAnalysis\n",
    "qda = QuadraticDiscriminantAnalysis()"
   ]
  },
  {
   "cell_type": "markdown",
   "metadata": {},
   "source": [
    "##### QDA"
   ]
  },
  {
   "cell_type": "code",
   "execution_count": 305,
   "metadata": {
    "collapsed": false
   },
   "outputs": [
    {
     "data": {
      "text/plain": [
       "QuadraticDiscriminantAnalysis(priors=None, reg_param=0.0,\n",
       "               store_covariances=False, tol=0.0001)"
      ]
     },
     "execution_count": 305,
     "metadata": {},
     "output_type": "execute_result"
    }
   ],
   "source": [
    "qda.fit(X_train_pca,y_train)"
   ]
  },
  {
   "cell_type": "code",
   "execution_count": 306,
   "metadata": {
    "collapsed": false
   },
   "outputs": [],
   "source": [
    "cv_score_check = cross_val_score(qda, X_train_pca, y_train, scoring='accuracy', cv=10)"
   ]
  },
  {
   "cell_type": "code",
   "execution_count": 307,
   "metadata": {
    "collapsed": false
   },
   "outputs": [
    {
     "data": {
      "text/plain": [
       "array([ 0.29324324,  0.30717185,  0.28146143,  0.30852503,  0.30487805,\n",
       "        0.32655827,  0.31071913,  0.31343284,  0.31207598,  0.34328358])"
      ]
     },
     "execution_count": 307,
     "metadata": {},
     "output_type": "execute_result"
    }
   ],
   "source": [
    "cv_score_check"
   ]
  },
  {
   "cell_type": "code",
   "execution_count": null,
   "metadata": {
    "collapsed": true
   },
   "outputs": [],
   "source": [
    "qda_submission = test_full.iloc[:,1:3] #id, location\n",
    "qda_submission['predict_0'] = qda.predict_proba(X_test_pca)[:,0]\n",
    "qda_submission['predict_1'] = qda.predict_proba(X_test_pca)[:,1]\n",
    "qda_submission['predict_2'] = qda.predict_proba(X_test_pca)[:,2]\n",
    "qda_submission.drop('location', axis=1).to_csv('submission16.csv',index=False)"
   ]
  },
  {
   "cell_type": "markdown",
   "metadata": {
    "collapsed": true
   },
   "source": [
    "##### LDA"
   ]
  },
  {
   "cell_type": "code",
   "execution_count": 152,
   "metadata": {
    "collapsed": true
   },
   "outputs": [],
   "source": [
    "from sklearn.discriminant_analysis import LinearDiscriminantAnalysis\n",
    "lda = LinearDiscriminantAnalysis()"
   ]
  },
  {
   "cell_type": "code",
   "execution_count": null,
   "metadata": {
    "collapsed": true
   },
   "outputs": [],
   "source": [
    "sklearn.preprocessing import StandardScaler\n",
    "stdsc = StandardScaler()\n",
    "X_train_pca_std = stdsc.fit_transform(X_train_pca)\n",
    "X_test_pca_std = stdsc.fit_transform(X_test_pca)"
   ]
  },
  {
   "cell_type": "code",
   "execution_count": 308,
   "metadata": {
    "collapsed": false
   },
   "outputs": [
    {
     "name": "stderr",
     "output_type": "stream",
     "text": [
      "/Users/leeeyler/anaconda3/lib/python3.5/site-packages/sklearn/discriminant_analysis.py:455: UserWarning: The priors do not sum to 1. Renormalizing\n",
      "  UserWarning)\n"
     ]
    },
    {
     "data": {
      "text/plain": [
       "LinearDiscriminantAnalysis(n_components=None, priors=None, shrinkage=None,\n",
       "              solver='svd', store_covariance=False, tol=0.0001)"
      ]
     },
     "execution_count": 308,
     "metadata": {},
     "output_type": "execute_result"
    }
   ],
   "source": [
    "lda.fit(X_train_pca_std,y_train)"
   ]
  },
  {
   "cell_type": "code",
   "execution_count": 310,
   "metadata": {
    "collapsed": false
   },
   "outputs": [
    {
     "name": "stderr",
     "output_type": "stream",
     "text": [
      "/Users/leeeyler/anaconda3/lib/python3.5/site-packages/sklearn/discriminant_analysis.py:455: UserWarning: The priors do not sum to 1. Renormalizing\n",
      "  UserWarning)\n",
      "/Users/leeeyler/anaconda3/lib/python3.5/site-packages/sklearn/discriminant_analysis.py:455: UserWarning: The priors do not sum to 1. Renormalizing\n",
      "  UserWarning)\n",
      "/Users/leeeyler/anaconda3/lib/python3.5/site-packages/sklearn/discriminant_analysis.py:455: UserWarning: The priors do not sum to 1. Renormalizing\n",
      "  UserWarning)\n",
      "/Users/leeeyler/anaconda3/lib/python3.5/site-packages/sklearn/discriminant_analysis.py:455: UserWarning: The priors do not sum to 1. Renormalizing\n",
      "  UserWarning)\n"
     ]
    }
   ],
   "source": [
    "cv_score_check = cross_val_score(lda, X_train_pca_std, y_train, scoring='accuracy', cv=10)"
   ]
  },
  {
   "cell_type": "code",
   "execution_count": 311,
   "metadata": {
    "collapsed": false
   },
   "outputs": [
    {
     "data": {
      "text/plain": [
       "array([ 0.65810811,  0.66170501,  0.66847091,  0.67523681,  0.67208672,\n",
       "        0.66666667,  0.66078697,  0.66214383,  0.6743555 ,  0.67164179])"
      ]
     },
     "execution_count": 311,
     "metadata": {},
     "output_type": "execute_result"
    }
   ],
   "source": [
    "cv_score_check"
   ]
  },
  {
   "cell_type": "code",
   "execution_count": null,
   "metadata": {
    "collapsed": true
   },
   "outputs": [],
   "source": [
    "lda_submission = test_full.iloc[:,1:3] #id, location\n",
    "lda_submission['predict_0'] = lda.predict_proba(X_test_pca)[:,0]\n",
    "lda_submission['predict_1'] = lda.predict_proba(X_test_pca)[:,1]\n",
    "lda_submission['predict_2'] = lda.predict_proba(X_test_pca)[:,2]\n",
    "lda_submission.drop('location', axis=1).to_csv('submission17.csv',index=False)"
   ]
  },
  {
   "cell_type": "markdown",
   "metadata": {},
   "source": [
    "## XGBoost"
   ]
  },
  {
   "cell_type": "code",
   "execution_count": 348,
   "metadata": {
    "collapsed": false
   },
   "outputs": [],
   "source": [
    "#import sys; sys.version"
   ]
  },
  {
   "cell_type": "code",
   "execution_count": 346,
   "metadata": {
    "collapsed": false
   },
   "outputs": [],
   "source": [
    "#import xgboost as xgb\n",
    "\n",
    "#xgboost implementation, no sklearn\n",
    "#xgb_params = {'booster':: 'gbtree', 'n_estimators': 500, 'learning_rate': .1, \n",
    "#              'objective': 'multi:softmax', 'eval_metric': 'mlogloss'}\n",
    "#xgb_m = XGBClassifier()\n",
    "#xgdmat = xgb.DMatrix(X_train, y_train) #xgb data type\n",
    "#xgb_m.fit(xgdmat, xgb_params)"
   ]
  },
  {
   "cell_type": "code",
   "execution_count": 347,
   "metadata": {
    "collapsed": false
   },
   "outputs": [],
   "source": [
    "#from xgboost import XGBClassifier"
   ]
  },
  {
   "cell_type": "code",
   "execution_count": null,
   "metadata": {
    "collapsed": true
   },
   "outputs": [],
   "source": [
    "#xgb_m = XGBClassifier(booster = 'gbtree', n_estimators=500, learning_rate=.1,\n",
    "                     objective='multi:softmax', eval_metric='mlogloss')\n",
    "#xgdmat = xgb.DMatrix(X_train, y_train) #xgb data type\n",
    "#xgb_m.fit(xgdmat)\n",
    "#xgb_m.fit(train_X, train_y)"
   ]
  },
  {
   "cell_type": "code",
   "execution_count": null,
   "metadata": {
    "collapsed": true
   },
   "outputs": [],
   "source": [
    "#cv_score_check = cross_val_score(xgb_m, train_X, y_train, scoring='accuracy', cv=10)\n",
    "#cv_score_check"
   ]
  },
  {
   "cell_type": "code",
   "execution_count": null,
   "metadata": {
    "collapsed": true
   },
   "outputs": [],
   "source": [
    "#xgb_submission = test_full.iloc[:,1:3] #id, location\n",
    "#xgb_submission['predict_0'] = xgb.predict_proba(X_test)[:,0]\n",
    "#xgb_submission['predict_1'] = xgb.predict_proba(X_test)[:,1]\n",
    "#xgb_submission['predict_2'] = xgb.predict_proba(X_test)[:,2]\n",
    "#xgb_submission.drop('location', axis=1).to_csv('submission17.csv',index=False)"
   ]
  }
 ],
 "metadata": {
  "anaconda-cloud": {},
  "kernelspec": {
   "display_name": "Python [Root]",
   "language": "python",
   "name": "Python [Root]"
  },
  "language_info": {
   "codemirror_mode": {
    "name": "ipython",
    "version": 3
   },
   "file_extension": ".py",
   "mimetype": "text/x-python",
   "name": "python",
   "nbconvert_exporter": "python",
   "pygments_lexer": "ipython3",
   "version": "3.5.2"
  }
 },
 "nbformat": 4,
 "nbformat_minor": 0
}
